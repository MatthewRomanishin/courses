{
  "nbformat": 4,
  "nbformat_minor": 0,
  "metadata": {
    "colab": {
      "name": "HW_visualization_1.ipynb",
      "provenance": [],
      "collapsed_sections": [],
      "toc_visible": true,
      "include_colab_link": true
    },
    "kernelspec": {
      "name": "python3",
      "display_name": "Python 3"
    }
  },
  "cells": [
    {
      "cell_type": "markdown",
      "metadata": {
        "id": "view-in-github",
        "colab_type": "text"
      },
      "source": [
        "<a href=\"https://colab.research.google.com/github/MatthewRomanishin/courses/blob/main/My_first_steps/visualization_1.ipynb\" target=\"_parent\"><img src=\"https://colab.research.google.com/assets/colab-badge.svg\" alt=\"Open In Colab\"/></a>"
      ]
    },
    {
      "cell_type": "code",
      "metadata": {
        "id": "qkGEqTnEWCE0",
        "outputId": "8b62a101-26c6-4c0a-ca6e-c368bf7a62de",
        "colab": {
          "base_uri": "https://localhost:8080/",
          "height": 34
        }
      },
      "source": [
        "from google.colab import drive\n",
        "drive.mount('/content/gdrive')"
      ],
      "execution_count": null,
      "outputs": [
        {
          "output_type": "stream",
          "text": [
            "Mounted at /content/gdrive\n"
          ],
          "name": "stdout"
        }
      ]
    },
    {
      "cell_type": "code",
      "metadata": {
        "id": "sEeMd52lV5Lq",
        "outputId": "94b51585-2690-4bda-e6c1-8c3a5b5b62c3",
        "colab": {
          "base_uri": "https://localhost:8080/",
          "height": 51
        }
      },
      "source": [
        "import pandas as pd\n",
        "\n",
        "import seaborn as sns\n",
        "import matplotlib.pyplot as plt\n",
        "%matplotlib inline"
      ],
      "execution_count": null,
      "outputs": [
        {
          "output_type": "stream",
          "text": [
            "/usr/local/lib/python3.6/dist-packages/statsmodels/tools/_testing.py:19: FutureWarning: pandas.util.testing is deprecated. Use the functions in the public API at pandas.testing instead.\n",
            "  import pandas.util.testing as tm\n"
          ],
          "name": "stderr"
        }
      ]
    },
    {
      "cell_type": "markdown",
      "metadata": {
        "id": "U8_pYmwMYdnZ"
      },
      "source": [
        "# Визуальный анализ данных о публикациях на Хабрахабре\n"
      ]
    },
    {
      "cell_type": "code",
      "metadata": {
        "id": "wF9amMvLYPZx",
        "outputId": "e15a085c-8cdc-4537-c25b-32ffb7720aef",
        "colab": {
          "base_uri": "https://localhost:8080/",
          "height": 34
        }
      },
      "source": [
        "# df = pd.read_csv('/content/gdrive/My Drive/Introduction to DS/data/howpop_train.csv')\n",
        "df = pd.read_csv('/content/gdrive/My Drive/notebooks/Introduction to DS/data/howpop_train.csv')\n",
        "print(df.shape)"
      ],
      "execution_count": null,
      "outputs": [
        {
          "output_type": "stream",
          "text": [
            "(134137, 17)\n"
          ],
          "name": "stdout"
        }
      ]
    },
    {
      "cell_type": "code",
      "metadata": {
        "id": "sV6eGafRYwXB",
        "outputId": "cba0c00b-afc0-4b0e-c8c2-a1f3ed251715",
        "colab": {
          "base_uri": "https://localhost:8080/",
          "height": 576
        }
      },
      "source": [
        "df.head(3).T"
      ],
      "execution_count": null,
      "outputs": [
        {
          "output_type": "execute_result",
          "data": {
            "text/html": [
              "<div>\n",
              "<style scoped>\n",
              "    .dataframe tbody tr th:only-of-type {\n",
              "        vertical-align: middle;\n",
              "    }\n",
              "\n",
              "    .dataframe tbody tr th {\n",
              "        vertical-align: top;\n",
              "    }\n",
              "\n",
              "    .dataframe thead th {\n",
              "        text-align: right;\n",
              "    }\n",
              "</style>\n",
              "<table border=\"1\" class=\"dataframe\">\n",
              "  <thead>\n",
              "    <tr style=\"text-align: right;\">\n",
              "      <th></th>\n",
              "      <th>0</th>\n",
              "      <th>1</th>\n",
              "      <th>2</th>\n",
              "    </tr>\n",
              "  </thead>\n",
              "  <tbody>\n",
              "    <tr>\n",
              "      <th>url</th>\n",
              "      <td>https://habrahabr.ru/post/18284/</td>\n",
              "      <td>https://habrahabr.ru/post/18285/</td>\n",
              "      <td>https://habrahabr.ru/post/18286/</td>\n",
              "    </tr>\n",
              "    <tr>\n",
              "      <th>domain</th>\n",
              "      <td>habrahabr.ru</td>\n",
              "      <td>habrahabr.ru</td>\n",
              "      <td>habrahabr.ru</td>\n",
              "    </tr>\n",
              "    <tr>\n",
              "      <th>post_id</th>\n",
              "      <td>18284</td>\n",
              "      <td>18285</td>\n",
              "      <td>18286</td>\n",
              "    </tr>\n",
              "    <tr>\n",
              "      <th>published</th>\n",
              "      <td>2008-01-01 18:19:00</td>\n",
              "      <td>2008-01-01 18:30:00</td>\n",
              "      <td>2008-01-01 18:34:00</td>\n",
              "    </tr>\n",
              "    <tr>\n",
              "      <th>author</th>\n",
              "      <td>@Tapac</td>\n",
              "      <td>@DezmASter</td>\n",
              "      <td>@DezmASter</td>\n",
              "    </tr>\n",
              "    <tr>\n",
              "      <th>flow</th>\n",
              "      <td>develop</td>\n",
              "      <td>design</td>\n",
              "      <td>design</td>\n",
              "    </tr>\n",
              "    <tr>\n",
              "      <th>polling</th>\n",
              "      <td>False</td>\n",
              "      <td>False</td>\n",
              "      <td>False</td>\n",
              "    </tr>\n",
              "    <tr>\n",
              "      <th>content_len</th>\n",
              "      <td>4305</td>\n",
              "      <td>7344</td>\n",
              "      <td>8431</td>\n",
              "    </tr>\n",
              "    <tr>\n",
              "      <th>title</th>\n",
              "      <td>Новогодний подарок блоггерам — WordPress 2.3.2</td>\n",
              "      <td>Сумасшедшие яйца, или сервис для отслеживания ...</td>\n",
              "      <td>Сумасшедшие яйца, или сервис для отслеживания ...</td>\n",
              "    </tr>\n",
              "    <tr>\n",
              "      <th>comments</th>\n",
              "      <td>0</td>\n",
              "      <td>1</td>\n",
              "      <td>47</td>\n",
              "    </tr>\n",
              "    <tr>\n",
              "      <th>favs</th>\n",
              "      <td>0</td>\n",
              "      <td>1</td>\n",
              "      <td>72</td>\n",
              "    </tr>\n",
              "    <tr>\n",
              "      <th>views</th>\n",
              "      <td>236</td>\n",
              "      <td>353</td>\n",
              "      <td>1200</td>\n",
              "    </tr>\n",
              "    <tr>\n",
              "      <th>votes_plus</th>\n",
              "      <td>0</td>\n",
              "      <td>1</td>\n",
              "      <td>45</td>\n",
              "    </tr>\n",
              "    <tr>\n",
              "      <th>votes_minus</th>\n",
              "      <td>0</td>\n",
              "      <td>0</td>\n",
              "      <td>5</td>\n",
              "    </tr>\n",
              "    <tr>\n",
              "      <th>views_lognorm</th>\n",
              "      <td>-0.792687</td>\n",
              "      <td>-0.485214</td>\n",
              "      <td>0.44609</td>\n",
              "    </tr>\n",
              "    <tr>\n",
              "      <th>favs_lognorm</th>\n",
              "      <td>-1.34407</td>\n",
              "      <td>-0.831946</td>\n",
              "      <td>1.79402</td>\n",
              "    </tr>\n",
              "    <tr>\n",
              "      <th>comments_lognorm</th>\n",
              "      <td>-2.43687</td>\n",
              "      <td>-1.87319</td>\n",
              "      <td>0.574656</td>\n",
              "    </tr>\n",
              "  </tbody>\n",
              "</table>\n",
              "</div>"
            ],
            "text/plain": [
              "                                                               0  ...                                                  2\n",
              "url                             https://habrahabr.ru/post/18284/  ...                   https://habrahabr.ru/post/18286/\n",
              "domain                                              habrahabr.ru  ...                                       habrahabr.ru\n",
              "post_id                                                    18284  ...                                              18286\n",
              "published                                    2008-01-01 18:19:00  ...                                2008-01-01 18:34:00\n",
              "author                                                    @Tapac  ...                                         @DezmASter\n",
              "flow                                                     develop  ...                                             design\n",
              "polling                                                    False  ...                                              False\n",
              "content_len                                                 4305  ...                                               8431\n",
              "title             Новогодний подарок блоггерам — WordPress 2.3.2  ...  Сумасшедшие яйца, или сервис для отслеживания ...\n",
              "comments                                                       0  ...                                                 47\n",
              "favs                                                           0  ...                                                 72\n",
              "views                                                        236  ...                                               1200\n",
              "votes_plus                                                     0  ...                                                 45\n",
              "votes_minus                                                    0  ...                                                  5\n",
              "views_lognorm                                          -0.792687  ...                                            0.44609\n",
              "favs_lognorm                                            -1.34407  ...                                            1.79402\n",
              "comments_lognorm                                        -2.43687  ...                                           0.574656\n",
              "\n",
              "[17 rows x 3 columns]"
            ]
          },
          "metadata": {
            "tags": []
          },
          "execution_count": 4
        }
      ]
    },
    {
      "cell_type": "code",
      "metadata": {
        "id": "SzMcZBtI0SHW",
        "outputId": "d33b5e7d-cc4b-4feb-ec02-1d69acaf08b9",
        "colab": {
          "base_uri": "https://localhost:8080/",
          "height": 34
        }
      },
      "source": [
        "from google.colab import drive\n",
        "drive.mount('/content/drive')"
      ],
      "execution_count": null,
      "outputs": [
        {
          "output_type": "stream",
          "text": [
            "Mounted at /content/drive\n"
          ],
          "name": "stdout"
        }
      ]
    },
    {
      "cell_type": "markdown",
      "metadata": {
        "id": "ABJpwgaYY5fb"
      },
      "source": [
        "Избавимся сразу от переменных, названия которых заканчиваются на `_lognorm` (нужны для соревнования на Kaggle). Выберем их с помощью `filter()` и удалим `drop`-ом:"
      ]
    },
    {
      "cell_type": "code",
      "metadata": {
        "id": "olGlEK7aY1U3"
      },
      "source": [
        "df.drop(filter(lambda c: c.endswith('_lognorm'), df.columns), \n",
        "        axis = 1,       # axis = 1: столбцы \n",
        "        inplace = True) # избавляет от необходимости сохранять датасет"
      ],
      "execution_count": null,
      "outputs": []
    },
    {
      "cell_type": "code",
      "metadata": {
        "id": "MJfqkxJnY64z",
        "outputId": "408cdb96-bdf3-4e91-8e87-17249a84a5fe",
        "colab": {
          "base_uri": "https://localhost:8080/",
          "height": 266
        }
      },
      "source": [
        "df.describe().T"
      ],
      "execution_count": null,
      "outputs": [
        {
          "output_type": "execute_result",
          "data": {
            "text/html": [
              "<div>\n",
              "<style scoped>\n",
              "    .dataframe tbody tr th:only-of-type {\n",
              "        vertical-align: middle;\n",
              "    }\n",
              "\n",
              "    .dataframe tbody tr th {\n",
              "        vertical-align: top;\n",
              "    }\n",
              "\n",
              "    .dataframe thead th {\n",
              "        text-align: right;\n",
              "    }\n",
              "</style>\n",
              "<table border=\"1\" class=\"dataframe\">\n",
              "  <thead>\n",
              "    <tr style=\"text-align: right;\">\n",
              "      <th></th>\n",
              "      <th>count</th>\n",
              "      <th>mean</th>\n",
              "      <th>std</th>\n",
              "      <th>min</th>\n",
              "      <th>25%</th>\n",
              "      <th>50%</th>\n",
              "      <th>75%</th>\n",
              "      <th>max</th>\n",
              "    </tr>\n",
              "  </thead>\n",
              "  <tbody>\n",
              "    <tr>\n",
              "      <th>post_id</th>\n",
              "      <td>134137.0</td>\n",
              "      <td>181307.054265</td>\n",
              "      <td>81766.350702</td>\n",
              "      <td>18284.0</td>\n",
              "      <td>115565.0</td>\n",
              "      <td>182666.0</td>\n",
              "      <td>257401.0</td>\n",
              "      <td>314088.0</td>\n",
              "    </tr>\n",
              "    <tr>\n",
              "      <th>content_len</th>\n",
              "      <td>134137.0</td>\n",
              "      <td>7516.929699</td>\n",
              "      <td>8724.771640</td>\n",
              "      <td>1.0</td>\n",
              "      <td>2179.0</td>\n",
              "      <td>4949.0</td>\n",
              "      <td>9858.0</td>\n",
              "      <td>352471.0</td>\n",
              "    </tr>\n",
              "    <tr>\n",
              "      <th>comments</th>\n",
              "      <td>134137.0</td>\n",
              "      <td>39.625994</td>\n",
              "      <td>62.398958</td>\n",
              "      <td>0.0</td>\n",
              "      <td>7.0</td>\n",
              "      <td>19.0</td>\n",
              "      <td>48.0</td>\n",
              "      <td>2266.0</td>\n",
              "    </tr>\n",
              "    <tr>\n",
              "      <th>favs</th>\n",
              "      <td>134137.0</td>\n",
              "      <td>71.999866</td>\n",
              "      <td>145.854135</td>\n",
              "      <td>0.0</td>\n",
              "      <td>8.0</td>\n",
              "      <td>27.0</td>\n",
              "      <td>78.0</td>\n",
              "      <td>8718.0</td>\n",
              "    </tr>\n",
              "    <tr>\n",
              "      <th>views</th>\n",
              "      <td>134137.0</td>\n",
              "      <td>16631.013084</td>\n",
              "      <td>31479.819691</td>\n",
              "      <td>3.0</td>\n",
              "      <td>2100.0</td>\n",
              "      <td>7600.0</td>\n",
              "      <td>18700.0</td>\n",
              "      <td>1730000.0</td>\n",
              "    </tr>\n",
              "    <tr>\n",
              "      <th>votes_plus</th>\n",
              "      <td>133566.0</td>\n",
              "      <td>35.536888</td>\n",
              "      <td>42.461073</td>\n",
              "      <td>0.0</td>\n",
              "      <td>11.0</td>\n",
              "      <td>22.0</td>\n",
              "      <td>45.0</td>\n",
              "      <td>1466.0</td>\n",
              "    </tr>\n",
              "    <tr>\n",
              "      <th>votes_minus</th>\n",
              "      <td>133566.0</td>\n",
              "      <td>8.050035</td>\n",
              "      <td>11.398282</td>\n",
              "      <td>0.0</td>\n",
              "      <td>2.0</td>\n",
              "      <td>5.0</td>\n",
              "      <td>10.0</td>\n",
              "      <td>445.0</td>\n",
              "    </tr>\n",
              "  </tbody>\n",
              "</table>\n",
              "</div>"
            ],
            "text/plain": [
              "                count           mean  ...       75%        max\n",
              "post_id      134137.0  181307.054265  ...  257401.0   314088.0\n",
              "content_len  134137.0    7516.929699  ...    9858.0   352471.0\n",
              "comments     134137.0      39.625994  ...      48.0     2266.0\n",
              "favs         134137.0      71.999866  ...      78.0     8718.0\n",
              "views        134137.0   16631.013084  ...   18700.0  1730000.0\n",
              "votes_plus   133566.0      35.536888  ...      45.0     1466.0\n",
              "votes_minus  133566.0       8.050035  ...      10.0      445.0\n",
              "\n",
              "[7 rows x 8 columns]"
            ]
          },
          "metadata": {
            "tags": []
          },
          "execution_count": 8
        }
      ]
    },
    {
      "cell_type": "code",
      "metadata": {
        "id": "7KcCIaEcY75f",
        "outputId": "9f9c6db9-2bf8-474c-ff0a-275c4c7ed894",
        "colab": {
          "base_uri": "https://localhost:8080/",
          "height": 266
        }
      },
      "source": [
        "df.describe(include = ['object', 'bool'] # бинарные и категориальные переменные\n",
        "           ).T"
      ],
      "execution_count": null,
      "outputs": [
        {
          "output_type": "execute_result",
          "data": {
            "text/html": [
              "<div>\n",
              "<style scoped>\n",
              "    .dataframe tbody tr th:only-of-type {\n",
              "        vertical-align: middle;\n",
              "    }\n",
              "\n",
              "    .dataframe tbody tr th {\n",
              "        vertical-align: top;\n",
              "    }\n",
              "\n",
              "    .dataframe thead th {\n",
              "        text-align: right;\n",
              "    }\n",
              "</style>\n",
              "<table border=\"1\" class=\"dataframe\">\n",
              "  <thead>\n",
              "    <tr style=\"text-align: right;\">\n",
              "      <th></th>\n",
              "      <th>count</th>\n",
              "      <th>unique</th>\n",
              "      <th>top</th>\n",
              "      <th>freq</th>\n",
              "    </tr>\n",
              "  </thead>\n",
              "  <tbody>\n",
              "    <tr>\n",
              "      <th>url</th>\n",
              "      <td>134137</td>\n",
              "      <td>134137</td>\n",
              "      <td>https://habrahabr.ru/company/skbkontur/blog/28...</td>\n",
              "      <td>1</td>\n",
              "    </tr>\n",
              "    <tr>\n",
              "      <th>domain</th>\n",
              "      <td>134137</td>\n",
              "      <td>2</td>\n",
              "      <td>habrahabr.ru</td>\n",
              "      <td>97048</td>\n",
              "    </tr>\n",
              "    <tr>\n",
              "      <th>published</th>\n",
              "      <td>134137</td>\n",
              "      <td>130291</td>\n",
              "      <td>2011-06-14 15:52:00</td>\n",
              "      <td>39</td>\n",
              "    </tr>\n",
              "    <tr>\n",
              "      <th>author</th>\n",
              "      <td>97657</td>\n",
              "      <td>22077</td>\n",
              "      <td>@alizar</td>\n",
              "      <td>5292</td>\n",
              "    </tr>\n",
              "    <tr>\n",
              "      <th>flow</th>\n",
              "      <td>97048</td>\n",
              "      <td>6</td>\n",
              "      <td>develop</td>\n",
              "      <td>53318</td>\n",
              "    </tr>\n",
              "    <tr>\n",
              "      <th>polling</th>\n",
              "      <td>134137</td>\n",
              "      <td>2</td>\n",
              "      <td>False</td>\n",
              "      <td>129412</td>\n",
              "    </tr>\n",
              "    <tr>\n",
              "      <th>title</th>\n",
              "      <td>134137</td>\n",
              "      <td>133628</td>\n",
              "      <td>Интересные события, произошедшие в выходные</td>\n",
              "      <td>56</td>\n",
              "    </tr>\n",
              "  </tbody>\n",
              "</table>\n",
              "</div>"
            ],
            "text/plain": [
              "            count  ...    freq\n",
              "url        134137  ...       1\n",
              "domain     134137  ...   97048\n",
              "published  134137  ...      39\n",
              "author      97657  ...    5292\n",
              "flow        97048  ...   53318\n",
              "polling    134137  ...  129412\n",
              "title      134137  ...      56\n",
              "\n",
              "[7 rows x 4 columns]"
            ]
          },
          "metadata": {
            "tags": []
          },
          "execution_count": 9
        }
      ]
    },
    {
      "cell_type": "code",
      "metadata": {
        "id": "6aDLXPr8Y9kP"
      },
      "source": [
        "# настройка внешнего вида графиков в seaborn\n",
        "sns.set_style(\"whitegrid\")\n",
        "# sns.set_palette(\"RdBu\")\n",
        "sns.set_context(\"notebook\", font_scale = 1.5, \n",
        "                rc = { \"figure.figsize\" : (15, 5), \"axes.titlesize\" : 18 })"
      ],
      "execution_count": null,
      "outputs": []
    },
    {
      "cell_type": "markdown",
      "metadata": {
        "id": "6_1FSxJ_ZBL6"
      },
      "source": [
        "Столбец **`published`** (время публикации) содержит строки. Чтобы мы могли работать с этими данными как с датой/временем публикации, приведём их к типу `datetime`:"
      ]
    },
    {
      "cell_type": "code",
      "metadata": {
        "id": "f6q6yyHwY_CH",
        "outputId": "b16677e0-8184-4b7f-c2a4-7e6aaee11612",
        "colab": {
          "base_uri": "https://localhost:8080/",
          "height": 51
        }
      },
      "source": [
        "print(df.published.dtype)\n",
        "df['published'] = pd.to_datetime(df.published, yearfirst = True)\n",
        "print(df.published.dtype)"
      ],
      "execution_count": null,
      "outputs": [
        {
          "output_type": "stream",
          "text": [
            "datetime64[ns]\n",
            "datetime64[ns]\n"
          ],
          "name": "stdout"
        }
      ]
    },
    {
      "cell_type": "markdown",
      "metadata": {
        "id": "rgkyvxUTZE4R"
      },
      "source": [
        "Создадим несколько столбцов на основе данных о времени публикации:"
      ]
    },
    {
      "cell_type": "code",
      "metadata": {
        "id": "gqDnw52uZDMk",
        "outputId": "996f223c-306c-43c4-b506-cf80a5b1bf85",
        "colab": {
          "base_uri": "https://localhost:8080/",
          "height": 1000
        }
      },
      "source": [
        "df['year'] = [d.year for d in df.published]\n",
        "df['month'] = [d.month for d in df.published]\n",
        "\n",
        "df['dayofweek'] = [d.isoweekday() for d in df.published]\n",
        "df['hour'] = [d.hour for d in df.published]\n",
        "df"
      ],
      "execution_count": null,
      "outputs": [
        {
          "output_type": "execute_result",
          "data": {
            "text/html": [
              "<div>\n",
              "<style scoped>\n",
              "    .dataframe tbody tr th:only-of-type {\n",
              "        vertical-align: middle;\n",
              "    }\n",
              "\n",
              "    .dataframe tbody tr th {\n",
              "        vertical-align: top;\n",
              "    }\n",
              "\n",
              "    .dataframe thead th {\n",
              "        text-align: right;\n",
              "    }\n",
              "</style>\n",
              "<table border=\"1\" class=\"dataframe\">\n",
              "  <thead>\n",
              "    <tr style=\"text-align: right;\">\n",
              "      <th></th>\n",
              "      <th>url</th>\n",
              "      <th>domain</th>\n",
              "      <th>post_id</th>\n",
              "      <th>published</th>\n",
              "      <th>author</th>\n",
              "      <th>flow</th>\n",
              "      <th>polling</th>\n",
              "      <th>content_len</th>\n",
              "      <th>title</th>\n",
              "      <th>comments</th>\n",
              "      <th>favs</th>\n",
              "      <th>views</th>\n",
              "      <th>votes_plus</th>\n",
              "      <th>votes_minus</th>\n",
              "      <th>year</th>\n",
              "      <th>month</th>\n",
              "      <th>dayofweek</th>\n",
              "      <th>hour</th>\n",
              "    </tr>\n",
              "  </thead>\n",
              "  <tbody>\n",
              "    <tr>\n",
              "      <th>97666</th>\n",
              "      <td>https://habrahabr.ru/post/251783/</td>\n",
              "      <td>habrahabr.ru</td>\n",
              "      <td>251783</td>\n",
              "      <td>2015-03-01 00:00:00</td>\n",
              "      <td>@SLY_G</td>\n",
              "      <td>develop</td>\n",
              "      <td>False</td>\n",
              "      <td>49647</td>\n",
              "      <td>Введение в разработку слайд-шоу на JavaScript</td>\n",
              "      <td>6</td>\n",
              "      <td>375</td>\n",
              "      <td>42900</td>\n",
              "      <td>15.0</td>\n",
              "      <td>4.0</td>\n",
              "      <td>2015</td>\n",
              "      <td>3</td>\n",
              "      <td>7</td>\n",
              "      <td>0</td>\n",
              "    </tr>\n",
              "    <tr>\n",
              "      <th>97667</th>\n",
              "      <td>https://habrahabr.ru/company/kolibrios/blog/23...</td>\n",
              "      <td>habrahabr.ru</td>\n",
              "      <td>239033</td>\n",
              "      <td>2015-03-01 00:09:00</td>\n",
              "      <td>NaN</td>\n",
              "      <td>develop</td>\n",
              "      <td>False</td>\n",
              "      <td>8581</td>\n",
              "      <td>Дайджест KolibriOS #7: как мы зиму перезимовали</td>\n",
              "      <td>14</td>\n",
              "      <td>22</td>\n",
              "      <td>17600</td>\n",
              "      <td>36.0</td>\n",
              "      <td>2.0</td>\n",
              "      <td>2015</td>\n",
              "      <td>3</td>\n",
              "      <td>7</td>\n",
              "      <td>0</td>\n",
              "    </tr>\n",
              "    <tr>\n",
              "      <th>97668</th>\n",
              "      <td>https://habrahabr.ru/post/286286/</td>\n",
              "      <td>habrahabr.ru</td>\n",
              "      <td>286286</td>\n",
              "      <td>2015-03-01 07:13:00</td>\n",
              "      <td>@semen_grinshtein</td>\n",
              "      <td>misc</td>\n",
              "      <td>False</td>\n",
              "      <td>1883</td>\n",
              "      <td>9 марта компания Apple сделает то, что не дела...</td>\n",
              "      <td>12</td>\n",
              "      <td>3</td>\n",
              "      <td>9300</td>\n",
              "      <td>16.0</td>\n",
              "      <td>4.0</td>\n",
              "      <td>2015</td>\n",
              "      <td>3</td>\n",
              "      <td>7</td>\n",
              "      <td>7</td>\n",
              "    </tr>\n",
              "    <tr>\n",
              "      <th>97669</th>\n",
              "      <td>https://habrahabr.ru/post/251347/</td>\n",
              "      <td>habrahabr.ru</td>\n",
              "      <td>251347</td>\n",
              "      <td>2015-03-01 07:52:00</td>\n",
              "      <td>@Makeman</td>\n",
              "      <td>develop</td>\n",
              "      <td>False</td>\n",
              "      <td>48658</td>\n",
              "      <td>Context Model Pattern via Aero Framework</td>\n",
              "      <td>6</td>\n",
              "      <td>66</td>\n",
              "      <td>6600</td>\n",
              "      <td>8.0</td>\n",
              "      <td>4.0</td>\n",
              "      <td>2015</td>\n",
              "      <td>3</td>\n",
              "      <td>7</td>\n",
              "      <td>7</td>\n",
              "    </tr>\n",
              "    <tr>\n",
              "      <th>97670</th>\n",
              "      <td>https://habrahabr.ru/post/251765/</td>\n",
              "      <td>habrahabr.ru</td>\n",
              "      <td>251765</td>\n",
              "      <td>2015-03-01 10:30:00</td>\n",
              "      <td>@Doomer3D</td>\n",
              "      <td>develop</td>\n",
              "      <td>False</td>\n",
              "      <td>40374</td>\n",
              "      <td>Заполнение текстовых шаблонов данными на основ...</td>\n",
              "      <td>4</td>\n",
              "      <td>39</td>\n",
              "      <td>6200</td>\n",
              "      <td>5.0</td>\n",
              "      <td>1.0</td>\n",
              "      <td>2015</td>\n",
              "      <td>3</td>\n",
              "      <td>7</td>\n",
              "      <td>10</td>\n",
              "    </tr>\n",
              "    <tr>\n",
              "      <th>...</th>\n",
              "      <td>...</td>\n",
              "      <td>...</td>\n",
              "      <td>...</td>\n",
              "      <td>...</td>\n",
              "      <td>...</td>\n",
              "      <td>...</td>\n",
              "      <td>...</td>\n",
              "      <td>...</td>\n",
              "      <td>...</td>\n",
              "      <td>...</td>\n",
              "      <td>...</td>\n",
              "      <td>...</td>\n",
              "      <td>...</td>\n",
              "      <td>...</td>\n",
              "      <td>...</td>\n",
              "      <td>...</td>\n",
              "      <td>...</td>\n",
              "      <td>...</td>\n",
              "    </tr>\n",
              "    <tr>\n",
              "      <th>99850</th>\n",
              "      <td>https://geektimes.ru/post/248196/</td>\n",
              "      <td>geektimes.ru</td>\n",
              "      <td>248196</td>\n",
              "      <td>2015-03-31 22:53:00</td>\n",
              "      <td>@alizar</td>\n",
              "      <td>NaN</td>\n",
              "      <td>True</td>\n",
              "      <td>2671</td>\n",
              "      <td>Гражданский кодекс Франции теперь на Github</td>\n",
              "      <td>15</td>\n",
              "      <td>10</td>\n",
              "      <td>7000</td>\n",
              "      <td>12.0</td>\n",
              "      <td>2.0</td>\n",
              "      <td>2015</td>\n",
              "      <td>3</td>\n",
              "      <td>2</td>\n",
              "      <td>22</td>\n",
              "    </tr>\n",
              "    <tr>\n",
              "      <th>99851</th>\n",
              "      <td>https://habrahabr.ru/post/254561/</td>\n",
              "      <td>habrahabr.ru</td>\n",
              "      <td>254561</td>\n",
              "      <td>2015-03-31 22:54:00</td>\n",
              "      <td>@LOGX</td>\n",
              "      <td>develop</td>\n",
              "      <td>False</td>\n",
              "      <td>5534</td>\n",
              "      <td>Управление складом: на «волнах» операций</td>\n",
              "      <td>1</td>\n",
              "      <td>39</td>\n",
              "      <td>5600</td>\n",
              "      <td>10.0</td>\n",
              "      <td>1.0</td>\n",
              "      <td>2015</td>\n",
              "      <td>3</td>\n",
              "      <td>2</td>\n",
              "      <td>22</td>\n",
              "    </tr>\n",
              "    <tr>\n",
              "      <th>99852</th>\n",
              "      <td>https://habrahabr.ru/post/254563/</td>\n",
              "      <td>habrahabr.ru</td>\n",
              "      <td>254563</td>\n",
              "      <td>2015-03-31 22:54:00</td>\n",
              "      <td>@NikolayJuly</td>\n",
              "      <td>develop</td>\n",
              "      <td>False</td>\n",
              "      <td>8917</td>\n",
              "      <td>Облегчаем поддержку iOS приложения. Часть 1 — ...</td>\n",
              "      <td>7</td>\n",
              "      <td>83</td>\n",
              "      <td>6200</td>\n",
              "      <td>3.0</td>\n",
              "      <td>2.0</td>\n",
              "      <td>2015</td>\n",
              "      <td>3</td>\n",
              "      <td>2</td>\n",
              "      <td>22</td>\n",
              "    </tr>\n",
              "    <tr>\n",
              "      <th>99853</th>\n",
              "      <td>https://habrahabr.ru/post/254565/</td>\n",
              "      <td>habrahabr.ru</td>\n",
              "      <td>254565</td>\n",
              "      <td>2015-03-31 23:03:00</td>\n",
              "      <td>@Ludoedushka</td>\n",
              "      <td>develop</td>\n",
              "      <td>False</td>\n",
              "      <td>10489</td>\n",
              "      <td>Топ-5 самых дурацких антивирусов. Записки хули...</td>\n",
              "      <td>34</td>\n",
              "      <td>117</td>\n",
              "      <td>85300</td>\n",
              "      <td>92.0</td>\n",
              "      <td>22.0</td>\n",
              "      <td>2015</td>\n",
              "      <td>3</td>\n",
              "      <td>2</td>\n",
              "      <td>23</td>\n",
              "    </tr>\n",
              "    <tr>\n",
              "      <th>99854</th>\n",
              "      <td>https://geektimes.ru/post/248200/</td>\n",
              "      <td>geektimes.ru</td>\n",
              "      <td>248200</td>\n",
              "      <td>2015-03-31 23:19:00</td>\n",
              "      <td>@jeston</td>\n",
              "      <td>NaN</td>\n",
              "      <td>False</td>\n",
              "      <td>3034</td>\n",
              "      <td>Дешёвых ChromeOS-устройств стало больше: хромо...</td>\n",
              "      <td>11</td>\n",
              "      <td>11</td>\n",
              "      <td>11400</td>\n",
              "      <td>17.0</td>\n",
              "      <td>0.0</td>\n",
              "      <td>2015</td>\n",
              "      <td>3</td>\n",
              "      <td>2</td>\n",
              "      <td>23</td>\n",
              "    </tr>\n",
              "  </tbody>\n",
              "</table>\n",
              "<p>2189 rows × 18 columns</p>\n",
              "</div>"
            ],
            "text/plain": [
              "                                                     url  ... hour\n",
              "97666                  https://habrahabr.ru/post/251783/  ...    0\n",
              "97667  https://habrahabr.ru/company/kolibrios/blog/23...  ...    0\n",
              "97668                  https://habrahabr.ru/post/286286/  ...    7\n",
              "97669                  https://habrahabr.ru/post/251347/  ...    7\n",
              "97670                  https://habrahabr.ru/post/251765/  ...   10\n",
              "...                                                  ...  ...  ...\n",
              "99850                  https://geektimes.ru/post/248196/  ...   22\n",
              "99851                  https://habrahabr.ru/post/254561/  ...   22\n",
              "99852                  https://habrahabr.ru/post/254563/  ...   22\n",
              "99853                  https://habrahabr.ru/post/254565/  ...   23\n",
              "99854                  https://geektimes.ru/post/248200/  ...   23\n",
              "\n",
              "[2189 rows x 18 columns]"
            ]
          },
          "metadata": {
            "tags": []
          },
          "execution_count": 83
        }
      ]
    },
    {
      "cell_type": "markdown",
      "metadata": {
        "id": "P68D2vgmZHdd"
      },
      "source": [
        "-----\n",
        "Теперь Ваша очередь. В каждом пункте предлагается построить картинку. Конечно, можно попытаться ответить на все вопросы только с Pandas, без картинок, но мы советуем Вам потренироваться строить (красивые) визуализации.   "
      ]
    },
    {
      "cell_type": "markdown",
      "metadata": {
        "id": "Z4sYboluZNtY"
      },
      "source": [
        "## 1\\. В каком месяце (и какого года) было больше всего публикаций?\n",
        "\n",
        "* март 2016\n",
        "* март 2015\n",
        "* апрель 2015\n",
        "* апрель 2016"
      ]
    },
    {
      "cell_type": "code",
      "metadata": {
        "id": "ZVbTI2M8ZHs_",
        "outputId": "7a4d96b7-7cf0-4261-ab37-5a4ceb5f0620",
        "colab": {
          "base_uri": "https://localhost:8080/",
          "height": 347
        }
      },
      "source": [
        "data = {'Март 2016': df[(df['year'] == 2016) & (df['month'] == 3)].shape[0],\n",
        "        'Март 2015': df[(df['year'] == 2015) & (df['month'] == 3)].shape[0],\n",
        "        'Апрель 2015': df[(df['year'] == 2015) & (df['month'] == 4)].shape[0],\n",
        "        'Апрель 2016': df[(df['year'] == 2016) & (df['month'] == 4)].shape[0]\n",
        "        }\n",
        "names = list(data.keys())\n",
        "values = list(data.values())\n",
        "fig, axs = plt.subplots(figsize=(9, 5), sharey=True)\n",
        "axs.bar(names, values)"
      ],
      "execution_count": null,
      "outputs": [
        {
          "output_type": "execute_result",
          "data": {
            "text/plain": [
              "<BarContainer object of 4 artists>"
            ]
          },
          "metadata": {
            "tags": []
          },
          "execution_count": 21
        },
        {
          "output_type": "display_data",
          "data": {
            "image/png": "[encoded data removed]",
            "text/plain": [
              "<Figure size 648x360 with 1 Axes>"
            ]
          },
          "metadata": {
            "tags": []
          }
        }
      ]
    },
    {
      "cell_type": "code",
      "metadata": {
        "id": "81urcQB5NuQq",
        "outputId": "1ca4f859-73dd-4373-b9e7-dd43c73c3e06",
        "colab": {
          "base_uri": "https://localhost:8080/",
          "height": 298
        }
      },
      "source": [
        "fig, ax = plt.subplots()\n",
        "\n",
        "(df[(df['year'].isin([2015, 2016])) & (df['month'].isin([3, 4]))]\n",
        " .groupby(['year', 'month']).size().plot(kind='bar', ax=ax))\n",
        "ax.set_xticklabels(ax.get_xticklabels(), rotation=0);"
      ],
      "execution_count": null,
      "outputs": [
        {
          "output_type": "display_data",
          "data": {
            "image/png": "[encoded data removed]",
            "text/plain": [
              "<Figure size 432x288 with 1 Axes>"
            ]
          },
          "metadata": {
            "tags": []
          }
        }
      ]
    },
    {
      "cell_type": "code",
      "metadata": {
        "id": "Z81W_26bO-0c"
      },
      "source": [
        "pd.DataFrame.plot?"
      ],
      "execution_count": null,
      "outputs": []
    },
    {
      "cell_type": "markdown",
      "metadata": {
        "id": "ClxYoJBXZQdr"
      },
      "source": [
        "## 2\\. Проанализируйте публикации в месяце из предыдущего вопроса\n",
        "\n",
        "Выберите один или несколько вариантов:\n",
        "\n",
        "* Один или несколько дней сильно выделяются из общей картины\n",
        "* На хабре _всегда_ больше статей, чем на гиктаймсе\n",
        "* По субботам на гиктаймс и на хабрахабр публикуют примерно одинаковое число статей\n",
        "\n",
        "Подсказки: постройте график зависимости числа публикаций от дня; используйте параметр `hue`; не заморачивайтесь сильно с ответами и не ищите скрытого смысла :)"
      ]
    },
    {
      "cell_type": "code",
      "metadata": {
        "id": "B2FGKte8QccC",
        "outputId": "71abc5a3-260d-49ef-d5e1-b2f894845236",
        "colab": {
          "base_uri": "https://localhost:8080/",
          "height": 398
        }
      },
      "source": [
        "df = df[(df['year'] == 2015) & (df['month'] == 3)]\n",
        "data = df.groupby(['domain', 'dayofweek'], as_index=False)['published'].count()\n",
        "\n",
        "fig, ax = plt.subplots()\n",
        "\n",
        "sns.lineplot(data['dayofweek'], data['published'], hue=data['domain'], ax=ax, marker='o')\n",
        "ax.set_xticks(data['dayofweek'].unique())\n",
        "ax.set_yticks(np.linspace(0, data['published'].max(), 10))\n",
        "ax.legend(bbox_to_anchor=(0.8, 1.5), loc=1, \n",
        "          frameon=True, shadow=True, fancybox=True); # "
      ],
      "execution_count": null,
      "outputs": [
        {
          "output_type": "display_data",
          "data": {
            "image/png": "[encoded data removed]",
            "text/plain": [
              "<Figure size 432x288 with 1 Axes>"
            ]
          },
          "metadata": {
            "tags": []
          }
        }
      ]
    },
    {
      "cell_type": "code",
      "metadata": {
        "id": "6pWdsk6RZNMQ",
        "outputId": "449ed11f-a61d-44cc-b008-648a464359b2",
        "colab": {
          "base_uri": "https://localhost:8080/",
          "height": 315
        }
      },
      "source": [
        "march = df[(df['year'] == 2015) & (df['month'] == 3)]\n",
        "march.groupby('dayofweek')['published'].count().plot(kind='bar', rot=2)"
      ],
      "execution_count": null,
      "outputs": [
        {
          "output_type": "execute_result",
          "data": {
            "text/plain": [
              "<matplotlib.axes._subplots.AxesSubplot at 0x7f439d7144e0>"
            ]
          },
          "metadata": {
            "tags": []
          },
          "execution_count": 61
        },
        {
          "output_type": "display_data",
          "data": {
            "image/png": "[encoded data removed]",
            "text/plain": [
              "<Figure size 432x288 with 1 Axes>"
            ]
          },
          "metadata": {
            "tags": []
          }
        }
      ]
    },
    {
      "cell_type": "code",
      "metadata": {
        "id": "nBC_-WOSumTc",
        "outputId": "5d90b968-af86-4433-97ef-105fc5d648aa",
        "colab": {
          "base_uri": "https://localhost:8080/",
          "height": 301
        }
      },
      "source": [
        "march.pivot_table(index='dayofweek', values='title', aggfunc='count', columns='domain').plot(kind = 'bar', rot=30);"
      ],
      "execution_count": null,
      "outputs": [
        {
          "output_type": "display_data",
          "data": {
            "image/png": "[encoded data removed]",
            "text/plain": [
              "<Figure size 432x288 with 1 Axes>"
            ]
          },
          "metadata": {
            "tags": []
          }
        }
      ]
    },
    {
      "cell_type": "code",
      "metadata": {
        "id": "PDez4NKFvWPR",
        "outputId": "d4f74dd3-1956-45a0-9965-739969efe2ff",
        "colab": {
          "base_uri": "https://localhost:8080/",
          "height": 297
        }
      },
      "source": [
        "march[march['dayofweek'] ==6]['domain'].value_counts().plot(kind = 'bar', rot=0)"
      ],
      "execution_count": null,
      "outputs": [
        {
          "output_type": "execute_result",
          "data": {
            "text/plain": [
              "<matplotlib.axes._subplots.AxesSubplot at 0x7f4397c9aba8>"
            ]
          },
          "metadata": {
            "tags": []
          },
          "execution_count": 63
        },
        {
          "output_type": "display_data",
          "data": {
            "image/png": "[encoded data removed]",
            "text/plain": [
              "<Figure size 432x288 with 1 Axes>"
            ]
          },
          "metadata": {
            "tags": []
          }
        }
      ]
    },
    {
      "cell_type": "markdown",
      "metadata": {
        "id": "dNl_waHoZTSY"
      },
      "source": [
        "## 3\\. Когда лучше всего публиковать статью?\n",
        "\n",
        "* Больше всего просмотров набирают статьи, опубликованные в 12 часов дня\n",
        "* У опубликованных в 10 утра постов больше всего комментариев\n",
        "* Больше всего просмотров набирают статьи, опубликованные в 6 часов утра\n",
        "* Максимальное число комментариев на гиктаймсе набрала статья, опубликованная в 9 часов вечера\n",
        "* На хабре дневные статьи комментируют чаще, чем вечерние"
      ]
    },
    {
      "cell_type": "code",
      "metadata": {
        "id": "VlC4CCcNWO5H",
        "outputId": "53ee110d-67a2-4b04-fc04-b505d1e63cc1",
        "colab": {
          "base_uri": "https://localhost:8080/",
          "height": 318
        }
      },
      "source": [
        "df.groupby('hour')['views'].count().sort_values(ascending=False).plot(kind='bar')"
      ],
      "execution_count": null,
      "outputs": [
        {
          "output_type": "execute_result",
          "data": {
            "text/plain": [
              "<matplotlib.axes._subplots.AxesSubplot at 0x7f4397dd2d30>"
            ]
          },
          "metadata": {
            "tags": []
          },
          "execution_count": 73
        },
        {
          "output_type": "display_data",
          "data": {
            "image/png": "[encoded data removed]",
            "text/plain": [
              "<Figure size 432x288 with 1 Axes>"
            ]
          },
          "metadata": {
            "tags": []
          }
        }
      ]
    },
    {
      "cell_type": "code",
      "metadata": {
        "id": "el-cNAVXZVGf",
        "outputId": "d83a7be7-8f87-4b90-ceb6-4c57f5502923",
        "colab": {
          "base_uri": "https://localhost:8080/",
          "height": 319
        }
      },
      "source": [
        "df.groupby('hour')[['views']].mean().sort_values('views', ascending=False).plot(kind='bar')"
      ],
      "execution_count": null,
      "outputs": [
        {
          "output_type": "execute_result",
          "data": {
            "text/plain": [
              "<matplotlib.axes._subplots.AxesSubplot at 0x7f5d715a1278>"
            ]
          },
          "metadata": {
            "tags": []
          },
          "execution_count": 26
        },
        {
          "output_type": "display_data",
          "data": {
            "image/png": "[encoded data removed]",
            "text/plain": [
              "<Figure size 432x288 with 1 Axes>"
            ]
          },
          "metadata": {
            "tags": []
          }
        }
      ]
    },
    {
      "cell_type": "code",
      "metadata": {
        "id": "8GUP2M-fyGBk",
        "outputId": "d686f8fe-654c-46a8-9578-4ac5a0863690",
        "colab": {
          "base_uri": "https://localhost:8080/",
          "height": 319
        }
      },
      "source": [
        "df.groupby('hour')['comments'].count().plot(kind='bar')"
      ],
      "execution_count": null,
      "outputs": [
        {
          "output_type": "execute_result",
          "data": {
            "text/plain": [
              "<matplotlib.axes._subplots.AxesSubplot at 0x7f5d7213e320>"
            ]
          },
          "metadata": {
            "tags": []
          },
          "execution_count": 23
        },
        {
          "output_type": "display_data",
          "data": {
            "image/png": "[encoded data removed]",
            "text/plain": [
              "<Figure size 432x288 with 1 Axes>"
            ]
          },
          "metadata": {
            "tags": []
          }
        }
      ]
    },
    {
      "cell_type": "code",
      "metadata": {
        "id": "cUgnN79dy7OZ",
        "outputId": "ab773c56-6595-45c1-cc47-23e284fe85a6",
        "colab": {
          "base_uri": "https://localhost:8080/",
          "height": 512
        }
      },
      "source": [
        "df[df['domain']=='geektimes.ru'].sort_values('comments', ascending=False).head()"
      ],
      "execution_count": null,
      "outputs": [
        {
          "output_type": "execute_result",
          "data": {
            "text/html": [
              "<div>\n",
              "<style scoped>\n",
              "    .dataframe tbody tr th:only-of-type {\n",
              "        vertical-align: middle;\n",
              "    }\n",
              "\n",
              "    .dataframe tbody tr th {\n",
              "        vertical-align: top;\n",
              "    }\n",
              "\n",
              "    .dataframe thead th {\n",
              "        text-align: right;\n",
              "    }\n",
              "</style>\n",
              "<table border=\"1\" class=\"dataframe\">\n",
              "  <thead>\n",
              "    <tr style=\"text-align: right;\">\n",
              "      <th></th>\n",
              "      <th>url</th>\n",
              "      <th>domain</th>\n",
              "      <th>post_id</th>\n",
              "      <th>published</th>\n",
              "      <th>author</th>\n",
              "      <th>flow</th>\n",
              "      <th>polling</th>\n",
              "      <th>content_len</th>\n",
              "      <th>title</th>\n",
              "      <th>comments</th>\n",
              "      <th>favs</th>\n",
              "      <th>views</th>\n",
              "      <th>votes_plus</th>\n",
              "      <th>votes_minus</th>\n",
              "      <th>year</th>\n",
              "      <th>month</th>\n",
              "      <th>dayofweek</th>\n",
              "      <th>hour</th>\n",
              "    </tr>\n",
              "  </thead>\n",
              "  <tbody>\n",
              "    <tr>\n",
              "      <th>38763</th>\n",
              "      <td>https://geektimes.ru/post/123157/</td>\n",
              "      <td>geektimes.ru</td>\n",
              "      <td>123157</td>\n",
              "      <td>2011-07-01 02:35:00</td>\n",
              "      <td>@Dottore</td>\n",
              "      <td>NaN</td>\n",
              "      <td>False</td>\n",
              "      <td>2158</td>\n",
              "      <td>Как раздавать инвайты на Google+</td>\n",
              "      <td>2266</td>\n",
              "      <td>24</td>\n",
              "      <td>15300</td>\n",
              "      <td>226.0</td>\n",
              "      <td>55.0</td>\n",
              "      <td>2011</td>\n",
              "      <td>7</td>\n",
              "      <td>5</td>\n",
              "      <td>2</td>\n",
              "    </tr>\n",
              "    <tr>\n",
              "      <th>65285</th>\n",
              "      <td>https://geektimes.ru/post/171853/</td>\n",
              "      <td>geektimes.ru</td>\n",
              "      <td>171853</td>\n",
              "      <td>2013-03-06 20:07:00</td>\n",
              "      <td>@vadimus</td>\n",
              "      <td>NaN</td>\n",
              "      <td>False</td>\n",
              "      <td>2220</td>\n",
              "      <td>Лучшие компьютерные игры всех времен и народов...</td>\n",
              "      <td>1887</td>\n",
              "      <td>392</td>\n",
              "      <td>160000</td>\n",
              "      <td>170.0</td>\n",
              "      <td>29.0</td>\n",
              "      <td>2013</td>\n",
              "      <td>3</td>\n",
              "      <td>3</td>\n",
              "      <td>20</td>\n",
              "    </tr>\n",
              "    <tr>\n",
              "      <th>38742</th>\n",
              "      <td>https://geektimes.ru/post/123122/</td>\n",
              "      <td>geektimes.ru</td>\n",
              "      <td>123122</td>\n",
              "      <td>2011-06-30 17:10:00</td>\n",
              "      <td>@MetallicAt</td>\n",
              "      <td>NaN</td>\n",
              "      <td>False</td>\n",
              "      <td>1390</td>\n",
              "      <td>Раздача слонов или инвайты на Google+</td>\n",
              "      <td>1829</td>\n",
              "      <td>17</td>\n",
              "      <td>1200</td>\n",
              "      <td>275.0</td>\n",
              "      <td>50.0</td>\n",
              "      <td>2011</td>\n",
              "      <td>6</td>\n",
              "      <td>4</td>\n",
              "      <td>17</td>\n",
              "    </tr>\n",
              "    <tr>\n",
              "      <th>126328</th>\n",
              "      <td>https://geektimes.ru/post/276000/</td>\n",
              "      <td>geektimes.ru</td>\n",
              "      <td>276000</td>\n",
              "      <td>2016-05-18 21:43:00</td>\n",
              "      <td>@alizar</td>\n",
              "      <td>NaN</td>\n",
              "      <td>False</td>\n",
              "      <td>5207</td>\n",
              "      <td>Завершено самое масштабное исследование влияни...</td>\n",
              "      <td>1578</td>\n",
              "      <td>234</td>\n",
              "      <td>165000</td>\n",
              "      <td>76.0</td>\n",
              "      <td>7.0</td>\n",
              "      <td>2016</td>\n",
              "      <td>5</td>\n",
              "      <td>3</td>\n",
              "      <td>21</td>\n",
              "    </tr>\n",
              "    <tr>\n",
              "      <th>127407</th>\n",
              "      <td>https://geektimes.ru/post/276928/</td>\n",
              "      <td>geektimes.ru</td>\n",
              "      <td>276928</td>\n",
              "      <td>2016-06-07 12:28:00</td>\n",
              "      <td>@veam</td>\n",
              "      <td>NaN</td>\n",
              "      <td>False</td>\n",
              "      <td>4832</td>\n",
              "      <td>«10 лет за школьную форму и хентай» сегодня ве...</td>\n",
              "      <td>1214</td>\n",
              "      <td>56</td>\n",
              "      <td>130000</td>\n",
              "      <td>40.0</td>\n",
              "      <td>6.0</td>\n",
              "      <td>2016</td>\n",
              "      <td>6</td>\n",
              "      <td>2</td>\n",
              "      <td>12</td>\n",
              "    </tr>\n",
              "  </tbody>\n",
              "</table>\n",
              "</div>"
            ],
            "text/plain": [
              "                                      url        domain  ...  dayofweek hour\n",
              "38763   https://geektimes.ru/post/123157/  geektimes.ru  ...          5    2\n",
              "65285   https://geektimes.ru/post/171853/  geektimes.ru  ...          3   20\n",
              "38742   https://geektimes.ru/post/123122/  geektimes.ru  ...          4   17\n",
              "126328  https://geektimes.ru/post/276000/  geektimes.ru  ...          3   21\n",
              "127407  https://geektimes.ru/post/276928/  geektimes.ru  ...          2   12\n",
              "\n",
              "[5 rows x 18 columns]"
            ]
          },
          "metadata": {
            "tags": []
          },
          "execution_count": 28
        }
      ]
    },
    {
      "cell_type": "code",
      "metadata": {
        "id": "Dpz41Ugx0SNm",
        "outputId": "a61c4755-631c-45ff-8d65-d11d85f1a40a",
        "colab": {
          "base_uri": "https://localhost:8080/",
          "height": 319
        }
      },
      "source": [
        "df[df['domain'] == 'habrahabr.ru'].groupby('hour')['comments'].count().plot(kind='bar')"
      ],
      "execution_count": null,
      "outputs": [
        {
          "output_type": "execute_result",
          "data": {
            "text/plain": [
              "<matplotlib.axes._subplots.AxesSubplot at 0x7f90695e9c18>"
            ]
          },
          "metadata": {
            "tags": []
          },
          "execution_count": 163
        },
        {
          "output_type": "display_data",
          "data": {
            "image/png": "[encoded data removed]",
            "text/plain": [
              "<Figure size 432x288 with 1 Axes>"
            ]
          },
          "metadata": {
            "tags": []
          }
        }
      ]
    },
    {
      "cell_type": "markdown",
      "metadata": {
        "id": "FFLPI740ZV3n"
      },
      "source": [
        "## 4\\. Кого из топ-20 авторов чаще всего минусуют?\n",
        "\n",
        "* @Mordatyj\n",
        "* @Mithgol\n",
        "* @alizar\n",
        "* @ilya42"
      ]
    },
    {
      "cell_type": "code",
      "metadata": {
        "id": "5TQJM96uy6Vh",
        "outputId": "8a83982d-aff9-4f39-c196-cfcd376b1032",
        "colab": {
          "base_uri": "https://localhost:8080/",
          "height": 316
        }
      },
      "source": [
        "df[df['author'].isin(['@Mordatyj','@Mithgol','@alizar','@ilya42'])].groupby('author')['votes_minus'].count().plot(kind='bar', rot=0)"
      ],
      "execution_count": null,
      "outputs": [
        {
          "output_type": "execute_result",
          "data": {
            "text/plain": [
              "<matplotlib.axes._subplots.AxesSubplot at 0x7f9069988630>"
            ]
          },
          "metadata": {
            "tags": []
          },
          "execution_count": 173
        },
        {
          "output_type": "display_data",
          "data": {
            "image/png": "[encoded data removed]",
            "text/plain": [
              "<Figure size 432x288 with 1 Axes>"
            ]
          },
          "metadata": {
            "tags": []
          }
        }
      ]
    },
    {
      "cell_type": "markdown",
      "metadata": {
        "id": "Zs6fZ927ZYea"
      },
      "source": [
        "## 5\\. Сравните субботы и понедельники\n",
        "\n",
        "Правда ли, что по субботам авторы пишут в основном днём, а по понедельникам — в основном вечером?"
      ]
    },
    {
      "cell_type": "code",
      "metadata": {
        "id": "fMkOKdNzZYz_",
        "outputId": "f0e38365-4504-4948-bee9-aa46d40906af",
        "colab": {
          "base_uri": "https://localhost:8080/",
          "height": 746
        }
      },
      "source": [
        "data = df[df['dayofweek'].isin([6, 1])].groupby(['dayofweek', 'hour'], as_index=False)['published'].count()\n",
        "\n",
        "# fig, ax= plt.subplots(figsize=(10, 10))\n",
        "sns.catplot(x=\"hour\", y=\"published\", hue=\"dayofweek\", kind=\"bar\", data=data, size=10);"
      ],
      "execution_count": null,
      "outputs": [
        {
          "output_type": "stream",
          "text": [
            "/usr/local/lib/python3.6/dist-packages/seaborn/categorical.py:3692: UserWarning: The `size` parameter has been renamed to `height`; please update your code.\n",
            "  warnings.warn(msg, UserWarning)\n"
          ],
          "name": "stderr"
        },
        {
          "output_type": "display_data",
          "data": {
            "image/png": "[encoded data removed]",
            "text/plain": [
              "<Figure size 798.325x720 with 1 Axes>"
            ]
          },
          "metadata": {
            "tags": []
          }
        }
      ]
    }
  ]
}