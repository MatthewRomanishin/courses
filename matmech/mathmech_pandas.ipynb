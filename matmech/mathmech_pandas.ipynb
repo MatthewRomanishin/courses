{
  "nbformat": 4,
  "nbformat_minor": 0,
  "metadata": {
    "colab": {
      "name": "mathmech_pandas.ipynb",
      "provenance": [],
      "collapsed_sections": [],
      "toc_visible": true,
      "authorship_tag": "ABX9TyMCB/oMGz4cOYCJKYAZ7LS+",
      "include_colab_link": true
    },
    "kernelspec": {
      "name": "python3",
      "display_name": "Python 3"
    }
  },
  "cells": [
    {
      "cell_type": "markdown",
      "metadata": {
        "id": "view-in-github",
        "colab_type": "text"
      },
      "source": [
        "<a href=\"https://colab.research.google.com/github/MatthewRomanishin/courses/blob/main/matmech/mathmech_pandas.ipynb\" target=\"_parent\"><img src=\"https://colab.research.google.com/assets/colab-badge.svg\" alt=\"Open In Colab\"/></a>"
      ]
    },
    {
      "cell_type": "code",
      "metadata": {
        "id": "_qBl483oCRlE",
        "colab": {
          "base_uri": "https://localhost:8080/"
        },
        "outputId": "39d0bff7-2541-42d1-c08d-fdae4928a8c3"
      },
      "source": [
        "from google.colab import drive\n",
        "drive.mount('/content/gdrive')"
      ],
      "execution_count": 1,
      "outputs": [
        {
          "output_type": "stream",
          "text": [
            "Mounted at /content/gdrive\n"
          ],
          "name": "stdout"
        }
      ]
    },
    {
      "cell_type": "code",
      "metadata": {
        "id": "dhUJj4pOYmUg"
      },
      "source": [
        "import numpy as np\n",
        "import pandas as pd\n",
        "import dateutil"
      ],
      "execution_count": 20,
      "outputs": []
    },
    {
      "cell_type": "markdown",
      "metadata": {
        "id": "vkLnToR4Q_ln"
      },
      "source": [
        "#**Подфрейм Вандермонда**"
      ]
    },
    {
      "cell_type": "markdown",
      "metadata": {
        "id": "Rdu2FznT0KSW"
      },
      "source": [
        "Для вектора $x=(x_0, \\ldots, x_n)$ матрица Вандермона выглядит следующим образом:\n",
        "$$A = \\begin{pmatrix}\n",
        "1 & x_0 & \\cdots & x_0^n \\\\\n",
        "1 & x_1 & \\cdots & x_1^n \\\\\n",
        "\\vdots & \\ddots & \\ddots & \\vdots \\\\\n",
        "1 & x_n & \\cdots &  x_n^n\n",
        "\\end{pmatrix}$$ \n",
        "\n",
        "А датафрейм Вандермонда выглядит аналогично:\n",
        "\n",
        "|       | 0 | 1  |  |n |\n",
        "|-------|---|----|--|----|\n",
        "|0      | 1 | $x_0$ | $\\ldots$ | $x_0^n$ |\n",
        "|1      | 1 | $x_1$ | $\\ldots$ | $x_1^n$ |\n",
        "|$\\vdots$ | $\\vdots$ | $\\ddots$ | $\\ddots$ | $\\vdots$ |\n",
        "|$n$  | 1 |$x_n$|  | $x_n^n$ |\n",
        "\n",
        "\n",
        "На вход подается вектор вещественных чисел длины $n+1 > 1$ и две пары индексов. Вам нужно вернуть Фрейм Вандермонда и **под**Фрейм Вандермонда, где первая пара индексов - задает срез по строкам, а вторая пара индексов - срез по колонкам. \n",
        "\n",
        "Подсказка: не нужно создавать самим матрицу Вандермонда, она давно реализована за вас в numpy: [np.vander](https://docs.scipy.org/doc/numpy/reference/generated/numpy.vander.html)\n",
        "\n",
        "#### Input:\n",
        "```python\n",
        "x = np.array([3,1,5,4,2])\n",
        "indices = (0,3)\n",
        "columns = (2,4)\n",
        "```\n",
        "#### **под**Фрейм Вандермонда:\n",
        "\n",
        "|  | 2 | 3  \n",
        "|--|---|----\n",
        "|0 | 9 | 27  \n",
        "|1 | 1 | 1   \n",
        "|2 | 25 |125"
      ]
    },
    {
      "cell_type": "code",
      "metadata": {
        "id": "QgLm_5P-RSBk"
      },
      "source": [
        "x = np.array([3,1,5,4,2])\n",
        "indexes = (0,3)\n",
        "columns = (2,4)"
      ],
      "execution_count": 3,
      "outputs": []
    },
    {
      "cell_type": "code",
      "metadata": {
        "id": "g__iNTjDRdyK"
      },
      "source": [
        "def subVander(x: np.ndarray, indices: tuple, columns: tuple) -> (pd.DataFrame, pd.DataFrame):\n",
        "    vander = pd.DataFrame(np.vander(x, increasing=True))    \n",
        "    subvander = vander.iloc[indices[0]:indices[1],columns[0]:columns[1]]\n",
        "    return subvander"
      ],
      "execution_count": 4,
      "outputs": []
    },
    {
      "cell_type": "code",
      "metadata": {
        "id": "7KUy7dUpRdF1",
        "colab": {
          "base_uri": "https://localhost:8080/",
          "height": 138
        },
        "outputId": "296e01e2-749c-46eb-dc70-4aaeb2da5d22"
      },
      "source": [
        "subVander(x, indexes, columns)"
      ],
      "execution_count": 5,
      "outputs": [
        {
          "output_type": "execute_result",
          "data": {
            "text/html": [
              "<div>\n",
              "<style scoped>\n",
              "    .dataframe tbody tr th:only-of-type {\n",
              "        vertical-align: middle;\n",
              "    }\n",
              "\n",
              "    .dataframe tbody tr th {\n",
              "        vertical-align: top;\n",
              "    }\n",
              "\n",
              "    .dataframe thead th {\n",
              "        text-align: right;\n",
              "    }\n",
              "</style>\n",
              "<table border=\"1\" class=\"dataframe\">\n",
              "  <thead>\n",
              "    <tr style=\"text-align: right;\">\n",
              "      <th></th>\n",
              "      <th>2</th>\n",
              "      <th>3</th>\n",
              "    </tr>\n",
              "  </thead>\n",
              "  <tbody>\n",
              "    <tr>\n",
              "      <th>0</th>\n",
              "      <td>9</td>\n",
              "      <td>27</td>\n",
              "    </tr>\n",
              "    <tr>\n",
              "      <th>1</th>\n",
              "      <td>1</td>\n",
              "      <td>1</td>\n",
              "    </tr>\n",
              "    <tr>\n",
              "      <th>2</th>\n",
              "      <td>25</td>\n",
              "      <td>125</td>\n",
              "    </tr>\n",
              "  </tbody>\n",
              "</table>\n",
              "</div>"
            ],
            "text/plain": [
              "    2    3\n",
              "0   9   27\n",
              "1   1    1\n",
              "2  25  125"
            ]
          },
          "metadata": {
            "tags": []
          },
          "execution_count": 5
        }
      ]
    },
    {
      "cell_type": "markdown",
      "metadata": {
        "id": "o2Ue8E-5R2SC"
      },
      "source": [
        "#**Бухгалтерия зоопарка**"
      ]
    },
    {
      "cell_type": "markdown",
      "metadata": {
        "id": "27mROISmzZWX"
      },
      "source": [
        "Вам на вход подается словарь, где ключ - это тип животного, а значение - словарь с признаками этого животного, где ключ - тип признака, а значение - значение признака (Типичный json проще говоря). Наименования признаков животного - всегда строки. Значения признаков - любой из типов pandas.\n",
        "\n",
        "Вам следует создать табличку, где по строчкам будут идти животные, а по колонкам - их признаки, которая удовлетворяет следующим условиям:\n",
        "\n",
        "Тип животного нужно выделить в отдельную колонку Type\n",
        "Строки отсортированы по типу животного в алфавитном порядке\n",
        "Колонки отсортированы в алфавитном порядке, кроме колонки Type - она первая\n",
        "Индексы строк - ряд натуральных чисел начиная с 0 без пропусков\n",
        "Имейте в виду, что признаки у двух животных могут не совпадать, значит незаполненные данные нужно заполнить Nan значением.\n",
        "\n",
        "Верните на выходе табличку(DataFrame), в которой отсутствуют Nan значения. При этом могут отсутствовать некоторые признаки, но животные должны присутствовать все. Изначальные типы значений из словаря: int64, float64, bool и.т.д. должны сохраниться и в конечной табличке, а не превратиться в object-ы. (От удаляемых признаков этого, очевидно, не требуется).\n",
        "\n",
        "#### Input:\n",
        "```python\n",
        "ZOO = {\n",
        "        'cat':{'color':'black', 'tail_len': 50, 'injured': False}, \n",
        "        'dog':{'age': 6, 'tail_len': 30.5, 'injured': True}\n",
        "      }\n",
        "```\n",
        "#### Output:\n",
        "||Type|injured|tail_len|\n",
        "|-|-|-|-|\n"
      ]
    },
    {
      "cell_type": "code",
      "metadata": {
        "id": "cmsPyWNmR7EX"
      },
      "source": [
        "ZOO = {\n",
        "        'cat':{'color':'black', 'tail_len': 50, 'injured': False}, \n",
        "        'dog':{'age': 6, 'tail_len': 30.5, 'injured': True}\n",
        "      }\n"
      ],
      "execution_count": 6,
      "outputs": []
    },
    {
      "cell_type": "code",
      "metadata": {
        "id": "JMgmfWiNR7-w"
      },
      "source": [
        "def ZOOtable(zoo: dict) -> pd.DataFrame:\n",
        "    df = pd.DataFrame.from_dict(zoo, orient='index')\n",
        "    df['Type']=zoo.keys()\n",
        "    df = df.sort_index(axis = 0)\n",
        "    df = df.sort_index(axis = 1)\n",
        "    df = df.reset_index(drop=True)\n",
        "    df = df.dropna(axis=1)\n",
        "    return df"
      ],
      "execution_count": 7,
      "outputs": []
    },
    {
      "cell_type": "code",
      "metadata": {
        "id": "seC6cgY_SBXV",
        "colab": {
          "base_uri": "https://localhost:8080/",
          "height": 108
        },
        "outputId": "a3357cbe-c36d-4c4b-88e4-b3fad09bf00e"
      },
      "source": [
        "ZOOtable(ZOO)"
      ],
      "execution_count": 8,
      "outputs": [
        {
          "output_type": "execute_result",
          "data": {
            "text/html": [
              "<div>\n",
              "<style scoped>\n",
              "    .dataframe tbody tr th:only-of-type {\n",
              "        vertical-align: middle;\n",
              "    }\n",
              "\n",
              "    .dataframe tbody tr th {\n",
              "        vertical-align: top;\n",
              "    }\n",
              "\n",
              "    .dataframe thead th {\n",
              "        text-align: right;\n",
              "    }\n",
              "</style>\n",
              "<table border=\"1\" class=\"dataframe\">\n",
              "  <thead>\n",
              "    <tr style=\"text-align: right;\">\n",
              "      <th></th>\n",
              "      <th>Type</th>\n",
              "      <th>injured</th>\n",
              "      <th>tail_len</th>\n",
              "    </tr>\n",
              "  </thead>\n",
              "  <tbody>\n",
              "    <tr>\n",
              "      <th>0</th>\n",
              "      <td>cat</td>\n",
              "      <td>False</td>\n",
              "      <td>50.0</td>\n",
              "    </tr>\n",
              "    <tr>\n",
              "      <th>1</th>\n",
              "      <td>dog</td>\n",
              "      <td>True</td>\n",
              "      <td>30.5</td>\n",
              "    </tr>\n",
              "  </tbody>\n",
              "</table>\n",
              "</div>"
            ],
            "text/plain": [
              "  Type  injured  tail_len\n",
              "0  cat    False      50.0\n",
              "1  dog     True      30.5"
            ]
          },
          "metadata": {
            "tags": []
          },
          "execution_count": 8
        }
      ]
    },
    {
      "cell_type": "markdown",
      "metadata": {
        "id": "2E0D2cRQzWF_"
      },
      "source": [
        "#**Простые преобразования**"
      ]
    },
    {
      "cell_type": "markdown",
      "metadata": {
        "id": "m4Zx3quFq5Ev"
      },
      "source": [
        "На вход подается DataFrame из 3-х колонок дата рождения и смерти человека на русском языке в формате представленом ниже:\n",
        "\n",
        "| |      Имя        | Дата рождения  |   Дата смерти   |\n",
        "|-|-----------------|----------------|-----------------|\n",
        "|0|Никола Тесла     |10 июля 1856 г. |7 января 1943 г. |\n",
        "|1|Альберт Эйнштейн |14 марта 1879 г.|18 апреля 1955 г.|\n",
        "\n",
        "Необходимо вернуть исходную таблицу с добавленным в конце столбцом полных лет жизни.\n",
        "\n",
        "| |       Имя        | Дата рождения  |   Дата смерти   |Полных лет|\n",
        "|-|:-----------------|:---------------|:----------------|:---------|\n",
        "|0|Никола Тесла      |10 июля 1856 г. |7 января 1943 г. |86        |\n",
        "|1|Альберт Эйнштейн  |14 марта 1879 г.|18 апреля 1955 г.|76        |"
      ]
    },
    {
      "cell_type": "code",
      "metadata": {
        "id": "5XfEyQH9KGIA",
        "colab": {
          "base_uri": "https://localhost:8080/",
          "height": 108
        },
        "outputId": "d47bda28-4900-41f1-db30-2b589d406e50"
      },
      "source": [
        "df = pd.DataFrame([[\"Никола Тесла\", \"10 июля 1856 г.\", \"7 января 1943 г.\"],\n",
        "              [\"Альберт Эйнштейн\", \"14 марта 1879 г.\", \"18 апреля 1955 г.\"]],\n",
        "             columns=[\"Имя\", \"Дата рождения\", \"Дата смерти\"])\n",
        "df"
      ],
      "execution_count": 9,
      "outputs": [
        {
          "output_type": "execute_result",
          "data": {
            "text/html": [
              "<div>\n",
              "<style scoped>\n",
              "    .dataframe tbody tr th:only-of-type {\n",
              "        vertical-align: middle;\n",
              "    }\n",
              "\n",
              "    .dataframe tbody tr th {\n",
              "        vertical-align: top;\n",
              "    }\n",
              "\n",
              "    .dataframe thead th {\n",
              "        text-align: right;\n",
              "    }\n",
              "</style>\n",
              "<table border=\"1\" class=\"dataframe\">\n",
              "  <thead>\n",
              "    <tr style=\"text-align: right;\">\n",
              "      <th></th>\n",
              "      <th>Имя</th>\n",
              "      <th>Дата рождения</th>\n",
              "      <th>Дата смерти</th>\n",
              "    </tr>\n",
              "  </thead>\n",
              "  <tbody>\n",
              "    <tr>\n",
              "      <th>0</th>\n",
              "      <td>Никола Тесла</td>\n",
              "      <td>10 июля 1856 г.</td>\n",
              "      <td>7 января 1943 г.</td>\n",
              "    </tr>\n",
              "    <tr>\n",
              "      <th>1</th>\n",
              "      <td>Альберт Эйнштейн</td>\n",
              "      <td>14 марта 1879 г.</td>\n",
              "      <td>18 апреля 1955 г.</td>\n",
              "    </tr>\n",
              "  </tbody>\n",
              "</table>\n",
              "</div>"
            ],
            "text/plain": [
              "                Имя     Дата рождения        Дата смерти\n",
              "0      Никола Тесла   10 июля 1856 г.   7 января 1943 г.\n",
              "1  Альберт Эйнштейн  14 марта 1879 г.  18 апреля 1955 г."
            ]
          },
          "metadata": {
            "tags": []
          },
          "execution_count": 9
        }
      ]
    },
    {
      "cell_type": "code",
      "metadata": {
        "id": "HweWLgDKP5Sh"
      },
      "source": [
        "def rus_feature(df: pd.DataFrame) -> pd.DataFrame:\n",
        "    date_of_birth = df['Дата рождения'].apply(lambda x: x.split()[:3])\n",
        "    date_of_dead = df['Дата смерти'].apply(lambda x: x.split()[:3])\n",
        "\n",
        "    x = {'января':'01',\n",
        "     'февраля':'02',\n",
        "     'марта':'03',\n",
        "     'апреля':'04',\n",
        "     'мая':'05',\n",
        "     'июня':'06',\n",
        "     'июля':'07',\n",
        "     'августа':'08',\n",
        "     'сентября':'09',\n",
        "     'октября':'10',\n",
        "     'ноября':'11',\n",
        "     'декабря':'12'}\n",
        "\n",
        "    month1 = date_of_birth.apply(lambda y: x.get(y[1]))\n",
        "    month2 = date_of_dead.apply(lambda y: x.get(y[1]))\n",
        "\n",
        "    day1 = date_of_birth.apply(lambda x: x[0])\n",
        "    day2 = date_of_dead.apply(lambda x: x[0])\n",
        "\n",
        "    year1 = date_of_birth.apply(lambda x: x[2])\n",
        "    year2 = date_of_dead.apply(lambda x: x[2])\n",
        "\n",
        "    date1 = day1+month1+year1\n",
        "    date2 = day2+month2+year2\n",
        "\n",
        "    date1 = pd.to_datetime(date1, format='%d%m%Y')\n",
        "    date2 = pd.to_datetime(date2, format='%d%m%Y')\n",
        "\n",
        "    df['date1'] = date1\n",
        "    df['date2'] = date2\n",
        "\n",
        "    df['Полных лет'] = df.apply(lambda x: dateutil.relativedelta.relativedelta(x['date2'], x['date1']).years, axis=1)\n",
        "    df.drop(['date1', 'date2'], axis='columns', inplace=True)\n",
        "\n",
        "    return df"
      ],
      "execution_count": 10,
      "outputs": []
    },
    {
      "cell_type": "code",
      "metadata": {
        "id": "DtjfEXemQqO2",
        "colab": {
          "base_uri": "https://localhost:8080/",
          "height": 108
        },
        "outputId": "c34825a4-9b40-45fd-fe3f-475ab387dce5"
      },
      "source": [
        "rus_feature(df)"
      ],
      "execution_count": 11,
      "outputs": [
        {
          "output_type": "execute_result",
          "data": {
            "text/html": [
              "<div>\n",
              "<style scoped>\n",
              "    .dataframe tbody tr th:only-of-type {\n",
              "        vertical-align: middle;\n",
              "    }\n",
              "\n",
              "    .dataframe tbody tr th {\n",
              "        vertical-align: top;\n",
              "    }\n",
              "\n",
              "    .dataframe thead th {\n",
              "        text-align: right;\n",
              "    }\n",
              "</style>\n",
              "<table border=\"1\" class=\"dataframe\">\n",
              "  <thead>\n",
              "    <tr style=\"text-align: right;\">\n",
              "      <th></th>\n",
              "      <th>Имя</th>\n",
              "      <th>Дата рождения</th>\n",
              "      <th>Дата смерти</th>\n",
              "      <th>Полных лет</th>\n",
              "    </tr>\n",
              "  </thead>\n",
              "  <tbody>\n",
              "    <tr>\n",
              "      <th>0</th>\n",
              "      <td>Никола Тесла</td>\n",
              "      <td>10 июля 1856 г.</td>\n",
              "      <td>7 января 1943 г.</td>\n",
              "      <td>86</td>\n",
              "    </tr>\n",
              "    <tr>\n",
              "      <th>1</th>\n",
              "      <td>Альберт Эйнштейн</td>\n",
              "      <td>14 марта 1879 г.</td>\n",
              "      <td>18 апреля 1955 г.</td>\n",
              "      <td>76</td>\n",
              "    </tr>\n",
              "  </tbody>\n",
              "</table>\n",
              "</div>"
            ],
            "text/plain": [
              "                Имя     Дата рождения        Дата смерти  Полных лет\n",
              "0      Никола Тесла   10 июля 1856 г.   7 января 1943 г.          86\n",
              "1  Альберт Эйнштейн  14 марта 1879 г.  18 апреля 1955 г.          76"
            ]
          },
          "metadata": {
            "tags": []
          },
          "execution_count": 11
        }
      ]
    },
    {
      "cell_type": "code",
      "metadata": {
        "id": "BIRHAaTa7jfR"
      },
      "source": [
        "df = pd.read_csv('/content/gdrive/My Drive/Introduction to DS/data/titanic_train.csv')"
      ],
      "execution_count": 12,
      "outputs": []
    },
    {
      "cell_type": "markdown",
      "metadata": {
        "id": "xfi26rlF7dsF"
      },
      "source": [
        "#**Характеристики**\n",
        "В этой задаче на вход подаются всем известные данные (titanic_train.csv).\n",
        "\n",
        "Верните среднее, медиану, максимальное и минимальное значение возраста погибших мужчин. Именно в данном порядке."
      ]
    },
    {
      "cell_type": "code",
      "metadata": {
        "id": "o5PzA81M7hxA"
      },
      "source": [
        "def men_stat(df: pd.DataFrame) -> (float, float, float, float):\n",
        "    death_men = df[(df['Sex'] == 'male') & (df['Survived'] == 0)]['Age']\n",
        "    stat = death_men.agg(['mean','median','max','min']).values\n",
        "    return list(stat)"
      ],
      "execution_count": 13,
      "outputs": []
    },
    {
      "cell_type": "code",
      "metadata": {
        "id": "vWfZuGic7rtC",
        "colab": {
          "base_uri": "https://localhost:8080/"
        },
        "outputId": "4f82fb2d-88fd-47a6-ba52-156c2a058b5a"
      },
      "source": [
        "men_stat(df)"
      ],
      "execution_count": 14,
      "outputs": [
        {
          "output_type": "execute_result",
          "data": {
            "text/plain": [
              "[31.618055555555557, 29.0, 74.0, 1.0]"
            ]
          },
          "metadata": {
            "tags": []
          },
          "execution_count": 14
        }
      ]
    },
    {
      "cell_type": "markdown",
      "metadata": {
        "id": "GE8R584g8Od4"
      },
      "source": [
        "#**Свобдная таблица**\n",
        "В этой задаче на вход подаются всем известные данные(titanic_train.csv).\n",
        "\n",
        "Сделать сводную таблицу по медианному возрасту для пола и класса. Для примера посмотрите сводную таблицу по сумме выживших, для пола и класса."
      ]
    },
    {
      "cell_type": "code",
      "metadata": {
        "id": "WRHDDH4J8iGi"
      },
      "source": [
        "def age_stat(df: pd.DataFrame) -> pd.DataFrame:\n",
        "    stat = df.groupby(['Sex','Pclass'])[['Age']].median()\n",
        "    return stat"
      ],
      "execution_count": 16,
      "outputs": []
    },
    {
      "cell_type": "code",
      "metadata": {
        "id": "tR-3N4CB8l3D",
        "colab": {
          "base_uri": "https://localhost:8080/",
          "height": 258
        },
        "outputId": "a7d74ad0-6570-46e3-cd76-dffec27053c7"
      },
      "source": [
        "age_stat(df)"
      ],
      "execution_count": 17,
      "outputs": [
        {
          "output_type": "execute_result",
          "data": {
            "text/html": [
              "<div>\n",
              "<style scoped>\n",
              "    .dataframe tbody tr th:only-of-type {\n",
              "        vertical-align: middle;\n",
              "    }\n",
              "\n",
              "    .dataframe tbody tr th {\n",
              "        vertical-align: top;\n",
              "    }\n",
              "\n",
              "    .dataframe thead th {\n",
              "        text-align: right;\n",
              "    }\n",
              "</style>\n",
              "<table border=\"1\" class=\"dataframe\">\n",
              "  <thead>\n",
              "    <tr style=\"text-align: right;\">\n",
              "      <th></th>\n",
              "      <th></th>\n",
              "      <th>Age</th>\n",
              "    </tr>\n",
              "    <tr>\n",
              "      <th>Sex</th>\n",
              "      <th>Pclass</th>\n",
              "      <th></th>\n",
              "    </tr>\n",
              "  </thead>\n",
              "  <tbody>\n",
              "    <tr>\n",
              "      <th rowspan=\"3\" valign=\"top\">female</th>\n",
              "      <th>1</th>\n",
              "      <td>35.0</td>\n",
              "    </tr>\n",
              "    <tr>\n",
              "      <th>2</th>\n",
              "      <td>28.0</td>\n",
              "    </tr>\n",
              "    <tr>\n",
              "      <th>3</th>\n",
              "      <td>21.5</td>\n",
              "    </tr>\n",
              "    <tr>\n",
              "      <th rowspan=\"3\" valign=\"top\">male</th>\n",
              "      <th>1</th>\n",
              "      <td>40.0</td>\n",
              "    </tr>\n",
              "    <tr>\n",
              "      <th>2</th>\n",
              "      <td>30.0</td>\n",
              "    </tr>\n",
              "    <tr>\n",
              "      <th>3</th>\n",
              "      <td>25.0</td>\n",
              "    </tr>\n",
              "  </tbody>\n",
              "</table>\n",
              "</div>"
            ],
            "text/plain": [
              "                Age\n",
              "Sex    Pclass      \n",
              "female 1       35.0\n",
              "       2       28.0\n",
              "       3       21.5\n",
              "male   1       40.0\n",
              "       2       30.0\n",
              "       3       25.0"
            ]
          },
          "metadata": {
            "tags": []
          },
          "execution_count": 17
        }
      ]
    },
    {
      "cell_type": "markdown",
      "metadata": {
        "id": "2ColWQUj7T5K"
      },
      "source": [
        "#**Популярные девушки**\n",
        "В этой задаче на вход подаются всем известные данные(titanic_train.csv).\n",
        "\n",
        "Выведите список имен незамужних женщин(Miss) отсортированный по популярности.\n",
        "\n",
        "В полном имени девушек имя - это первое слово без скобок после Miss.\n",
        "Остальные строки не рассматриваем.\n",
        "Девушки с одинаковой популярностью сортируются по имени в алфавитном порядке.\n",
        "Слово/имя - подстрока без пробелов. Популярность - количество таких имен в таблице."
      ]
    },
    {
      "cell_type": "code",
      "metadata": {
        "id": "77lZRSVy7Ktq"
      },
      "source": [
        "def fename_stat(df: pd.DataFrame) -> pd.DataFrame:\n",
        "    df = df[df['Name']!='Meanwell, Miss. (Marion Ogden)']\n",
        "    name = df.loc[df['Sex']=='female','Name']\n",
        "\n",
        "    miss = name.str.extract(r\"Miss\\.\\s+(\\w+)\", expand=False)\n",
        "    miss.dropna(inplace=True)\n",
        "    val_idx = miss.value_counts()\n",
        "\n",
        "    df = pd.DataFrame({'Name':val_idx.index, 'Popularity':val_idx.values})\n",
        "    df.sort_values(['Popularity', 'Name'], ascending=[False, True], inplace=True) \n",
        "    df.reset_index(inplace=True)\n",
        "\n",
        "    return df.iloc[:,1:]"
      ],
      "execution_count": 21,
      "outputs": []
    },
    {
      "cell_type": "code",
      "metadata": {
        "id": "Mgz-Inn-7OVh",
        "colab": {
          "base_uri": "https://localhost:8080/",
          "height": 407
        },
        "outputId": "442fabb5-1702-4fcc-f8b1-7c77d9b01f30"
      },
      "source": [
        "fename_stat(df)"
      ],
      "execution_count": 22,
      "outputs": [
        {
          "output_type": "execute_result",
          "data": {
            "text/html": [
              "<div>\n",
              "<style scoped>\n",
              "    .dataframe tbody tr th:only-of-type {\n",
              "        vertical-align: middle;\n",
              "    }\n",
              "\n",
              "    .dataframe tbody tr th {\n",
              "        vertical-align: top;\n",
              "    }\n",
              "\n",
              "    .dataframe thead th {\n",
              "        text-align: right;\n",
              "    }\n",
              "</style>\n",
              "<table border=\"1\" class=\"dataframe\">\n",
              "  <thead>\n",
              "    <tr style=\"text-align: right;\">\n",
              "      <th></th>\n",
              "      <th>Name</th>\n",
              "      <th>Popularity</th>\n",
              "    </tr>\n",
              "  </thead>\n",
              "  <tbody>\n",
              "    <tr>\n",
              "      <th>0</th>\n",
              "      <td>Anna</td>\n",
              "      <td>9</td>\n",
              "    </tr>\n",
              "    <tr>\n",
              "      <th>1</th>\n",
              "      <td>Mary</td>\n",
              "      <td>9</td>\n",
              "    </tr>\n",
              "    <tr>\n",
              "      <th>2</th>\n",
              "      <td>Margaret</td>\n",
              "      <td>6</td>\n",
              "    </tr>\n",
              "    <tr>\n",
              "      <th>3</th>\n",
              "      <td>Elizabeth</td>\n",
              "      <td>5</td>\n",
              "    </tr>\n",
              "    <tr>\n",
              "      <th>4</th>\n",
              "      <td>Alice</td>\n",
              "      <td>4</td>\n",
              "    </tr>\n",
              "    <tr>\n",
              "      <th>...</th>\n",
              "      <td>...</td>\n",
              "      <td>...</td>\n",
              "    </tr>\n",
              "    <tr>\n",
              "      <th>115</th>\n",
              "      <td>Thamine</td>\n",
              "      <td>1</td>\n",
              "    </tr>\n",
              "    <tr>\n",
              "      <th>116</th>\n",
              "      <td>Torborg</td>\n",
              "      <td>1</td>\n",
              "    </tr>\n",
              "    <tr>\n",
              "      <th>117</th>\n",
              "      <td>Velin</td>\n",
              "      <td>1</td>\n",
              "    </tr>\n",
              "    <tr>\n",
              "      <th>118</th>\n",
              "      <td>Virginia</td>\n",
              "      <td>1</td>\n",
              "    </tr>\n",
              "    <tr>\n",
              "      <th>119</th>\n",
              "      <td>Wendla</td>\n",
              "      <td>1</td>\n",
              "    </tr>\n",
              "  </tbody>\n",
              "</table>\n",
              "<p>120 rows × 2 columns</p>\n",
              "</div>"
            ],
            "text/plain": [
              "          Name  Popularity\n",
              "0         Anna           9\n",
              "1         Mary           9\n",
              "2     Margaret           6\n",
              "3    Elizabeth           5\n",
              "4        Alice           4\n",
              "..         ...         ...\n",
              "115    Thamine           1\n",
              "116    Torborg           1\n",
              "117      Velin           1\n",
              "118   Virginia           1\n",
              "119     Wendla           1\n",
              "\n",
              "[120 rows x 2 columns]"
            ]
          },
          "metadata": {
            "tags": []
          },
          "execution_count": 22
        }
      ]
    }
  ]
}