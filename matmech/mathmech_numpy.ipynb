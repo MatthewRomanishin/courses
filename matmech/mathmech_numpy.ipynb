{
  "nbformat": 4,
  "nbformat_minor": 0,
  "metadata": {
    "colab": {
      "name": "mathmech_numpy.ipynb",
      "provenance": [],
      "collapsed_sections": [],
      "toc_visible": true,
      "authorship_tag": "ABX9TyO9TEJ1Zxe9f6axP5VcRExI",
      "include_colab_link": true
    },
    "kernelspec": {
      "name": "python3",
      "display_name": "Python 3"
    }
  },
  "cells": [
    {
      "cell_type": "markdown",
      "metadata": {
        "id": "view-in-github",
        "colab_type": "text"
      },
      "source": [
        "<a href=\"https://colab.research.google.com/github/MatthewRomanishin/courses/blob/main/matmech/mathmech_numpy.ipynb\" target=\"_parent\"><img src=\"https://colab.research.google.com/assets/colab-badge.svg\" alt=\"Open In Colab\"/></a>"
      ]
    },
    {
      "cell_type": "code",
      "metadata": {
        "id": "5sRwhHqoovtz"
      },
      "source": [
        "import numpy as np"
      ],
      "execution_count": 2,
      "outputs": []
    },
    {
      "cell_type": "markdown",
      "metadata": {
        "id": "dKzB6sMLoNBc"
      },
      "source": [
        "# **Жорданова форма**\n",
        "\n",
        "\n",
        "\n",
        "\n",
        "\n"
      ]
    },
    {
      "cell_type": "markdown",
      "metadata": {
        "id": "kolNW5vU_yTC"
      },
      "source": [
        "Дан массив из 3-х действительных собственных чисел $$\\lambda_i \\in \\mathbb{R}$$\n",
        "​\t\n",
        "и их алгебраическими кратностями $$n_i \\in \\mathbb{N}$$\n",
        "Необходимо построить Жорданову матрицу по этим собственным числам.\n",
        "\n",
        "Пример:\n",
        "$$\n",
        "\\begin{pmatrix}\n",
        "2.2 & 1 & 0 & 0 & 0 & 0 \\\\\n",
        "0 & 2.2 & 0 & 0 & 0 & 0 \\\\\n",
        "0 & 0 & 3 & 1 & 0 & 0 \\\\\n",
        "0 & 0 & 0 & 3 & 1 & 0 \\\\\n",
        "0 & 0 & 0 & 0 & 3 & 0 \\\\\n",
        "0 & 0 & 0 & 0 & 0 & 5\n",
        "\\end{pmatrix}$$\n",
        "\n",
        "\n",
        "Напоминание, Жорданова матрица состоит из блоков, где на главной диагонали стоят собственные числа, а следующая диагональ блока заполнена единицами.\n",
        "\n",
        "Блоки идут **в том же порядке**, что и в листе на входе. (Хотя в реальной Жордановой матрице блоки могут идти в любом порядке)\n",
        "\n",
        "###Sample\n",
        "####Input:\n",
        "```pyhton\n",
        "X = np.array([(2.2, 2), (3, 3), (5, 1)])\n",
        "```\n",
        "####Output:\n",
        "```python\n",
        "array([[2.2, 1. , 0. , 0. , 0. , 0. ],\n",
        "       [0. , 2.2, 0. , 0. , 0. , 0. ],\n",
        "       [0. , 0. , 3. , 1. , 0. , 0. ],\n",
        "       [0. , 0. , 0. , 3. , 1. , 0. ],\n",
        "       [0. , 0. , 0. , 0. , 3. , 0. ],\n",
        "       [0. , 0. , 0. , 0. , 0. , 5. ]])\n",
        "```"
      ]
    },
    {
      "cell_type": "code",
      "metadata": {
        "id": "9hz2lD89oGy5"
      },
      "source": [
        "X = np.array([(2.2, 2), (3, 3), (5, 1)])"
      ],
      "execution_count": 3,
      "outputs": []
    },
    {
      "cell_type": "code",
      "metadata": {
        "id": "UwjaihkLDwec"
      },
      "source": [
        "def jordan_matrix(X: np.ndarray) -> np.ndarray:\n",
        "\tones_1 = np.ones(int(X[0][1]-1))\n",
        "\tm_1 = np.eye(int(X[0][1]))\n",
        "\tm_1 = np.diag(ones_1,1)\n",
        "\tnp.fill_diagonal(m_1,X[0][0])\n",
        "\n",
        "\tones_2 = np.ones(int(X[1][1]-1))\n",
        "\tm_2 = np.eye(int(X[1][1]))\n",
        "\tm_2 = np.diag(ones_2,1)\n",
        "\tnp.fill_diagonal(m_2,X[1][0])\n",
        "\n",
        "\tones_3 = np.ones(int(X[2][1]-1))\n",
        "\tm_3 = np.eye(int(X[2][1]))\n",
        "\tm_3 = np.diag(ones_3,1)\n",
        "\tnp.fill_diagonal(m_3,X[2][0])\n",
        "\n",
        "\tdiag = [m_1,m_2,m_3]\n",
        "\ta = np.eye(int(X[0][1]+X[1][1]+X[2][1]))\n",
        "\n",
        "\ta[:m_1.shape[0],:m_1.shape[1]] = m_1\n",
        "\ta[m_1.shape[0] : m_1.shape[0] + m_2.shape[0] , m_1.shape[1] : m_1.shape[1] + m_2.shape[1]] = m_2\n",
        "\ta[m_1.shape[0] + m_2.shape[0] : m_1.shape[0] + m_2.shape[0] + m_3.shape[0] ,  m_1.shape[1] + m_2.shape[1]:  m_1.shape[1] + m_2.shape[1] + m_3.shape[1]] = m_3\n",
        "\n",
        "\treturn a"
      ],
      "execution_count": 4,
      "outputs": []
    },
    {
      "cell_type": "code",
      "metadata": {
        "colab": {
          "base_uri": "https://localhost:8080/"
        },
        "id": "8yXKDSvKD3F8",
        "outputId": "13df83e8-d6f0-4677-ab4a-8f0a0f55934a"
      },
      "source": [
        "jordan_matrix(X)"
      ],
      "execution_count": 5,
      "outputs": [
        {
          "output_type": "execute_result",
          "data": {
            "text/plain": [
              "array([[2.2, 1. , 0. , 0. , 0. , 0. ],\n",
              "       [0. , 2.2, 0. , 0. , 0. , 0. ],\n",
              "       [0. , 0. , 3. , 1. , 0. , 0. ],\n",
              "       [0. , 0. , 0. , 3. , 1. , 0. ],\n",
              "       [0. , 0. , 0. , 0. , 3. , 0. ],\n",
              "       [0. , 0. , 0. , 0. , 0. , 5. ]])"
            ]
          },
          "metadata": {
            "tags": []
          },
          "execution_count": 5
        }
      ]
    },
    {
      "cell_type": "markdown",
      "metadata": {
        "id": "IrknPct6RHjC"
      },
      "source": [
        "# **Сложное выражение** "
      ]
    },
    {
      "cell_type": "markdown",
      "metadata": {
        "id": "NS9mqNgU5aSd"
      },
      "source": [
        "На вход подаются целочисленные матрицы AA, BB. Запишите и посчитайте с помощью numpy следующее выражение. Если выполнить операцию корректно нельзя - выведите *None*.\n",
        "$$\n",
        "\\displaystyle\\tan{(A)}\\times\\ln{(B)}\n",
        "$$\n",
        "\n",
        "- × - матричное перемножение.\n",
        "- Доп. требование: в решении не должно быть конструкции:\n",
        "\n",
        "```python\n",
        "try: \n",
        "    ...\n",
        "except:\n",
        "    ...\n",
        "```\n",
        "\n",
        "###**Sample1**\n",
        "####input:\n",
        "На вход подается np.ndarray, а не np.matrix. Будьте внимательны!\n",
        "\n",
        "```python\n",
        "A = np.array([[3, 4]])\n",
        "B = np.array([[3, 5],[4, 5]])\n",
        "```\n",
        "####Output:\n",
        "На выход подается двумерный array с размерами (1,2), а не (2,)!\n",
        "\n",
        "```python\n",
        "array([[1.44847773, 1.63402166]])\n",
        "```\n",
        "###**Sample2**\n",
        "####input:\n",
        "На вход подается np.ndarray, а не np.matrix. Будьте внимательны!\n",
        "\n",
        "```python\n",
        "A = np.array([[3, 4, 5]])\n",
        "B = np.array([[-3, 5],[4, -5]])\n",
        "```\n",
        "####Output:\n",
        "```python\n",
        "None\n",
        "```"
      ]
    },
    {
      "cell_type": "code",
      "metadata": {
        "id": "3Jl7O8lPbenN"
      },
      "source": [
        "A = np.array([[3, 4]])\n",
        "B = np.array([[3, 5],[4, 5]])\n"
      ],
      "execution_count": 6,
      "outputs": []
    },
    {
      "cell_type": "code",
      "metadata": {
        "id": "LxleZ6m1-F8n"
      },
      "source": [
        "def complex_expr(A: np.ndarray, B: np.ndarray) -> np.ndarray:\n",
        "    n = None\n",
        "    if np.isnan(np.log(B)).any()==True:\n",
        "        return n\n",
        "    else:\n",
        "        return np.dot(np.tan(A),np.log(B))\n"
      ],
      "execution_count": 7,
      "outputs": []
    },
    {
      "cell_type": "code",
      "metadata": {
        "id": "Kv8BLRR0-8sk",
        "colab": {
          "base_uri": "https://localhost:8080/"
        },
        "outputId": "6ddcd85f-3daa-46e1-d1f0-65419896bba3"
      },
      "source": [
        "complex_expr(A,B)"
      ],
      "execution_count": 8,
      "outputs": [
        {
          "output_type": "execute_result",
          "data": {
            "text/plain": [
              "array([[1.44847773, 1.63402166]])"
            ]
          },
          "metadata": {
            "tags": []
          },
          "execution_count": 8
        }
      ]
    },
    {
      "cell_type": "markdown",
      "metadata": {
        "id": "kTBSBkODMGzb"
      },
      "source": [
        "# **Найти ближайший элемент**"
      ]
    },
    {
      "cell_type": "markdown",
      "metadata": {
        "id": "t2_a0MyZ9GGF"
      },
      "source": [
        "Реализуйте функцию, принимающую на вход непустой тензор (может быть многомерным) ***X*** и некоторое число ***a*** и возвращающую ближайший к числу элемент тензора. Если ближайших несколько - выведите минимальный из ближайших. (Вернуть нужно само число, а не индекс числа!)\n",
        "\n",
        "###Sample\n",
        "####Input:\n",
        "```python\n",
        "X = np.array([[ 1,  2, 13],\n",
        "              [15,  6,  8],\n",
        "              [ 7, 18,  9]])\n",
        "a = 7.2\n",
        "```\n",
        "####Output:\n",
        "```python\n",
        "7\n",
        "```\n"
      ]
    },
    {
      "cell_type": "code",
      "metadata": {
        "id": "kI37_HQDNNZy"
      },
      "source": [
        "X = np.array([[ 1,  8, 13],\n",
        "              [8,  6,  8],\n",
        "              [ 7, 18,  7]])\n",
        "a = 7.5"
      ],
      "execution_count": 9,
      "outputs": []
    },
    {
      "cell_type": "code",
      "metadata": {
        "id": "EMJ1pbPONQP7"
      },
      "source": [
        "import numpy as np\n",
        "\n",
        "def nearest_value(X: np.ndarray, a: float) -> np.float:\n",
        "\tA = np.abs(X-a)\n",
        "\tidx = np.where(A == A.min())\n",
        "\ttwo_near = X[idx]\n",
        "\treturn two_near.min()"
      ],
      "execution_count": 10,
      "outputs": []
    },
    {
      "cell_type": "code",
      "metadata": {
        "id": "wajLysIlOMcB",
        "colab": {
          "base_uri": "https://localhost:8080/"
        },
        "outputId": "1d00d615-d8a5-4587-f679-850a4e7d4aec"
      },
      "source": [
        "nearest_value(X,a)"
      ],
      "execution_count": 11,
      "outputs": [
        {
          "output_type": "execute_result",
          "data": {
            "text/plain": [
              "7"
            ]
          },
          "metadata": {
            "tags": []
          },
          "execution_count": 11
        }
      ]
    },
    {
      "cell_type": "markdown",
      "metadata": {
        "id": "0AyLn9jEPnaX"
      },
      "source": [
        "#**Применение маски**\n"
      ]
    },
    {
      "cell_type": "markdown",
      "metadata": {
        "id": "tAKvqH5g9w4F"
      },
      "source": [
        "Даны трехмерный тензор размерности *X(n,k,k)*, состоящий из 0 или 1, или nn картинок *k×k*. Нужно применить к нему указанную маску размерности *(k,k)*: В случае, если биты в маске и картинке совпадают, то результирующий бит должен быть равен 0, иначе 1.\n",
        "###Sample\n",
        "####Input:\n",
        "```python\n",
        "X = np.array([\n",
        "              [[ 1, 0, 1],\n",
        "               [ 1, 1, 1],\n",
        "               [ 0, 0, 1]],\n",
        "             \n",
        "              [[ 1, 1, 1],\n",
        "               [ 1, 1, 1],\n",
        "               [ 1, 1, 1]]\n",
        "            ])\n",
        "mask = np.array([[1, 1, 0],\n",
        "                 [1, 1, 0],\n",
        "                 [1, 1, 0]])\n",
        "```\n",
        "####Output:\n",
        "```python\n",
        "array([[[0, 1, 1],\n",
        "        [0, 0, 1],\n",
        "        [1, 1, 1]],\n",
        "\n",
        "       [[0, 0, 1],\n",
        "        [0, 0, 1],\n",
        "        [0, 0, 1]]])\n",
        "```"
      ]
    },
    {
      "cell_type": "code",
      "metadata": {
        "id": "V0onCn5vOQdx"
      },
      "source": [
        "X = np.array([\n",
        "              [[ 1, 0, 1],\n",
        "               [ 1, 1, 1],\n",
        "               [ 0, 0, 1]],\n",
        "             \n",
        "              [[ 1, 1, 1],\n",
        "               [ 1, 1, 1],\n",
        "               [ 1, 1, 1]]\n",
        "            ])\n",
        "mask = np.array([[1, 1, 0],\n",
        "                 [1, 1, 0],\n",
        "                 [1, 1, 0]])"
      ],
      "execution_count": 12,
      "outputs": []
    },
    {
      "cell_type": "code",
      "metadata": {
        "id": "WKZPrma3QgmC"
      },
      "source": [
        "def tensor_mask(X: np.ndarray, mask: np.ndarray) -> np.ndarray:\n",
        "    xor = np.logical_xor(X,mask)\n",
        "    result = np.where(xor==False,0,xor)\n",
        "    return result\n",
        "    pass"
      ],
      "execution_count": 13,
      "outputs": []
    },
    {
      "cell_type": "code",
      "metadata": {
        "id": "HHB1sqhJTA8V",
        "colab": {
          "base_uri": "https://localhost:8080/"
        },
        "outputId": "8f307107-f632-410f-e510-d265939fbabb"
      },
      "source": [
        "tensor_mask(X,mask)"
      ],
      "execution_count": 14,
      "outputs": [
        {
          "output_type": "execute_result",
          "data": {
            "text/plain": [
              "array([[[0, 1, 1],\n",
              "        [0, 0, 1],\n",
              "        [1, 1, 1]],\n",
              "\n",
              "       [[0, 0, 1],\n",
              "        [0, 0, 1],\n",
              "        [0, 0, 1]]])"
            ]
          },
          "metadata": {
            "tags": []
          },
          "execution_count": 14
        }
      ]
    },
    {
      "cell_type": "markdown",
      "metadata": {
        "id": "3UuPVApQVdau"
      },
      "source": [
        "#**Сортировка чисел по маске**"
      ]
    },
    {
      "cell_type": "markdown",
      "metadata": {
        "id": "20pHBYWS-iQ9"
      },
      "source": [
        "Дан одномерный массив целых чисел. Необходимо отсортировать в нем только числа, которые делятся на 22. При этом начальный массив изменять нельзя.\n",
        "###Sample\n",
        "####Input:\n",
        "```python\n",
        "A = np.array([43, 66, 34, 55, 78, 105, 2])\n",
        "```\n",
        "####Output:\n",
        "```python\n",
        "array([ 43,   2,  34,  55,  66, 105,  78])\n",
        "```"
      ]
    },
    {
      "cell_type": "code",
      "metadata": {
        "id": "7SN2ia4RTVUs"
      },
      "source": [
        "A = np.array([43, 66, 34, 55, 78, 105, 2])"
      ],
      "execution_count": 15,
      "outputs": []
    },
    {
      "cell_type": "code",
      "metadata": {
        "id": "NGts6odLVzMc"
      },
      "source": [
        "def sort_evens(A: np.ndarray) -> np.ndarray:\n",
        "    B = A.copy()\n",
        "    mask = (B%2 == 0)\n",
        "    B[mask] = np.sort(B[mask])\n",
        "    return B\n",
        "    pass"
      ],
      "execution_count": 16,
      "outputs": []
    },
    {
      "cell_type": "code",
      "metadata": {
        "id": "SGhWUHFwWWGh",
        "colab": {
          "base_uri": "https://localhost:8080/"
        },
        "outputId": "be8f94d2-6054-417d-875c-b79002357f38"
      },
      "source": [
        "sort_evens(A)"
      ],
      "execution_count": 17,
      "outputs": [
        {
          "output_type": "execute_result",
          "data": {
            "text/plain": [
              "array([ 43,   2,  34,  55,  66, 105,  78])"
            ]
          },
          "metadata": {
            "tags": []
          },
          "execution_count": 17
        }
      ]
    },
    {
      "cell_type": "markdown",
      "metadata": {
        "id": "sVBEBH9vqges"
      },
      "source": [
        "#**Сумма цифр**"
      ]
    },
    {
      "cell_type": "markdown",
      "metadata": {
        "id": "HZPVjXyJ-3_N"
      },
      "source": [
        "На вход подается np.ndarray c натуральными числами. Надо получить массив сумм цифр в этих числах.\n",
        "\n",
        "###Sample\n",
        "####Input:\n",
        "```python\n",
        "a = np.array([1241, 354, 121])\n",
        "```\n",
        "####Output:\n",
        "```python\n",
        "array([ 8, 12, 4])\n",
        "```"
      ]
    },
    {
      "cell_type": "code",
      "metadata": {
        "id": "Cw1YmK_fqdjs"
      },
      "source": [
        "a = np.array([324,213,1231119])"
      ],
      "execution_count": 22,
      "outputs": []
    },
    {
      "cell_type": "code",
      "metadata": {
        "id": "wv7M3GqbgCo5"
      },
      "source": [
        "import numpy as np\n",
        "\n",
        "def num_sum(a: np.ndarray) -> np.ndarray:\n",
        "\tstr_to_int = np.vectorize(lambda x: int(x))\n",
        "\tarr_of_digits = np.vectorize(lambda x: str_to_int(list(str(x))), otypes=[object])\n",
        "\treturn np.vectorize(lambda x: x.sum())(arr_of_digits(a))"
      ],
      "execution_count": 23,
      "outputs": []
    },
    {
      "cell_type": "code",
      "metadata": {
        "id": "s__sEH1oFGV-",
        "colab": {
          "base_uri": "https://localhost:8080/"
        },
        "outputId": "58f1ad40-5a98-4170-e7b9-3b21808110b6"
      },
      "source": [
        "num_sum(a)"
      ],
      "execution_count": 24,
      "outputs": [
        {
          "output_type": "execute_result",
          "data": {
            "text/plain": [
              "array([ 9,  6, 18])"
            ]
          },
          "metadata": {
            "tags": []
          },
          "execution_count": 24
        }
      ]
    },
    {
      "cell_type": "markdown",
      "metadata": {
        "id": "ogrmfNUvyTWX"
      },
      "source": [
        "#**NAN**"
      ]
    },
    {
      "cell_type": "markdown",
      "metadata": {
        "id": "Md96POgY_PZE"
      },
      "source": [
        "\n",
        "Одна из важных проблем данных - пустые значения. В numpy и pandas они обычно объявляются специальным типом* np.nan*. В реальных задачах нам часто нужно что-то сделать с этими значениями. Например заменить на 0, среднее или медиану.\n",
        "\n",
        "Реализуйте функцию, которая во входной вещественной матрице *X* находит все значения *nan* и заменяет их на медиану остальных элементов столбца. Если все элементы столбца матрицы *nan*, то заполняем столбец нулями.\n",
        "###Sample\n",
        "####Input:\n",
        "```python\n",
        "X = np.array([[np.nan,      4,  np.nan],\n",
        "              [np.nan, np.nan,       8],\n",
        "              [np.nan,      5,  np.nan]])\n",
        "```\n",
        "####Output:\n",
        "```python\n",
        "array([[0. , 4. , 8. ],\n",
        "       [0. , 4.5, 8. ],\n",
        "       [0. , 5. , 8. ]])\n",
        "```"
      ]
    },
    {
      "cell_type": "code",
      "metadata": {
        "id": "1QoDw5xTulIB"
      },
      "source": [
        "X = np.array([[np.nan,      4, np.nan],\n",
        "              [np.nan, np.nan, 8],\n",
        "              [np.nan,      5, np.nan]])"
      ],
      "execution_count": 25,
      "outputs": []
    },
    {
      "cell_type": "code",
      "metadata": {
        "id": "zyXwCW700p21"
      },
      "source": [
        "import numpy as np\n",
        "\n",
        "def replace_nans(X: np.ndarray) -> np.ndarray:\n",
        "    B = X.copy()\n",
        "    nan_median = np.nanmedian(B, axis=0)\n",
        "    nan_median = np.nan_to_num(nan_median)\n",
        "    B = np.where(np.isnan(B)==True,nan_median,B)\n",
        "    X = np.where(np.isnan(X)==True,B,X)    \n",
        "    return X "
      ],
      "execution_count": 26,
      "outputs": []
    },
    {
      "cell_type": "code",
      "metadata": {
        "id": "POpPsEOs1Q_C",
        "colab": {
          "base_uri": "https://localhost:8080/"
        },
        "outputId": "094cc488-d61f-4616-ca81-295fb4cbdedf"
      },
      "source": [
        "replace_nans(X)"
      ],
      "execution_count": 27,
      "outputs": [
        {
          "output_type": "stream",
          "text": [
            "/usr/local/lib/python3.6/dist-packages/numpy/lib/nanfunctions.py:1116: RuntimeWarning: All-NaN slice encountered\n",
            "  overwrite_input=overwrite_input)\n"
          ],
          "name": "stderr"
        },
        {
          "output_type": "execute_result",
          "data": {
            "text/plain": [
              "array([[0. , 4. , 8. ],\n",
              "       [0. , 4.5, 8. ],\n",
              "       [0. , 5. , 8. ]])"
            ]
          },
          "metadata": {
            "tags": []
          },
          "execution_count": 27
        }
      ]
    }
  ]
}