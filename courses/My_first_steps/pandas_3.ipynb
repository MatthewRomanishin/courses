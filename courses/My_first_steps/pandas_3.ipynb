{
  "nbformat": 4,
  "nbformat_minor": 0,
  "metadata": {
    "colab": {
      "name": "HW_pandas_3.ipynb",
      "provenance": [],
      "collapsed_sections": [],
      "include_colab_link": true
    },
    "kernelspec": {
      "name": "python3",
      "display_name": "Python 3"
    }
  },
  "cells": [
    {
      "cell_type": "markdown",
      "metadata": {
        "id": "view-in-github",
        "colab_type": "text"
      },
      "source": [
        "<a href=\"https://colab.research.google.com/github/MatthewRomanishin/courses/blob/main/courses/My_first_steps/pandas_3.ipynb\" target=\"_parent\"><img src=\"https://colab.research.google.com/assets/colab-badge.svg\" alt=\"Open In Colab\"/></a>"
      ]
    },
    {
      "cell_type": "markdown",
      "metadata": {
        "id": "Zzpg-NtOdxYm"
      },
      "source": [
        "Здесь оставлены некоторые выводы, чтобы вы сверялись и проверяли свои решения"
      ]
    },
    {
      "cell_type": "markdown",
      "metadata": {
        "id": "BtzJ8NluPpL1"
      },
      "source": [
        "Получите доступ к гугл диску"
      ]
    },
    {
      "cell_type": "code",
      "metadata": {
        "id": "xzTPSyILM8iD",
        "outputId": "0308332d-4ad8-4292-f632-b5564dda4b86",
        "colab": {
          "base_uri": "https://localhost:8080/",
          "height": 128
        }
      },
      "source": [
        "from google.colab import drive\n",
        "drive.mount('/content/gdrive')"
      ],
      "execution_count": null,
      "outputs": [
        {
          "output_type": "stream",
          "text": [
            "Go to this URL in a browser: https://accounts.google.com/o/oauth2/auth?client_id=947318989803-6bn6qk8qdgf4n4g3pfee6491hc0brc4i.apps.googleusercontent.com&redirect_uri=urn%3aietf%3awg%3aoauth%3a2.0%3aoob&response_type=code&scope=email%20https%3a%2f%2fwww.googleapis.com%2fauth%2fdocs.test%20https%3a%2f%2fwww.googleapis.com%2fauth%2fdrive%20https%3a%2f%2fwww.googleapis.com%2fauth%2fdrive.photos.readonly%20https%3a%2f%2fwww.googleapis.com%2fauth%2fpeopleapi.readonly\n",
            "\n",
            "Enter your authorization code:\n",
            "··········\n",
            "Mounted at /content/gdrive\n"
          ],
          "name": "stdout"
        }
      ]
    },
    {
      "cell_type": "markdown",
      "metadata": {
        "id": "ofElMhrXUhWF"
      },
      "source": [
        "Импортируйте pandas и numpy"
      ]
    },
    {
      "cell_type": "code",
      "metadata": {
        "id": "mnCH0u_OUjjk"
      },
      "source": [
        "import pandas as pd\n",
        "import numpy as np"
      ],
      "execution_count": null,
      "outputs": []
    },
    {
      "cell_type": "markdown",
      "metadata": {
        "id": "ebn46uf2efTK"
      },
      "source": [
        "# Часть 1"
      ]
    },
    {
      "cell_type": "markdown",
      "metadata": {
        "id": "Xyt2OZN6Pimi"
      },
      "source": [
        "Загрузите TSLA.csv"
      ]
    },
    {
      "cell_type": "code",
      "metadata": {
        "id": "YZs2nIAnNDWP",
        "outputId": "606a5d20-ee6e-446a-ac10-3f82ac5c4b7b",
        "colab": {
          "base_uri": "https://localhost:8080/",
          "height": 216
        }
      },
      "source": [
        "df = pd.read_csv('/content/gdrive/My Drive/Introduction to DS/data/TSLA.csv')\n",
        "# это удобно - выводить размер таблицы, и сразу после неё первые строки\n",
        "# рекомендую всегда делать именно так\n",
        "print(df.shape)\n",
        "df.head()"
      ],
      "execution_count": null,
      "outputs": [
        {
          "output_type": "stream",
          "text": [
            "(2416, 7)\n"
          ],
          "name": "stdout"
        },
        {
          "output_type": "execute_result",
          "data": {
            "text/html": [
              "<div>\n",
              "<style scoped>\n",
              "    .dataframe tbody tr th:only-of-type {\n",
              "        vertical-align: middle;\n",
              "    }\n",
              "\n",
              "    .dataframe tbody tr th {\n",
              "        vertical-align: top;\n",
              "    }\n",
              "\n",
              "    .dataframe thead th {\n",
              "        text-align: right;\n",
              "    }\n",
              "</style>\n",
              "<table border=\"1\" class=\"dataframe\">\n",
              "  <thead>\n",
              "    <tr style=\"text-align: right;\">\n",
              "      <th></th>\n",
              "      <th>Date</th>\n",
              "      <th>Open</th>\n",
              "      <th>High</th>\n",
              "      <th>Low</th>\n",
              "      <th>Close</th>\n",
              "      <th>Adj Close</th>\n",
              "      <th>Volume</th>\n",
              "    </tr>\n",
              "  </thead>\n",
              "  <tbody>\n",
              "    <tr>\n",
              "      <th>0</th>\n",
              "      <td>2010-06-29</td>\n",
              "      <td>19.000000</td>\n",
              "      <td>25.00</td>\n",
              "      <td>17.540001</td>\n",
              "      <td>23.889999</td>\n",
              "      <td>23.889999</td>\n",
              "      <td>18766300</td>\n",
              "    </tr>\n",
              "    <tr>\n",
              "      <th>1</th>\n",
              "      <td>2010-06-30</td>\n",
              "      <td>25.790001</td>\n",
              "      <td>30.42</td>\n",
              "      <td>23.299999</td>\n",
              "      <td>23.830000</td>\n",
              "      <td>23.830000</td>\n",
              "      <td>17187100</td>\n",
              "    </tr>\n",
              "    <tr>\n",
              "      <th>2</th>\n",
              "      <td>2010-07-01</td>\n",
              "      <td>25.000000</td>\n",
              "      <td>25.92</td>\n",
              "      <td>20.270000</td>\n",
              "      <td>21.959999</td>\n",
              "      <td>21.959999</td>\n",
              "      <td>8218800</td>\n",
              "    </tr>\n",
              "    <tr>\n",
              "      <th>3</th>\n",
              "      <td>2010-07-02</td>\n",
              "      <td>23.000000</td>\n",
              "      <td>23.10</td>\n",
              "      <td>18.709999</td>\n",
              "      <td>19.200001</td>\n",
              "      <td>19.200001</td>\n",
              "      <td>5139800</td>\n",
              "    </tr>\n",
              "    <tr>\n",
              "      <th>4</th>\n",
              "      <td>2010-07-06</td>\n",
              "      <td>20.000000</td>\n",
              "      <td>20.00</td>\n",
              "      <td>15.830000</td>\n",
              "      <td>16.110001</td>\n",
              "      <td>16.110001</td>\n",
              "      <td>6866900</td>\n",
              "    </tr>\n",
              "  </tbody>\n",
              "</table>\n",
              "</div>"
            ],
            "text/plain": [
              "         Date       Open   High        Low      Close  Adj Close    Volume\n",
              "0  2010-06-29  19.000000  25.00  17.540001  23.889999  23.889999  18766300\n",
              "1  2010-06-30  25.790001  30.42  23.299999  23.830000  23.830000  17187100\n",
              "2  2010-07-01  25.000000  25.92  20.270000  21.959999  21.959999   8218800\n",
              "3  2010-07-02  23.000000  23.10  18.709999  19.200001  19.200001   5139800\n",
              "4  2010-07-06  20.000000  20.00  15.830000  16.110001  16.110001   6866900"
            ]
          },
          "metadata": {
            "tags": []
          },
          "execution_count": 169
        }
      ]
    },
    {
      "cell_type": "markdown",
      "metadata": {
        "id": "P5UmIGjHN6Ne"
      },
      "source": [
        "Описание `TSLA.csv`: Данные EOD для акций Tesla с 2010 по 2020 год.  \n",
        "\n",
        "| Column     | Description| \n",
        "|------------|---------|\n",
        "|**Date**| Date|\n",
        "|**Open**| Opening price|\n",
        "|**High**| Highest price that day|\n",
        "|**Low**|Lowest price that day|\n",
        "|**Close**|Closing price|\n",
        "|**Adj Close**|Adjusted closing price, taking splits etc into account|\n",
        "|**Volume**|Trading volume|\n"
      ]
    },
    {
      "cell_type": "markdown",
      "metadata": {
        "id": "5wFZvXEOTHJW"
      },
      "source": [
        "Выведите долю случаев, в которых цена акций не изменилась за день"
      ]
    },
    {
      "cell_type": "code",
      "metadata": {
        "id": "-Ntc4ZHbTY6G",
        "outputId": "bf24e5ae-c695-4bd2-c3df-d6bdfceb19ec",
        "colab": {
          "base_uri": "https://localhost:8080/",
          "height": 35
        }
      },
      "source": [
        "df[df['Open'] == df['Close']].shape[0] / df.shape[0]"
      ],
      "execution_count": null,
      "outputs": [
        {
          "output_type": "execute_result",
          "data": {
            "text/plain": [
              "0.0024834437086092716"
            ]
          },
          "metadata": {
            "tags": []
          },
          "execution_count": 170
        }
      ]
    },
    {
      "cell_type": "markdown",
      "metadata": {
        "id": "7Jfsqy6iNSOJ"
      },
      "source": [
        "Создайте колонку `close_open_diff`, которая будет показывать разницу между ценой на момент закрытия и открытия.  \n",
        "Создайте колонку `high_low_diff`, которая будет показывать разницу между максимальной и минимальной ценой."
      ]
    },
    {
      "cell_type": "code",
      "metadata": {
        "id": "oWcD4K4sPgMj"
      },
      "source": [
        "df['close_open_diff'] = df['Close'] - df['Open']\n",
        "df['high_low_diff'] = df['High'] - df['Low']"
      ],
      "execution_count": null,
      "outputs": []
    },
    {
      "cell_type": "markdown",
      "metadata": {
        "id": "XCuI4DqnP9s8"
      },
      "source": [
        "Создайте колонку `open_close_diff_pct`, которая будет показывать на сколько процентов изменилась цена с момента открытия до закрытия. Используйте уже созданную колонку.\n"
      ]
    },
    {
      "cell_type": "code",
      "metadata": {
        "id": "GLspvBFQP9Im"
      },
      "source": [
        "df['open_close_diff_pct'] = (df['close_open_diff']/df['Open'])*100"
      ],
      "execution_count": null,
      "outputs": []
    },
    {
      "cell_type": "markdown",
      "metadata": {
        "id": "33QNps6IVDfQ"
      },
      "source": [
        "Выведите первые 7 строк датафрейма и проверьте, что всё логично и правильно"
      ]
    },
    {
      "cell_type": "code",
      "metadata": {
        "id": "nUcv4Z4QVCvO",
        "outputId": "69810103-4ad2-4fbd-f77c-3e525fdb8ed8",
        "colab": {
          "base_uri": "https://localhost:8080/",
          "height": 258
        }
      },
      "source": [
        "df.head(7)"
      ],
      "execution_count": null,
      "outputs": [
        {
          "output_type": "execute_result",
          "data": {
            "text/html": [
              "<div>\n",
              "<style scoped>\n",
              "    .dataframe tbody tr th:only-of-type {\n",
              "        vertical-align: middle;\n",
              "    }\n",
              "\n",
              "    .dataframe tbody tr th {\n",
              "        vertical-align: top;\n",
              "    }\n",
              "\n",
              "    .dataframe thead th {\n",
              "        text-align: right;\n",
              "    }\n",
              "</style>\n",
              "<table border=\"1\" class=\"dataframe\">\n",
              "  <thead>\n",
              "    <tr style=\"text-align: right;\">\n",
              "      <th></th>\n",
              "      <th>Date</th>\n",
              "      <th>Open</th>\n",
              "      <th>High</th>\n",
              "      <th>Low</th>\n",
              "      <th>Close</th>\n",
              "      <th>Adj Close</th>\n",
              "      <th>Volume</th>\n",
              "      <th>close_open_diff</th>\n",
              "      <th>high_low_diff</th>\n",
              "      <th>open_close_diff_pct</th>\n",
              "    </tr>\n",
              "  </thead>\n",
              "  <tbody>\n",
              "    <tr>\n",
              "      <th>0</th>\n",
              "      <td>2010-06-29</td>\n",
              "      <td>19.000000</td>\n",
              "      <td>25.000000</td>\n",
              "      <td>17.540001</td>\n",
              "      <td>23.889999</td>\n",
              "      <td>23.889999</td>\n",
              "      <td>18766300</td>\n",
              "      <td>4.889999</td>\n",
              "      <td>7.459999</td>\n",
              "      <td>25.736837</td>\n",
              "    </tr>\n",
              "    <tr>\n",
              "      <th>1</th>\n",
              "      <td>2010-06-30</td>\n",
              "      <td>25.790001</td>\n",
              "      <td>30.420000</td>\n",
              "      <td>23.299999</td>\n",
              "      <td>23.830000</td>\n",
              "      <td>23.830000</td>\n",
              "      <td>17187100</td>\n",
              "      <td>-1.960001</td>\n",
              "      <td>7.120001</td>\n",
              "      <td>-7.599848</td>\n",
              "    </tr>\n",
              "    <tr>\n",
              "      <th>2</th>\n",
              "      <td>2010-07-01</td>\n",
              "      <td>25.000000</td>\n",
              "      <td>25.920000</td>\n",
              "      <td>20.270000</td>\n",
              "      <td>21.959999</td>\n",
              "      <td>21.959999</td>\n",
              "      <td>8218800</td>\n",
              "      <td>-3.040001</td>\n",
              "      <td>5.650000</td>\n",
              "      <td>-12.160004</td>\n",
              "    </tr>\n",
              "    <tr>\n",
              "      <th>3</th>\n",
              "      <td>2010-07-02</td>\n",
              "      <td>23.000000</td>\n",
              "      <td>23.100000</td>\n",
              "      <td>18.709999</td>\n",
              "      <td>19.200001</td>\n",
              "      <td>19.200001</td>\n",
              "      <td>5139800</td>\n",
              "      <td>-3.799999</td>\n",
              "      <td>4.390001</td>\n",
              "      <td>-16.521735</td>\n",
              "    </tr>\n",
              "    <tr>\n",
              "      <th>4</th>\n",
              "      <td>2010-07-06</td>\n",
              "      <td>20.000000</td>\n",
              "      <td>20.000000</td>\n",
              "      <td>15.830000</td>\n",
              "      <td>16.110001</td>\n",
              "      <td>16.110001</td>\n",
              "      <td>6866900</td>\n",
              "      <td>-3.889999</td>\n",
              "      <td>4.170000</td>\n",
              "      <td>-19.449995</td>\n",
              "    </tr>\n",
              "    <tr>\n",
              "      <th>5</th>\n",
              "      <td>2010-07-07</td>\n",
              "      <td>16.400000</td>\n",
              "      <td>16.629999</td>\n",
              "      <td>14.980000</td>\n",
              "      <td>15.800000</td>\n",
              "      <td>15.800000</td>\n",
              "      <td>6921700</td>\n",
              "      <td>-0.600000</td>\n",
              "      <td>1.649999</td>\n",
              "      <td>-3.658537</td>\n",
              "    </tr>\n",
              "    <tr>\n",
              "      <th>6</th>\n",
              "      <td>2010-07-08</td>\n",
              "      <td>16.139999</td>\n",
              "      <td>17.520000</td>\n",
              "      <td>15.570000</td>\n",
              "      <td>17.459999</td>\n",
              "      <td>17.459999</td>\n",
              "      <td>7711400</td>\n",
              "      <td>1.320000</td>\n",
              "      <td>1.950000</td>\n",
              "      <td>8.178439</td>\n",
              "    </tr>\n",
              "  </tbody>\n",
              "</table>\n",
              "</div>"
            ],
            "text/plain": [
              "         Date       Open  ...  high_low_diff  open_close_diff_pct\n",
              "0  2010-06-29  19.000000  ...       7.459999            25.736837\n",
              "1  2010-06-30  25.790001  ...       7.120001            -7.599848\n",
              "2  2010-07-01  25.000000  ...       5.650000           -12.160004\n",
              "3  2010-07-02  23.000000  ...       4.390001           -16.521735\n",
              "4  2010-07-06  20.000000  ...       4.170000           -19.449995\n",
              "5  2010-07-07  16.400000  ...       1.649999            -3.658537\n",
              "6  2010-07-08  16.139999  ...       1.950000             8.178439\n",
              "\n",
              "[7 rows x 10 columns]"
            ]
          },
          "metadata": {
            "tags": []
          },
          "execution_count": 173
        }
      ]
    },
    {
      "cell_type": "markdown",
      "metadata": {
        "id": "1Gu5O-WBQZlg"
      },
      "source": [
        "Создайте колонку `WTo_TbI_TAKOE`, которая будет показывать значение арктангенса от отношения квадрата разности колонок `close_open_diff` и `high_low_diff`, умноженный на 228, к колонке `close_open_diff_pct`, возведённой в степень 3/5, умноженного на 1000 и возведённого в степень 3"
      ]
    },
    {
      "cell_type": "code",
      "metadata": {
        "id": "nUUX7U9zdjS9"
      },
      "source": [
        "df['WTo_TbI_TAKOE1'] = np.arctan(((df['close_open_diff'] - df['high_low_diff'])**2*228) / (df['open_close_diff_pct']**(3/5)))*1000**3\n",
        "df['WTo_tbI_TAKOE2'] = np.arctan(((df['close_open_diff'] - df['high_low_diff'])**2*228)/(df['open_close_diff_pct'])**(3/5))*1000**3"
      ],
      "execution_count": null,
      "outputs": []
    },
    {
      "cell_type": "code",
      "metadata": {
        "id": "PaUbmHUXRSvC"
      },
      "source": [
        "\n",
        "# ответ на самый крайний случай                                                                                                                                                                          df['WTo_TbI_TAKOE'] = np.arctan(((df['close_open_diff'] - df['high_low_diff'])**2*228) / (df['close_open_diff_pct']**(3/5)))*1000**3"
      ],
      "execution_count": null,
      "outputs": []
    },
    {
      "cell_type": "markdown",
      "metadata": {
        "id": "JTJuEXuFXmpg"
      },
      "source": [
        "Выведите полученный датафрейм"
      ]
    },
    {
      "cell_type": "code",
      "metadata": {
        "id": "HkboB6geWs_R",
        "outputId": "cff2073a-c828-4b96-9ca3-bbd1e356c69b",
        "colab": {
          "base_uri": "https://localhost:8080/",
          "height": 407
        }
      },
      "source": [
        "df"
      ],
      "execution_count": null,
      "outputs": [
        {
          "output_type": "execute_result",
          "data": {
            "text/html": [
              "<div>\n",
              "<style scoped>\n",
              "    .dataframe tbody tr th:only-of-type {\n",
              "        vertical-align: middle;\n",
              "    }\n",
              "\n",
              "    .dataframe tbody tr th {\n",
              "        vertical-align: top;\n",
              "    }\n",
              "\n",
              "    .dataframe thead th {\n",
              "        text-align: right;\n",
              "    }\n",
              "</style>\n",
              "<table border=\"1\" class=\"dataframe\">\n",
              "  <thead>\n",
              "    <tr style=\"text-align: right;\">\n",
              "      <th></th>\n",
              "      <th>Date</th>\n",
              "      <th>Open</th>\n",
              "      <th>High</th>\n",
              "      <th>Low</th>\n",
              "      <th>Close</th>\n",
              "      <th>Adj Close</th>\n",
              "      <th>Volume</th>\n",
              "      <th>close_open_diff</th>\n",
              "      <th>high_low_diff</th>\n",
              "      <th>open_close_diff_pct</th>\n",
              "      <th>WTo_TbI_TAKOE1</th>\n",
              "      <th>WTo_tbI_TAKOE2</th>\n",
              "    </tr>\n",
              "  </thead>\n",
              "  <tbody>\n",
              "    <tr>\n",
              "      <th>0</th>\n",
              "      <td>2010-06-29</td>\n",
              "      <td>19.000000</td>\n",
              "      <td>25.000000</td>\n",
              "      <td>17.540001</td>\n",
              "      <td>23.889999</td>\n",
              "      <td>23.889999</td>\n",
              "      <td>18766300</td>\n",
              "      <td>4.889999</td>\n",
              "      <td>7.459999</td>\n",
              "      <td>25.736837</td>\n",
              "      <td>1.566135e+09</td>\n",
              "      <td>1.566135e+09</td>\n",
              "    </tr>\n",
              "    <tr>\n",
              "      <th>1</th>\n",
              "      <td>2010-06-30</td>\n",
              "      <td>25.790001</td>\n",
              "      <td>30.420000</td>\n",
              "      <td>23.299999</td>\n",
              "      <td>23.830000</td>\n",
              "      <td>23.830000</td>\n",
              "      <td>17187100</td>\n",
              "      <td>-1.960001</td>\n",
              "      <td>7.120001</td>\n",
              "      <td>-7.599848</td>\n",
              "      <td>NaN</td>\n",
              "      <td>NaN</td>\n",
              "    </tr>\n",
              "    <tr>\n",
              "      <th>2</th>\n",
              "      <td>2010-07-01</td>\n",
              "      <td>25.000000</td>\n",
              "      <td>25.920000</td>\n",
              "      <td>20.270000</td>\n",
              "      <td>21.959999</td>\n",
              "      <td>21.959999</td>\n",
              "      <td>8218800</td>\n",
              "      <td>-3.040001</td>\n",
              "      <td>5.650000</td>\n",
              "      <td>-12.160004</td>\n",
              "      <td>NaN</td>\n",
              "      <td>NaN</td>\n",
              "    </tr>\n",
              "    <tr>\n",
              "      <th>3</th>\n",
              "      <td>2010-07-02</td>\n",
              "      <td>23.000000</td>\n",
              "      <td>23.100000</td>\n",
              "      <td>18.709999</td>\n",
              "      <td>19.200001</td>\n",
              "      <td>19.200001</td>\n",
              "      <td>5139800</td>\n",
              "      <td>-3.799999</td>\n",
              "      <td>4.390001</td>\n",
              "      <td>-16.521735</td>\n",
              "      <td>NaN</td>\n",
              "      <td>NaN</td>\n",
              "    </tr>\n",
              "    <tr>\n",
              "      <th>4</th>\n",
              "      <td>2010-07-06</td>\n",
              "      <td>20.000000</td>\n",
              "      <td>20.000000</td>\n",
              "      <td>15.830000</td>\n",
              "      <td>16.110001</td>\n",
              "      <td>16.110001</td>\n",
              "      <td>6866900</td>\n",
              "      <td>-3.889999</td>\n",
              "      <td>4.170000</td>\n",
              "      <td>-19.449995</td>\n",
              "      <td>NaN</td>\n",
              "      <td>NaN</td>\n",
              "    </tr>\n",
              "    <tr>\n",
              "      <th>...</th>\n",
              "      <td>...</td>\n",
              "      <td>...</td>\n",
              "      <td>...</td>\n",
              "      <td>...</td>\n",
              "      <td>...</td>\n",
              "      <td>...</td>\n",
              "      <td>...</td>\n",
              "      <td>...</td>\n",
              "      <td>...</td>\n",
              "      <td>...</td>\n",
              "      <td>...</td>\n",
              "      <td>...</td>\n",
              "    </tr>\n",
              "    <tr>\n",
              "      <th>2411</th>\n",
              "      <td>2020-01-28</td>\n",
              "      <td>568.489990</td>\n",
              "      <td>576.809998</td>\n",
              "      <td>558.080017</td>\n",
              "      <td>566.900024</td>\n",
              "      <td>566.900024</td>\n",
              "      <td>11788500</td>\n",
              "      <td>-1.589966</td>\n",
              "      <td>18.729981</td>\n",
              "      <td>-0.279682</td>\n",
              "      <td>NaN</td>\n",
              "      <td>NaN</td>\n",
              "    </tr>\n",
              "    <tr>\n",
              "      <th>2412</th>\n",
              "      <td>2020-01-29</td>\n",
              "      <td>575.690002</td>\n",
              "      <td>589.799988</td>\n",
              "      <td>567.429993</td>\n",
              "      <td>580.989990</td>\n",
              "      <td>580.989990</td>\n",
              "      <td>17801500</td>\n",
              "      <td>5.299988</td>\n",
              "      <td>22.369995</td>\n",
              "      <td>0.920632</td>\n",
              "      <td>1.570782e+09</td>\n",
              "      <td>1.570782e+09</td>\n",
              "    </tr>\n",
              "    <tr>\n",
              "      <th>2413</th>\n",
              "      <td>2020-01-30</td>\n",
              "      <td>632.419983</td>\n",
              "      <td>650.880005</td>\n",
              "      <td>618.000000</td>\n",
              "      <td>640.809998</td>\n",
              "      <td>640.809998</td>\n",
              "      <td>29005700</td>\n",
              "      <td>8.390015</td>\n",
              "      <td>32.880005</td>\n",
              "      <td>1.326652</td>\n",
              "      <td>1.570788e+09</td>\n",
              "      <td>1.570788e+09</td>\n",
              "    </tr>\n",
              "    <tr>\n",
              "      <th>2414</th>\n",
              "      <td>2020-01-31</td>\n",
              "      <td>640.000000</td>\n",
              "      <td>653.000000</td>\n",
              "      <td>632.520020</td>\n",
              "      <td>650.570007</td>\n",
              "      <td>650.570007</td>\n",
              "      <td>15719300</td>\n",
              "      <td>10.570007</td>\n",
              "      <td>20.479980</td>\n",
              "      <td>1.651564</td>\n",
              "      <td>1.570736e+09</td>\n",
              "      <td>1.570736e+09</td>\n",
              "    </tr>\n",
              "    <tr>\n",
              "      <th>2415</th>\n",
              "      <td>2020-02-03</td>\n",
              "      <td>673.690002</td>\n",
              "      <td>786.140015</td>\n",
              "      <td>673.520020</td>\n",
              "      <td>780.000000</td>\n",
              "      <td>780.000000</td>\n",
              "      <td>47065000</td>\n",
              "      <td>106.309998</td>\n",
              "      <td>112.619995</td>\n",
              "      <td>15.780255</td>\n",
              "      <td>1.570220e+09</td>\n",
              "      <td>1.570220e+09</td>\n",
              "    </tr>\n",
              "  </tbody>\n",
              "</table>\n",
              "<p>2416 rows × 12 columns</p>\n",
              "</div>"
            ],
            "text/plain": [
              "            Date        Open  ...  WTo_TbI_TAKOE1  WTo_tbI_TAKOE2\n",
              "0     2010-06-29   19.000000  ...    1.566135e+09    1.566135e+09\n",
              "1     2010-06-30   25.790001  ...             NaN             NaN\n",
              "2     2010-07-01   25.000000  ...             NaN             NaN\n",
              "3     2010-07-02   23.000000  ...             NaN             NaN\n",
              "4     2010-07-06   20.000000  ...             NaN             NaN\n",
              "...          ...         ...  ...             ...             ...\n",
              "2411  2020-01-28  568.489990  ...             NaN             NaN\n",
              "2412  2020-01-29  575.690002  ...    1.570782e+09    1.570782e+09\n",
              "2413  2020-01-30  632.419983  ...    1.570788e+09    1.570788e+09\n",
              "2414  2020-01-31  640.000000  ...    1.570736e+09    1.570736e+09\n",
              "2415  2020-02-03  673.690002  ...    1.570220e+09    1.570220e+09\n",
              "\n",
              "[2416 rows x 12 columns]"
            ]
          },
          "metadata": {
            "tags": []
          },
          "execution_count": 175
        }
      ]
    },
    {
      "cell_type": "markdown",
      "metadata": {
        "id": "ieBeOu2RYKdE"
      },
      "source": [
        "Сколько в полученном датафрейме строк, в которых есть `NaN` (`np.nan`)?  \n",
        "Выведите их количество и удалите из датафрейма все строки, в которых они есть."
      ]
    },
    {
      "cell_type": "code",
      "metadata": {
        "id": "sqnFOU_tWPjh",
        "outputId": "07780004-7ee0-4655-fdac-0adbbe2372fa",
        "colab": {
          "base_uri": "https://localhost:8080/",
          "height": 35
        }
      },
      "source": [
        "((df.isnull().sum(axis = 1))>0).sum()\n",
        "\n",
        "# sum([True for idx,row in df.iterrows() if any(row.isnull())])  Вариант выше, как по мне, проще"
      ],
      "execution_count": null,
      "outputs": [
        {
          "output_type": "execute_result",
          "data": {
            "text/plain": [
              "1210"
            ]
          },
          "metadata": {
            "tags": []
          },
          "execution_count": 176
        }
      ]
    },
    {
      "cell_type": "code",
      "metadata": {
        "id": "LxbUcEJVbwXC"
      },
      "source": [
        "df = df.dropna()"
      ],
      "execution_count": null,
      "outputs": []
    },
    {
      "cell_type": "markdown",
      "metadata": {
        "id": "KVWWanWub7nw"
      },
      "source": [
        "Снова выведите датафрейм и посмотри на индексы. Они идут не подряд - это не очень..."
      ]
    },
    {
      "cell_type": "code",
      "metadata": {
        "id": "w6OmJHS8b-_v",
        "outputId": "10455a5e-364d-4d83-cab6-61a89c19387c",
        "colab": {
          "base_uri": "https://localhost:8080/",
          "height": 407
        }
      },
      "source": [
        "df"
      ],
      "execution_count": null,
      "outputs": [
        {
          "output_type": "execute_result",
          "data": {
            "text/html": [
              "<div>\n",
              "<style scoped>\n",
              "    .dataframe tbody tr th:only-of-type {\n",
              "        vertical-align: middle;\n",
              "    }\n",
              "\n",
              "    .dataframe tbody tr th {\n",
              "        vertical-align: top;\n",
              "    }\n",
              "\n",
              "    .dataframe thead th {\n",
              "        text-align: right;\n",
              "    }\n",
              "</style>\n",
              "<table border=\"1\" class=\"dataframe\">\n",
              "  <thead>\n",
              "    <tr style=\"text-align: right;\">\n",
              "      <th></th>\n",
              "      <th>Date</th>\n",
              "      <th>Open</th>\n",
              "      <th>High</th>\n",
              "      <th>Low</th>\n",
              "      <th>Close</th>\n",
              "      <th>Adj Close</th>\n",
              "      <th>Volume</th>\n",
              "      <th>close_open_diff</th>\n",
              "      <th>high_low_diff</th>\n",
              "      <th>open_close_diff_pct</th>\n",
              "      <th>WTo_TbI_TAKOE1</th>\n",
              "      <th>WTo_tbI_TAKOE2</th>\n",
              "    </tr>\n",
              "  </thead>\n",
              "  <tbody>\n",
              "    <tr>\n",
              "      <th>0</th>\n",
              "      <td>2010-06-29</td>\n",
              "      <td>19.000000</td>\n",
              "      <td>25.000000</td>\n",
              "      <td>17.540001</td>\n",
              "      <td>23.889999</td>\n",
              "      <td>23.889999</td>\n",
              "      <td>18766300</td>\n",
              "      <td>4.889999</td>\n",
              "      <td>7.459999</td>\n",
              "      <td>25.736837</td>\n",
              "      <td>1.566135e+09</td>\n",
              "      <td>1.566135e+09</td>\n",
              "    </tr>\n",
              "    <tr>\n",
              "      <th>6</th>\n",
              "      <td>2010-07-08</td>\n",
              "      <td>16.139999</td>\n",
              "      <td>17.520000</td>\n",
              "      <td>15.570000</td>\n",
              "      <td>17.459999</td>\n",
              "      <td>17.459999</td>\n",
              "      <td>7711400</td>\n",
              "      <td>1.320000</td>\n",
              "      <td>1.950000</td>\n",
              "      <td>8.178439</td>\n",
              "      <td>1.531823e+09</td>\n",
              "      <td>1.531823e+09</td>\n",
              "    </tr>\n",
              "    <tr>\n",
              "      <th>9</th>\n",
              "      <td>2010-07-13</td>\n",
              "      <td>17.389999</td>\n",
              "      <td>18.639999</td>\n",
              "      <td>16.900000</td>\n",
              "      <td>18.139999</td>\n",
              "      <td>18.139999</td>\n",
              "      <td>2680100</td>\n",
              "      <td>0.750000</td>\n",
              "      <td>1.739999</td>\n",
              "      <td>4.312824</td>\n",
              "      <td>1.560041e+09</td>\n",
              "      <td>1.560041e+09</td>\n",
              "    </tr>\n",
              "    <tr>\n",
              "      <th>10</th>\n",
              "      <td>2010-07-14</td>\n",
              "      <td>17.940001</td>\n",
              "      <td>20.150000</td>\n",
              "      <td>17.760000</td>\n",
              "      <td>19.840000</td>\n",
              "      <td>19.840000</td>\n",
              "      <td>4195200</td>\n",
              "      <td>1.899999</td>\n",
              "      <td>2.390000</td>\n",
              "      <td>10.590852</td>\n",
              "      <td>1.495667e+09</td>\n",
              "      <td>1.495667e+09</td>\n",
              "    </tr>\n",
              "    <tr>\n",
              "      <th>13</th>\n",
              "      <td>2010-07-19</td>\n",
              "      <td>21.370001</td>\n",
              "      <td>22.250000</td>\n",
              "      <td>20.920000</td>\n",
              "      <td>21.910000</td>\n",
              "      <td>21.910000</td>\n",
              "      <td>2486500</td>\n",
              "      <td>0.539999</td>\n",
              "      <td>1.330000</td>\n",
              "      <td>2.526902</td>\n",
              "      <td>1.558541e+09</td>\n",
              "      <td>1.558541e+09</td>\n",
              "    </tr>\n",
              "    <tr>\n",
              "      <th>...</th>\n",
              "      <td>...</td>\n",
              "      <td>...</td>\n",
              "      <td>...</td>\n",
              "      <td>...</td>\n",
              "      <td>...</td>\n",
              "      <td>...</td>\n",
              "      <td>...</td>\n",
              "      <td>...</td>\n",
              "      <td>...</td>\n",
              "      <td>...</td>\n",
              "      <td>...</td>\n",
              "      <td>...</td>\n",
              "    </tr>\n",
              "    <tr>\n",
              "      <th>2410</th>\n",
              "      <td>2020-01-27</td>\n",
              "      <td>541.989990</td>\n",
              "      <td>564.440002</td>\n",
              "      <td>539.280029</td>\n",
              "      <td>558.020020</td>\n",
              "      <td>558.020020</td>\n",
              "      <td>13608100</td>\n",
              "      <td>16.030030</td>\n",
              "      <td>25.159973</td>\n",
              "      <td>2.957625</td>\n",
              "      <td>1.570695e+09</td>\n",
              "      <td>1.570695e+09</td>\n",
              "    </tr>\n",
              "    <tr>\n",
              "      <th>2412</th>\n",
              "      <td>2020-01-29</td>\n",
              "      <td>575.690002</td>\n",
              "      <td>589.799988</td>\n",
              "      <td>567.429993</td>\n",
              "      <td>580.989990</td>\n",
              "      <td>580.989990</td>\n",
              "      <td>17801500</td>\n",
              "      <td>5.299988</td>\n",
              "      <td>22.369995</td>\n",
              "      <td>0.920632</td>\n",
              "      <td>1.570782e+09</td>\n",
              "      <td>1.570782e+09</td>\n",
              "    </tr>\n",
              "    <tr>\n",
              "      <th>2413</th>\n",
              "      <td>2020-01-30</td>\n",
              "      <td>632.419983</td>\n",
              "      <td>650.880005</td>\n",
              "      <td>618.000000</td>\n",
              "      <td>640.809998</td>\n",
              "      <td>640.809998</td>\n",
              "      <td>29005700</td>\n",
              "      <td>8.390015</td>\n",
              "      <td>32.880005</td>\n",
              "      <td>1.326652</td>\n",
              "      <td>1.570788e+09</td>\n",
              "      <td>1.570788e+09</td>\n",
              "    </tr>\n",
              "    <tr>\n",
              "      <th>2414</th>\n",
              "      <td>2020-01-31</td>\n",
              "      <td>640.000000</td>\n",
              "      <td>653.000000</td>\n",
              "      <td>632.520020</td>\n",
              "      <td>650.570007</td>\n",
              "      <td>650.570007</td>\n",
              "      <td>15719300</td>\n",
              "      <td>10.570007</td>\n",
              "      <td>20.479980</td>\n",
              "      <td>1.651564</td>\n",
              "      <td>1.570736e+09</td>\n",
              "      <td>1.570736e+09</td>\n",
              "    </tr>\n",
              "    <tr>\n",
              "      <th>2415</th>\n",
              "      <td>2020-02-03</td>\n",
              "      <td>673.690002</td>\n",
              "      <td>786.140015</td>\n",
              "      <td>673.520020</td>\n",
              "      <td>780.000000</td>\n",
              "      <td>780.000000</td>\n",
              "      <td>47065000</td>\n",
              "      <td>106.309998</td>\n",
              "      <td>112.619995</td>\n",
              "      <td>15.780255</td>\n",
              "      <td>1.570220e+09</td>\n",
              "      <td>1.570220e+09</td>\n",
              "    </tr>\n",
              "  </tbody>\n",
              "</table>\n",
              "<p>1206 rows × 12 columns</p>\n",
              "</div>"
            ],
            "text/plain": [
              "            Date        Open  ...  WTo_TbI_TAKOE1  WTo_tbI_TAKOE2\n",
              "0     2010-06-29   19.000000  ...    1.566135e+09    1.566135e+09\n",
              "6     2010-07-08   16.139999  ...    1.531823e+09    1.531823e+09\n",
              "9     2010-07-13   17.389999  ...    1.560041e+09    1.560041e+09\n",
              "10    2010-07-14   17.940001  ...    1.495667e+09    1.495667e+09\n",
              "13    2010-07-19   21.370001  ...    1.558541e+09    1.558541e+09\n",
              "...          ...         ...  ...             ...             ...\n",
              "2410  2020-01-27  541.989990  ...    1.570695e+09    1.570695e+09\n",
              "2412  2020-01-29  575.690002  ...    1.570782e+09    1.570782e+09\n",
              "2413  2020-01-30  632.419983  ...    1.570788e+09    1.570788e+09\n",
              "2414  2020-01-31  640.000000  ...    1.570736e+09    1.570736e+09\n",
              "2415  2020-02-03  673.690002  ...    1.570220e+09    1.570220e+09\n",
              "\n",
              "[1206 rows x 12 columns]"
            ]
          },
          "metadata": {
            "tags": []
          },
          "execution_count": 178
        }
      ]
    },
    {
      "cell_type": "markdown",
      "metadata": {
        "id": "5a10tPA4cIDB"
      },
      "source": [
        "Обнули индексы и выведи первые 5 строк, чтобы удостовериться, что всё хорошо работает (структура датафрейма должна остаться прежней: никаких лишних строк)"
      ]
    },
    {
      "cell_type": "code",
      "metadata": {
        "id": "bqOyArGOcHV8",
        "outputId": "881e065e-be17-4adc-80f8-7325daca95c0",
        "colab": {
          "base_uri": "https://localhost:8080/",
          "height": 198
        }
      },
      "source": [
        "df = df.reset_index(drop=True)\n",
        "df.head(5)"
      ],
      "execution_count": null,
      "outputs": [
        {
          "output_type": "execute_result",
          "data": {
            "text/html": [
              "<div>\n",
              "<style scoped>\n",
              "    .dataframe tbody tr th:only-of-type {\n",
              "        vertical-align: middle;\n",
              "    }\n",
              "\n",
              "    .dataframe tbody tr th {\n",
              "        vertical-align: top;\n",
              "    }\n",
              "\n",
              "    .dataframe thead th {\n",
              "        text-align: right;\n",
              "    }\n",
              "</style>\n",
              "<table border=\"1\" class=\"dataframe\">\n",
              "  <thead>\n",
              "    <tr style=\"text-align: right;\">\n",
              "      <th></th>\n",
              "      <th>Date</th>\n",
              "      <th>Open</th>\n",
              "      <th>High</th>\n",
              "      <th>Low</th>\n",
              "      <th>Close</th>\n",
              "      <th>Adj Close</th>\n",
              "      <th>Volume</th>\n",
              "      <th>close_open_diff</th>\n",
              "      <th>high_low_diff</th>\n",
              "      <th>open_close_diff_pct</th>\n",
              "      <th>WTo_TbI_TAKOE1</th>\n",
              "      <th>WTo_tbI_TAKOE2</th>\n",
              "    </tr>\n",
              "  </thead>\n",
              "  <tbody>\n",
              "    <tr>\n",
              "      <th>0</th>\n",
              "      <td>2010-06-29</td>\n",
              "      <td>19.000000</td>\n",
              "      <td>25.000000</td>\n",
              "      <td>17.540001</td>\n",
              "      <td>23.889999</td>\n",
              "      <td>23.889999</td>\n",
              "      <td>18766300</td>\n",
              "      <td>4.889999</td>\n",
              "      <td>7.459999</td>\n",
              "      <td>25.736837</td>\n",
              "      <td>1.566135e+09</td>\n",
              "      <td>1.566135e+09</td>\n",
              "    </tr>\n",
              "    <tr>\n",
              "      <th>1</th>\n",
              "      <td>2010-07-08</td>\n",
              "      <td>16.139999</td>\n",
              "      <td>17.520000</td>\n",
              "      <td>15.570000</td>\n",
              "      <td>17.459999</td>\n",
              "      <td>17.459999</td>\n",
              "      <td>7711400</td>\n",
              "      <td>1.320000</td>\n",
              "      <td>1.950000</td>\n",
              "      <td>8.178439</td>\n",
              "      <td>1.531823e+09</td>\n",
              "      <td>1.531823e+09</td>\n",
              "    </tr>\n",
              "    <tr>\n",
              "      <th>2</th>\n",
              "      <td>2010-07-13</td>\n",
              "      <td>17.389999</td>\n",
              "      <td>18.639999</td>\n",
              "      <td>16.900000</td>\n",
              "      <td>18.139999</td>\n",
              "      <td>18.139999</td>\n",
              "      <td>2680100</td>\n",
              "      <td>0.750000</td>\n",
              "      <td>1.739999</td>\n",
              "      <td>4.312824</td>\n",
              "      <td>1.560041e+09</td>\n",
              "      <td>1.560041e+09</td>\n",
              "    </tr>\n",
              "    <tr>\n",
              "      <th>3</th>\n",
              "      <td>2010-07-14</td>\n",
              "      <td>17.940001</td>\n",
              "      <td>20.150000</td>\n",
              "      <td>17.760000</td>\n",
              "      <td>19.840000</td>\n",
              "      <td>19.840000</td>\n",
              "      <td>4195200</td>\n",
              "      <td>1.899999</td>\n",
              "      <td>2.390000</td>\n",
              "      <td>10.590852</td>\n",
              "      <td>1.495667e+09</td>\n",
              "      <td>1.495667e+09</td>\n",
              "    </tr>\n",
              "    <tr>\n",
              "      <th>4</th>\n",
              "      <td>2010-07-19</td>\n",
              "      <td>21.370001</td>\n",
              "      <td>22.250000</td>\n",
              "      <td>20.920000</td>\n",
              "      <td>21.910000</td>\n",
              "      <td>21.910000</td>\n",
              "      <td>2486500</td>\n",
              "      <td>0.539999</td>\n",
              "      <td>1.330000</td>\n",
              "      <td>2.526902</td>\n",
              "      <td>1.558541e+09</td>\n",
              "      <td>1.558541e+09</td>\n",
              "    </tr>\n",
              "  </tbody>\n",
              "</table>\n",
              "</div>"
            ],
            "text/plain": [
              "         Date       Open  ...  WTo_TbI_TAKOE1  WTo_tbI_TAKOE2\n",
              "0  2010-06-29  19.000000  ...    1.566135e+09    1.566135e+09\n",
              "1  2010-07-08  16.139999  ...    1.531823e+09    1.531823e+09\n",
              "2  2010-07-13  17.389999  ...    1.560041e+09    1.560041e+09\n",
              "3  2010-07-14  17.940001  ...    1.495667e+09    1.495667e+09\n",
              "4  2010-07-19  21.370001  ...    1.558541e+09    1.558541e+09\n",
              "\n",
              "[5 rows x 12 columns]"
            ]
          },
          "metadata": {
            "tags": []
          },
          "execution_count": 179
        }
      ]
    },
    {
      "cell_type": "markdown",
      "metadata": {
        "id": "Bz5GQuT3Tj0U"
      },
      "source": [
        "Выведите таблицу, в которой будет среднее и максимум стоимости акций на конец дня для каждого года"
      ]
    },
    {
      "cell_type": "code",
      "metadata": {
        "id": "1NvULh_AHKjs",
        "outputId": "d6e78dd4-7cf6-4131-922f-6b1ac32f8d89",
        "colab": {
          "base_uri": "https://localhost:8080/",
          "height": 408
        }
      },
      "source": [
        "df['Year']=df['Date'].str.split('-').str.get(0)\n",
        "df.groupby(['Year'])['Close'].agg(['mean', 'max'])"
      ],
      "execution_count": null,
      "outputs": [
        {
          "output_type": "execute_result",
          "data": {
            "text/html": [
              "<div>\n",
              "<style scoped>\n",
              "    .dataframe tbody tr th:only-of-type {\n",
              "        vertical-align: middle;\n",
              "    }\n",
              "\n",
              "    .dataframe tbody tr th {\n",
              "        vertical-align: top;\n",
              "    }\n",
              "\n",
              "    .dataframe thead th {\n",
              "        text-align: right;\n",
              "    }\n",
              "</style>\n",
              "<table border=\"1\" class=\"dataframe\">\n",
              "  <thead>\n",
              "    <tr style=\"text-align: right;\">\n",
              "      <th></th>\n",
              "      <th>mean</th>\n",
              "      <th>max</th>\n",
              "    </tr>\n",
              "    <tr>\n",
              "      <th>Year</th>\n",
              "      <th></th>\n",
              "      <th></th>\n",
              "    </tr>\n",
              "  </thead>\n",
              "  <tbody>\n",
              "    <tr>\n",
              "      <th>2010</th>\n",
              "      <td>23.997759</td>\n",
              "      <td>35.470001</td>\n",
              "    </tr>\n",
              "    <tr>\n",
              "      <th>2011</th>\n",
              "      <td>27.332891</td>\n",
              "      <td>34.939999</td>\n",
              "    </tr>\n",
              "    <tr>\n",
              "      <th>2012</th>\n",
              "      <td>31.684917</td>\n",
              "      <td>38.009998</td>\n",
              "    </tr>\n",
              "    <tr>\n",
              "      <th>2013</th>\n",
              "      <td>103.823333</td>\n",
              "      <td>193.369995</td>\n",
              "    </tr>\n",
              "    <tr>\n",
              "      <th>2014</th>\n",
              "      <td>224.512834</td>\n",
              "      <td>286.040009</td>\n",
              "    </tr>\n",
              "    <tr>\n",
              "      <th>2015</th>\n",
              "      <td>231.314730</td>\n",
              "      <td>282.260010</td>\n",
              "    </tr>\n",
              "    <tr>\n",
              "      <th>2016</th>\n",
              "      <td>210.956101</td>\n",
              "      <td>265.420013</td>\n",
              "    </tr>\n",
              "    <tr>\n",
              "      <th>2017</th>\n",
              "      <td>313.473822</td>\n",
              "      <td>385.000000</td>\n",
              "    </tr>\n",
              "    <tr>\n",
              "      <th>2018</th>\n",
              "      <td>322.372001</td>\n",
              "      <td>379.570007</td>\n",
              "    </tr>\n",
              "    <tr>\n",
              "      <th>2019</th>\n",
              "      <td>281.063165</td>\n",
              "      <td>430.940002</td>\n",
              "    </tr>\n",
              "    <tr>\n",
              "      <th>2020</th>\n",
              "      <td>544.310004</td>\n",
              "      <td>780.000000</td>\n",
              "    </tr>\n",
              "  </tbody>\n",
              "</table>\n",
              "</div>"
            ],
            "text/plain": [
              "            mean         max\n",
              "Year                        \n",
              "2010   23.997759   35.470001\n",
              "2011   27.332891   34.939999\n",
              "2012   31.684917   38.009998\n",
              "2013  103.823333  193.369995\n",
              "2014  224.512834  286.040009\n",
              "2015  231.314730  282.260010\n",
              "2016  210.956101  265.420013\n",
              "2017  313.473822  385.000000\n",
              "2018  322.372001  379.570007\n",
              "2019  281.063165  430.940002\n",
              "2020  544.310004  780.000000"
            ]
          },
          "metadata": {
            "tags": []
          },
          "execution_count": 180
        }
      ]
    },
    {
      "cell_type": "markdown",
      "metadata": {
        "id": "cskx517kiyc6"
      },
      "source": [
        "Выведите таблицу, в которой будет медиана, минимум и дисперсия максимальной стоимости акций за день для каждого месяца и округлите до 3-го знака после запятой"
      ]
    },
    {
      "cell_type": "code",
      "metadata": {
        "id": "oyTBefjIj1Lg",
        "outputId": "4333451b-a6b9-4289-a316-69d3c751f2e7",
        "colab": {
          "base_uri": "https://localhost:8080/",
          "height": 438
        }
      },
      "source": [
        "df['Month']=df['Date'].str.split('-').str.get(1)\n",
        "t_mon = df.groupby(['Month'])['Close']\n",
        "t_mon.agg(['median','min', 'var']).apply(lambda x: round(x,3))"
      ],
      "execution_count": null,
      "outputs": [
        {
          "output_type": "execute_result",
          "data": {
            "text/html": [
              "<div>\n",
              "<style scoped>\n",
              "    .dataframe tbody tr th:only-of-type {\n",
              "        vertical-align: middle;\n",
              "    }\n",
              "\n",
              "    .dataframe tbody tr th {\n",
              "        vertical-align: top;\n",
              "    }\n",
              "\n",
              "    .dataframe thead th {\n",
              "        text-align: right;\n",
              "    }\n",
              "</style>\n",
              "<table border=\"1\" class=\"dataframe\">\n",
              "  <thead>\n",
              "    <tr style=\"text-align: right;\">\n",
              "      <th></th>\n",
              "      <th>median</th>\n",
              "      <th>min</th>\n",
              "      <th>var</th>\n",
              "    </tr>\n",
              "    <tr>\n",
              "      <th>Month</th>\n",
              "      <th></th>\n",
              "      <th></th>\n",
              "      <th></th>\n",
              "    </tr>\n",
              "  </thead>\n",
              "  <tbody>\n",
              "    <tr>\n",
              "      <th>01</th>\n",
              "      <td>216.990</td>\n",
              "      <td>24.10</td>\n",
              "      <td>26069.743</td>\n",
              "    </tr>\n",
              "    <tr>\n",
              "      <th>02</th>\n",
              "      <td>202.880</td>\n",
              "      <td>22.53</td>\n",
              "      <td>17110.384</td>\n",
              "    </tr>\n",
              "    <tr>\n",
              "      <th>03</th>\n",
              "      <td>201.040</td>\n",
              "      <td>22.21</td>\n",
              "      <td>12478.809</td>\n",
              "    </tr>\n",
              "    <tr>\n",
              "      <th>04</th>\n",
              "      <td>216.970</td>\n",
              "      <td>25.14</td>\n",
              "      <td>11539.754</td>\n",
              "    </tr>\n",
              "    <tr>\n",
              "      <th>05</th>\n",
              "      <td>211.170</td>\n",
              "      <td>26.35</td>\n",
              "      <td>9725.404</td>\n",
              "    </tr>\n",
              "    <tr>\n",
              "      <th>06</th>\n",
              "      <td>221.270</td>\n",
              "      <td>23.89</td>\n",
              "      <td>13538.477</td>\n",
              "    </tr>\n",
              "    <tr>\n",
              "      <th>07</th>\n",
              "      <td>224.110</td>\n",
              "      <td>17.46</td>\n",
              "      <td>11292.847</td>\n",
              "    </tr>\n",
              "    <tr>\n",
              "      <th>08</th>\n",
              "      <td>229.555</td>\n",
              "      <td>18.32</td>\n",
              "      <td>14394.101</td>\n",
              "    </tr>\n",
              "    <tr>\n",
              "      <th>09</th>\n",
              "      <td>206.940</td>\n",
              "      <td>20.10</td>\n",
              "      <td>13344.373</td>\n",
              "    </tr>\n",
              "    <tr>\n",
              "      <th>10</th>\n",
              "      <td>226.350</td>\n",
              "      <td>20.24</td>\n",
              "      <td>13555.937</td>\n",
              "    </tr>\n",
              "    <tr>\n",
              "      <th>11</th>\n",
              "      <td>214.310</td>\n",
              "      <td>21.77</td>\n",
              "      <td>16208.530</td>\n",
              "    </tr>\n",
              "    <tr>\n",
              "      <th>12</th>\n",
              "      <td>207.000</td>\n",
              "      <td>26.41</td>\n",
              "      <td>16937.785</td>\n",
              "    </tr>\n",
              "  </tbody>\n",
              "</table>\n",
              "</div>"
            ],
            "text/plain": [
              "        median    min        var\n",
              "Month                           \n",
              "01     216.990  24.10  26069.743\n",
              "02     202.880  22.53  17110.384\n",
              "03     201.040  22.21  12478.809\n",
              "04     216.970  25.14  11539.754\n",
              "05     211.170  26.35   9725.404\n",
              "06     221.270  23.89  13538.477\n",
              "07     224.110  17.46  11292.847\n",
              "08     229.555  18.32  14394.101\n",
              "09     206.940  20.10  13344.373\n",
              "10     226.350  20.24  13555.937\n",
              "11     214.310  21.77  16208.530\n",
              "12     207.000  26.41  16937.785"
            ]
          },
          "metadata": {
            "tags": []
          },
          "execution_count": 181
        }
      ]
    },
    {
      "cell_type": "markdown",
      "metadata": {
        "id": "wYgs4mfjemZl"
      },
      "source": [
        "# Часть 2"
      ]
    },
    {
      "cell_type": "markdown",
      "metadata": {
        "id": "3AvWW1MJemjJ"
      },
      "source": [
        "Загрузите googleplaystore.csv"
      ]
    },
    {
      "cell_type": "code",
      "metadata": {
        "id": "ZEroK-eJemjN"
      },
      "source": [
        "dg = pd.read_csv('/content/gdrive/My Drive/Introduction to DS/data/googleplaystore.csv')"
      ],
      "execution_count": null,
      "outputs": []
    },
    {
      "cell_type": "markdown",
      "metadata": {
        "id": "-xg5DdNWemjd"
      },
      "source": [
        "Описание `googleplaystore.csv`: Данные по приложениям из Google Play Store.  \n",
        "\n",
        "| Column     | Description| \n",
        "|------------|---------|\n",
        "|**App**|Application name|\n",
        "|**Category**|Category the app belongs to|\n",
        "|**Rating**|Overall user rating of the app|\n",
        "|**Reviews**|Number of user reviews for the app|\n",
        "|**Size**|Size of the app|\n",
        "|**Installs**|Number of user downloads/installs for the app|\n",
        "|**Type**|Paid or Free|\n",
        "|**Price**|Price of the app|\n",
        "|**Content Rating**|Age group the app is targeted at|\n",
        "|**Genres**|An app can belong to multiple genres(apart from its main category)|\n",
        "|**Last Updated**|Date when the app was last updated on Play Store|\n",
        "|**Current Ver**|Current version of the app available on Play Store|\n",
        "|**Android Ver**|Min required Android version|"
      ]
    },
    {
      "cell_type": "markdown",
      "metadata": {
        "id": "vVsGOvbxhHJS"
      },
      "source": [
        "Выведите все уникальные значения колонки `Installs`"
      ]
    },
    {
      "cell_type": "code",
      "metadata": {
        "id": "qvcZbXSFg7Pg",
        "outputId": "61d07d54-fa86-4f23-997e-3b8c0224d65a",
        "colab": {
          "base_uri": "https://localhost:8080/",
          "height": 90
        }
      },
      "source": [
        "dg['Installs'].unique()"
      ],
      "execution_count": null,
      "outputs": [
        {
          "output_type": "execute_result",
          "data": {
            "text/plain": [
              "array(['10,000+', '500,000+', '5,000,000+', '50,000,000+', '100,000+',\n",
              "       '50,000+', '1,000,000+', '10,000,000+', '5,000+', '100,000,000+',\n",
              "       '1,000,000,000+', '1,000+', '500,000,000+', '50+', '100+', '500+',\n",
              "       '10+', '1+', '5+', '0+', '0', 'Free'], dtype=object)"
            ]
          },
          "metadata": {
            "tags": []
          },
          "execution_count": 183
        }
      ]
    },
    {
      "cell_type": "markdown",
      "metadata": {
        "id": "WtW_cIZQhlds"
      },
      "source": [
        "Вы должны заметить, что там есть не числовое значение. Выведите, а затем удалите из датафрейма приложения, у которых такое значение в `Installs`"
      ]
    },
    {
      "cell_type": "code",
      "metadata": {
        "id": "GKHYBFzMh0jU",
        "outputId": "d10be900-3e07-4c08-b5ff-cde9faf5bd50",
        "colab": {
          "base_uri": "https://localhost:8080/",
          "height": 113
        }
      },
      "source": [
        "dg[dg['Installs']=='Free']"
      ],
      "execution_count": null,
      "outputs": [
        {
          "output_type": "execute_result",
          "data": {
            "text/html": [
              "<div>\n",
              "<style scoped>\n",
              "    .dataframe tbody tr th:only-of-type {\n",
              "        vertical-align: middle;\n",
              "    }\n",
              "\n",
              "    .dataframe tbody tr th {\n",
              "        vertical-align: top;\n",
              "    }\n",
              "\n",
              "    .dataframe thead th {\n",
              "        text-align: right;\n",
              "    }\n",
              "</style>\n",
              "<table border=\"1\" class=\"dataframe\">\n",
              "  <thead>\n",
              "    <tr style=\"text-align: right;\">\n",
              "      <th></th>\n",
              "      <th>App</th>\n",
              "      <th>Category</th>\n",
              "      <th>Rating</th>\n",
              "      <th>Reviews</th>\n",
              "      <th>Size</th>\n",
              "      <th>Installs</th>\n",
              "      <th>Type</th>\n",
              "      <th>Price</th>\n",
              "      <th>Content Rating</th>\n",
              "      <th>Genres</th>\n",
              "      <th>Last Updated</th>\n",
              "      <th>Current Ver</th>\n",
              "      <th>Android Ver</th>\n",
              "    </tr>\n",
              "  </thead>\n",
              "  <tbody>\n",
              "    <tr>\n",
              "      <th>10472</th>\n",
              "      <td>Life Made WI-Fi Touchscreen Photo Frame</td>\n",
              "      <td>1.9</td>\n",
              "      <td>19.0</td>\n",
              "      <td>3.0M</td>\n",
              "      <td>1,000+</td>\n",
              "      <td>Free</td>\n",
              "      <td>0</td>\n",
              "      <td>Everyone</td>\n",
              "      <td>NaN</td>\n",
              "      <td>February 11, 2018</td>\n",
              "      <td>1.0.19</td>\n",
              "      <td>4.0 and up</td>\n",
              "      <td>NaN</td>\n",
              "    </tr>\n",
              "  </tbody>\n",
              "</table>\n",
              "</div>"
            ],
            "text/plain": [
              "                                           App Category  ...  Current Ver Android Ver\n",
              "10472  Life Made WI-Fi Touchscreen Photo Frame      1.9  ...   4.0 and up         NaN\n",
              "\n",
              "[1 rows x 13 columns]"
            ]
          },
          "metadata": {
            "tags": []
          },
          "execution_count": 184
        }
      ]
    },
    {
      "cell_type": "code",
      "metadata": {
        "id": "u3KXS6fWfmrP",
        "outputId": "b2605b6d-8b13-4c6c-dae9-4b42ff450321",
        "colab": {
          "base_uri": "https://localhost:8080/",
          "height": 666
        }
      },
      "source": [
        "dg = dg.drop(np.where(dg['Installs'] == 'Free')[0])\n",
        "dg = dg.reset_index(drop=True)\n",
        "dg"
      ],
      "execution_count": null,
      "outputs": [
        {
          "output_type": "execute_result",
          "data": {
            "text/html": [
              "<div>\n",
              "<style scoped>\n",
              "    .dataframe tbody tr th:only-of-type {\n",
              "        vertical-align: middle;\n",
              "    }\n",
              "\n",
              "    .dataframe tbody tr th {\n",
              "        vertical-align: top;\n",
              "    }\n",
              "\n",
              "    .dataframe thead th {\n",
              "        text-align: right;\n",
              "    }\n",
              "</style>\n",
              "<table border=\"1\" class=\"dataframe\">\n",
              "  <thead>\n",
              "    <tr style=\"text-align: right;\">\n",
              "      <th></th>\n",
              "      <th>App</th>\n",
              "      <th>Category</th>\n",
              "      <th>Rating</th>\n",
              "      <th>Reviews</th>\n",
              "      <th>Size</th>\n",
              "      <th>Installs</th>\n",
              "      <th>Type</th>\n",
              "      <th>Price</th>\n",
              "      <th>Content Rating</th>\n",
              "      <th>Genres</th>\n",
              "      <th>Last Updated</th>\n",
              "      <th>Current Ver</th>\n",
              "      <th>Android Ver</th>\n",
              "    </tr>\n",
              "  </thead>\n",
              "  <tbody>\n",
              "    <tr>\n",
              "      <th>0</th>\n",
              "      <td>Photo Editor &amp; Candy Camera &amp; Grid &amp; ScrapBook</td>\n",
              "      <td>ART_AND_DESIGN</td>\n",
              "      <td>4.1</td>\n",
              "      <td>159</td>\n",
              "      <td>19M</td>\n",
              "      <td>10,000+</td>\n",
              "      <td>Free</td>\n",
              "      <td>0</td>\n",
              "      <td>Everyone</td>\n",
              "      <td>Art &amp; Design</td>\n",
              "      <td>January 7, 2018</td>\n",
              "      <td>1.0.0</td>\n",
              "      <td>4.0.3 and up</td>\n",
              "    </tr>\n",
              "    <tr>\n",
              "      <th>1</th>\n",
              "      <td>Coloring book moana</td>\n",
              "      <td>ART_AND_DESIGN</td>\n",
              "      <td>3.9</td>\n",
              "      <td>967</td>\n",
              "      <td>14M</td>\n",
              "      <td>500,000+</td>\n",
              "      <td>Free</td>\n",
              "      <td>0</td>\n",
              "      <td>Everyone</td>\n",
              "      <td>Art &amp; Design;Pretend Play</td>\n",
              "      <td>January 15, 2018</td>\n",
              "      <td>2.0.0</td>\n",
              "      <td>4.0.3 and up</td>\n",
              "    </tr>\n",
              "    <tr>\n",
              "      <th>2</th>\n",
              "      <td>U Launcher Lite – FREE Live Cool Themes, Hide ...</td>\n",
              "      <td>ART_AND_DESIGN</td>\n",
              "      <td>4.7</td>\n",
              "      <td>87510</td>\n",
              "      <td>8.7M</td>\n",
              "      <td>5,000,000+</td>\n",
              "      <td>Free</td>\n",
              "      <td>0</td>\n",
              "      <td>Everyone</td>\n",
              "      <td>Art &amp; Design</td>\n",
              "      <td>August 1, 2018</td>\n",
              "      <td>1.2.4</td>\n",
              "      <td>4.0.3 and up</td>\n",
              "    </tr>\n",
              "    <tr>\n",
              "      <th>3</th>\n",
              "      <td>Sketch - Draw &amp; Paint</td>\n",
              "      <td>ART_AND_DESIGN</td>\n",
              "      <td>4.5</td>\n",
              "      <td>215644</td>\n",
              "      <td>25M</td>\n",
              "      <td>50,000,000+</td>\n",
              "      <td>Free</td>\n",
              "      <td>0</td>\n",
              "      <td>Teen</td>\n",
              "      <td>Art &amp; Design</td>\n",
              "      <td>June 8, 2018</td>\n",
              "      <td>Varies with device</td>\n",
              "      <td>4.2 and up</td>\n",
              "    </tr>\n",
              "    <tr>\n",
              "      <th>4</th>\n",
              "      <td>Pixel Draw - Number Art Coloring Book</td>\n",
              "      <td>ART_AND_DESIGN</td>\n",
              "      <td>4.3</td>\n",
              "      <td>967</td>\n",
              "      <td>2.8M</td>\n",
              "      <td>100,000+</td>\n",
              "      <td>Free</td>\n",
              "      <td>0</td>\n",
              "      <td>Everyone</td>\n",
              "      <td>Art &amp; Design;Creativity</td>\n",
              "      <td>June 20, 2018</td>\n",
              "      <td>1.1</td>\n",
              "      <td>4.4 and up</td>\n",
              "    </tr>\n",
              "    <tr>\n",
              "      <th>...</th>\n",
              "      <td>...</td>\n",
              "      <td>...</td>\n",
              "      <td>...</td>\n",
              "      <td>...</td>\n",
              "      <td>...</td>\n",
              "      <td>...</td>\n",
              "      <td>...</td>\n",
              "      <td>...</td>\n",
              "      <td>...</td>\n",
              "      <td>...</td>\n",
              "      <td>...</td>\n",
              "      <td>...</td>\n",
              "      <td>...</td>\n",
              "    </tr>\n",
              "    <tr>\n",
              "      <th>10835</th>\n",
              "      <td>Sya9a Maroc - FR</td>\n",
              "      <td>FAMILY</td>\n",
              "      <td>4.5</td>\n",
              "      <td>38</td>\n",
              "      <td>53M</td>\n",
              "      <td>5,000+</td>\n",
              "      <td>Free</td>\n",
              "      <td>0</td>\n",
              "      <td>Everyone</td>\n",
              "      <td>Education</td>\n",
              "      <td>July 25, 2017</td>\n",
              "      <td>1.48</td>\n",
              "      <td>4.1 and up</td>\n",
              "    </tr>\n",
              "    <tr>\n",
              "      <th>10836</th>\n",
              "      <td>Fr. Mike Schmitz Audio Teachings</td>\n",
              "      <td>FAMILY</td>\n",
              "      <td>5.0</td>\n",
              "      <td>4</td>\n",
              "      <td>3.6M</td>\n",
              "      <td>100+</td>\n",
              "      <td>Free</td>\n",
              "      <td>0</td>\n",
              "      <td>Everyone</td>\n",
              "      <td>Education</td>\n",
              "      <td>July 6, 2018</td>\n",
              "      <td>1.0</td>\n",
              "      <td>4.1 and up</td>\n",
              "    </tr>\n",
              "    <tr>\n",
              "      <th>10837</th>\n",
              "      <td>Parkinson Exercices FR</td>\n",
              "      <td>MEDICAL</td>\n",
              "      <td>NaN</td>\n",
              "      <td>3</td>\n",
              "      <td>9.5M</td>\n",
              "      <td>1,000+</td>\n",
              "      <td>Free</td>\n",
              "      <td>0</td>\n",
              "      <td>Everyone</td>\n",
              "      <td>Medical</td>\n",
              "      <td>January 20, 2017</td>\n",
              "      <td>1.0</td>\n",
              "      <td>2.2 and up</td>\n",
              "    </tr>\n",
              "    <tr>\n",
              "      <th>10838</th>\n",
              "      <td>The SCP Foundation DB fr nn5n</td>\n",
              "      <td>BOOKS_AND_REFERENCE</td>\n",
              "      <td>4.5</td>\n",
              "      <td>114</td>\n",
              "      <td>Varies with device</td>\n",
              "      <td>1,000+</td>\n",
              "      <td>Free</td>\n",
              "      <td>0</td>\n",
              "      <td>Mature 17+</td>\n",
              "      <td>Books &amp; Reference</td>\n",
              "      <td>January 19, 2015</td>\n",
              "      <td>Varies with device</td>\n",
              "      <td>Varies with device</td>\n",
              "    </tr>\n",
              "    <tr>\n",
              "      <th>10839</th>\n",
              "      <td>iHoroscope - 2018 Daily Horoscope &amp; Astrology</td>\n",
              "      <td>LIFESTYLE</td>\n",
              "      <td>4.5</td>\n",
              "      <td>398307</td>\n",
              "      <td>19M</td>\n",
              "      <td>10,000,000+</td>\n",
              "      <td>Free</td>\n",
              "      <td>0</td>\n",
              "      <td>Everyone</td>\n",
              "      <td>Lifestyle</td>\n",
              "      <td>July 25, 2018</td>\n",
              "      <td>Varies with device</td>\n",
              "      <td>Varies with device</td>\n",
              "    </tr>\n",
              "  </tbody>\n",
              "</table>\n",
              "<p>10840 rows × 13 columns</p>\n",
              "</div>"
            ],
            "text/plain": [
              "                                                     App  ...         Android Ver\n",
              "0         Photo Editor & Candy Camera & Grid & ScrapBook  ...        4.0.3 and up\n",
              "1                                    Coloring book moana  ...        4.0.3 and up\n",
              "2      U Launcher Lite – FREE Live Cool Themes, Hide ...  ...        4.0.3 and up\n",
              "3                                  Sketch - Draw & Paint  ...          4.2 and up\n",
              "4                  Pixel Draw - Number Art Coloring Book  ...          4.4 and up\n",
              "...                                                  ...  ...                 ...\n",
              "10835                                   Sya9a Maroc - FR  ...          4.1 and up\n",
              "10836                   Fr. Mike Schmitz Audio Teachings  ...          4.1 and up\n",
              "10837                             Parkinson Exercices FR  ...          2.2 and up\n",
              "10838                      The SCP Foundation DB fr nn5n  ...  Varies with device\n",
              "10839      iHoroscope - 2018 Daily Horoscope & Astrology  ...  Varies with device\n",
              "\n",
              "[10840 rows x 13 columns]"
            ]
          },
          "metadata": {
            "tags": []
          },
          "execution_count": 185
        }
      ]
    },
    {
      "cell_type": "markdown",
      "metadata": {
        "id": "61Cz277thNQG"
      },
      "source": [
        "Оставьте только те приложения, которые были установлены хотя-бы 100 раз и обновите индексацию, а после этого выведите таблицу"
      ]
    },
    {
      "cell_type": "code",
      "metadata": {
        "id": "rO4IgeYghT1T",
        "outputId": "652d88a6-6660-4c80-bb87-993ec8d79a9a",
        "colab": {
          "base_uri": "https://localhost:8080/",
          "height": 666
        }
      },
      "source": [
        "dg.drop(np.where(dg['Installs'] <'100')[0])\n",
        "dg = dg.reset_index(drop=True)\n",
        "dg"
      ],
      "execution_count": null,
      "outputs": [
        {
          "output_type": "execute_result",
          "data": {
            "text/html": [
              "<div>\n",
              "<style scoped>\n",
              "    .dataframe tbody tr th:only-of-type {\n",
              "        vertical-align: middle;\n",
              "    }\n",
              "\n",
              "    .dataframe tbody tr th {\n",
              "        vertical-align: top;\n",
              "    }\n",
              "\n",
              "    .dataframe thead th {\n",
              "        text-align: right;\n",
              "    }\n",
              "</style>\n",
              "<table border=\"1\" class=\"dataframe\">\n",
              "  <thead>\n",
              "    <tr style=\"text-align: right;\">\n",
              "      <th></th>\n",
              "      <th>App</th>\n",
              "      <th>Category</th>\n",
              "      <th>Rating</th>\n",
              "      <th>Reviews</th>\n",
              "      <th>Size</th>\n",
              "      <th>Installs</th>\n",
              "      <th>Type</th>\n",
              "      <th>Price</th>\n",
              "      <th>Content Rating</th>\n",
              "      <th>Genres</th>\n",
              "      <th>Last Updated</th>\n",
              "      <th>Current Ver</th>\n",
              "      <th>Android Ver</th>\n",
              "    </tr>\n",
              "  </thead>\n",
              "  <tbody>\n",
              "    <tr>\n",
              "      <th>0</th>\n",
              "      <td>Photo Editor &amp; Candy Camera &amp; Grid &amp; ScrapBook</td>\n",
              "      <td>ART_AND_DESIGN</td>\n",
              "      <td>4.1</td>\n",
              "      <td>159</td>\n",
              "      <td>19M</td>\n",
              "      <td>10,000+</td>\n",
              "      <td>Free</td>\n",
              "      <td>0</td>\n",
              "      <td>Everyone</td>\n",
              "      <td>Art &amp; Design</td>\n",
              "      <td>January 7, 2018</td>\n",
              "      <td>1.0.0</td>\n",
              "      <td>4.0.3 and up</td>\n",
              "    </tr>\n",
              "    <tr>\n",
              "      <th>1</th>\n",
              "      <td>Coloring book moana</td>\n",
              "      <td>ART_AND_DESIGN</td>\n",
              "      <td>3.9</td>\n",
              "      <td>967</td>\n",
              "      <td>14M</td>\n",
              "      <td>500,000+</td>\n",
              "      <td>Free</td>\n",
              "      <td>0</td>\n",
              "      <td>Everyone</td>\n",
              "      <td>Art &amp; Design;Pretend Play</td>\n",
              "      <td>January 15, 2018</td>\n",
              "      <td>2.0.0</td>\n",
              "      <td>4.0.3 and up</td>\n",
              "    </tr>\n",
              "    <tr>\n",
              "      <th>2</th>\n",
              "      <td>U Launcher Lite – FREE Live Cool Themes, Hide ...</td>\n",
              "      <td>ART_AND_DESIGN</td>\n",
              "      <td>4.7</td>\n",
              "      <td>87510</td>\n",
              "      <td>8.7M</td>\n",
              "      <td>5,000,000+</td>\n",
              "      <td>Free</td>\n",
              "      <td>0</td>\n",
              "      <td>Everyone</td>\n",
              "      <td>Art &amp; Design</td>\n",
              "      <td>August 1, 2018</td>\n",
              "      <td>1.2.4</td>\n",
              "      <td>4.0.3 and up</td>\n",
              "    </tr>\n",
              "    <tr>\n",
              "      <th>3</th>\n",
              "      <td>Sketch - Draw &amp; Paint</td>\n",
              "      <td>ART_AND_DESIGN</td>\n",
              "      <td>4.5</td>\n",
              "      <td>215644</td>\n",
              "      <td>25M</td>\n",
              "      <td>50,000,000+</td>\n",
              "      <td>Free</td>\n",
              "      <td>0</td>\n",
              "      <td>Teen</td>\n",
              "      <td>Art &amp; Design</td>\n",
              "      <td>June 8, 2018</td>\n",
              "      <td>Varies with device</td>\n",
              "      <td>4.2 and up</td>\n",
              "    </tr>\n",
              "    <tr>\n",
              "      <th>4</th>\n",
              "      <td>Pixel Draw - Number Art Coloring Book</td>\n",
              "      <td>ART_AND_DESIGN</td>\n",
              "      <td>4.3</td>\n",
              "      <td>967</td>\n",
              "      <td>2.8M</td>\n",
              "      <td>100,000+</td>\n",
              "      <td>Free</td>\n",
              "      <td>0</td>\n",
              "      <td>Everyone</td>\n",
              "      <td>Art &amp; Design;Creativity</td>\n",
              "      <td>June 20, 2018</td>\n",
              "      <td>1.1</td>\n",
              "      <td>4.4 and up</td>\n",
              "    </tr>\n",
              "    <tr>\n",
              "      <th>...</th>\n",
              "      <td>...</td>\n",
              "      <td>...</td>\n",
              "      <td>...</td>\n",
              "      <td>...</td>\n",
              "      <td>...</td>\n",
              "      <td>...</td>\n",
              "      <td>...</td>\n",
              "      <td>...</td>\n",
              "      <td>...</td>\n",
              "      <td>...</td>\n",
              "      <td>...</td>\n",
              "      <td>...</td>\n",
              "      <td>...</td>\n",
              "    </tr>\n",
              "    <tr>\n",
              "      <th>10835</th>\n",
              "      <td>Sya9a Maroc - FR</td>\n",
              "      <td>FAMILY</td>\n",
              "      <td>4.5</td>\n",
              "      <td>38</td>\n",
              "      <td>53M</td>\n",
              "      <td>5,000+</td>\n",
              "      <td>Free</td>\n",
              "      <td>0</td>\n",
              "      <td>Everyone</td>\n",
              "      <td>Education</td>\n",
              "      <td>July 25, 2017</td>\n",
              "      <td>1.48</td>\n",
              "      <td>4.1 and up</td>\n",
              "    </tr>\n",
              "    <tr>\n",
              "      <th>10836</th>\n",
              "      <td>Fr. Mike Schmitz Audio Teachings</td>\n",
              "      <td>FAMILY</td>\n",
              "      <td>5.0</td>\n",
              "      <td>4</td>\n",
              "      <td>3.6M</td>\n",
              "      <td>100+</td>\n",
              "      <td>Free</td>\n",
              "      <td>0</td>\n",
              "      <td>Everyone</td>\n",
              "      <td>Education</td>\n",
              "      <td>July 6, 2018</td>\n",
              "      <td>1.0</td>\n",
              "      <td>4.1 and up</td>\n",
              "    </tr>\n",
              "    <tr>\n",
              "      <th>10837</th>\n",
              "      <td>Parkinson Exercices FR</td>\n",
              "      <td>MEDICAL</td>\n",
              "      <td>NaN</td>\n",
              "      <td>3</td>\n",
              "      <td>9.5M</td>\n",
              "      <td>1,000+</td>\n",
              "      <td>Free</td>\n",
              "      <td>0</td>\n",
              "      <td>Everyone</td>\n",
              "      <td>Medical</td>\n",
              "      <td>January 20, 2017</td>\n",
              "      <td>1.0</td>\n",
              "      <td>2.2 and up</td>\n",
              "    </tr>\n",
              "    <tr>\n",
              "      <th>10838</th>\n",
              "      <td>The SCP Foundation DB fr nn5n</td>\n",
              "      <td>BOOKS_AND_REFERENCE</td>\n",
              "      <td>4.5</td>\n",
              "      <td>114</td>\n",
              "      <td>Varies with device</td>\n",
              "      <td>1,000+</td>\n",
              "      <td>Free</td>\n",
              "      <td>0</td>\n",
              "      <td>Mature 17+</td>\n",
              "      <td>Books &amp; Reference</td>\n",
              "      <td>January 19, 2015</td>\n",
              "      <td>Varies with device</td>\n",
              "      <td>Varies with device</td>\n",
              "    </tr>\n",
              "    <tr>\n",
              "      <th>10839</th>\n",
              "      <td>iHoroscope - 2018 Daily Horoscope &amp; Astrology</td>\n",
              "      <td>LIFESTYLE</td>\n",
              "      <td>4.5</td>\n",
              "      <td>398307</td>\n",
              "      <td>19M</td>\n",
              "      <td>10,000,000+</td>\n",
              "      <td>Free</td>\n",
              "      <td>0</td>\n",
              "      <td>Everyone</td>\n",
              "      <td>Lifestyle</td>\n",
              "      <td>July 25, 2018</td>\n",
              "      <td>Varies with device</td>\n",
              "      <td>Varies with device</td>\n",
              "    </tr>\n",
              "  </tbody>\n",
              "</table>\n",
              "<p>10840 rows × 13 columns</p>\n",
              "</div>"
            ],
            "text/plain": [
              "                                                     App  ...         Android Ver\n",
              "0         Photo Editor & Candy Camera & Grid & ScrapBook  ...        4.0.3 and up\n",
              "1                                    Coloring book moana  ...        4.0.3 and up\n",
              "2      U Launcher Lite – FREE Live Cool Themes, Hide ...  ...        4.0.3 and up\n",
              "3                                  Sketch - Draw & Paint  ...          4.2 and up\n",
              "4                  Pixel Draw - Number Art Coloring Book  ...          4.4 and up\n",
              "...                                                  ...  ...                 ...\n",
              "10835                                   Sya9a Maroc - FR  ...          4.1 and up\n",
              "10836                   Fr. Mike Schmitz Audio Teachings  ...          4.1 and up\n",
              "10837                             Parkinson Exercices FR  ...          2.2 and up\n",
              "10838                      The SCP Foundation DB fr nn5n  ...  Varies with device\n",
              "10839      iHoroscope - 2018 Daily Horoscope & Astrology  ...  Varies with device\n",
              "\n",
              "[10840 rows x 13 columns]"
            ]
          },
          "metadata": {
            "tags": []
          },
          "execution_count": 186
        }
      ]
    },
    {
      "cell_type": "markdown",
      "metadata": {
        "id": "EB3FipFB2tVV"
      },
      "source": [
        "Выведите количество уникальных значений в столбце `Size`"
      ]
    },
    {
      "cell_type": "code",
      "metadata": {
        "id": "r5m3Pxz02yz9",
        "outputId": "bee8f36d-5b66-48c1-e60a-fddd9d82b284",
        "colab": {
          "base_uri": "https://localhost:8080/",
          "height": 1000
        }
      },
      "source": [
        "dg['Size'].unique()"
      ],
      "execution_count": null,
      "outputs": [
        {
          "output_type": "execute_result",
          "data": {
            "text/plain": [
              "array(['19M', '14M', '8.7M', '25M', '2.8M', '5.6M', '29M', '33M', '3.1M',\n",
              "       '28M', '12M', '20M', '21M', '37M', '2.7M', '5.5M', '17M', '39M',\n",
              "       '31M', '4.2M', '7.0M', '23M', '6.0M', '6.1M', '4.6M', '9.2M',\n",
              "       '5.2M', '11M', '24M', 'Varies with device', '9.4M', '15M', '10M',\n",
              "       '1.2M', '26M', '8.0M', '7.9M', '56M', '57M', '35M', '54M', '201k',\n",
              "       '3.6M', '5.7M', '8.6M', '2.4M', '27M', '2.5M', '16M', '3.4M',\n",
              "       '8.9M', '3.9M', '2.9M', '38M', '32M', '5.4M', '18M', '1.1M',\n",
              "       '2.2M', '4.5M', '9.8M', '52M', '9.0M', '6.7M', '30M', '2.6M',\n",
              "       '7.1M', '3.7M', '22M', '7.4M', '6.4M', '3.2M', '8.2M', '9.9M',\n",
              "       '4.9M', '9.5M', '5.0M', '5.9M', '13M', '73M', '6.8M', '3.5M',\n",
              "       '4.0M', '2.3M', '7.2M', '2.1M', '42M', '7.3M', '9.1M', '55M',\n",
              "       '23k', '6.5M', '1.5M', '7.5M', '51M', '41M', '48M', '8.5M', '46M',\n",
              "       '8.3M', '4.3M', '4.7M', '3.3M', '40M', '7.8M', '8.8M', '6.6M',\n",
              "       '5.1M', '61M', '66M', '79k', '8.4M', '118k', '44M', '695k', '1.6M',\n",
              "       '6.2M', '18k', '53M', '1.4M', '3.0M', '5.8M', '3.8M', '9.6M',\n",
              "       '45M', '63M', '49M', '77M', '4.4M', '4.8M', '70M', '6.9M', '9.3M',\n",
              "       '10.0M', '8.1M', '36M', '84M', '97M', '2.0M', '1.9M', '1.8M',\n",
              "       '5.3M', '47M', '556k', '526k', '76M', '7.6M', '59M', '9.7M', '78M',\n",
              "       '72M', '43M', '7.7M', '6.3M', '334k', '34M', '93M', '65M', '79M',\n",
              "       '100M', '58M', '50M', '68M', '64M', '67M', '60M', '94M', '232k',\n",
              "       '99M', '624k', '95M', '8.5k', '41k', '292k', '11k', '80M', '1.7M',\n",
              "       '74M', '62M', '69M', '75M', '98M', '85M', '82M', '96M', '87M',\n",
              "       '71M', '86M', '91M', '81M', '92M', '83M', '88M', '704k', '862k',\n",
              "       '899k', '378k', '266k', '375k', '1.3M', '975k', '980k', '4.1M',\n",
              "       '89M', '696k', '544k', '525k', '920k', '779k', '853k', '720k',\n",
              "       '713k', '772k', '318k', '58k', '241k', '196k', '857k', '51k',\n",
              "       '953k', '865k', '251k', '930k', '540k', '313k', '746k', '203k',\n",
              "       '26k', '314k', '239k', '371k', '220k', '730k', '756k', '91k',\n",
              "       '293k', '17k', '74k', '14k', '317k', '78k', '924k', '902k', '818k',\n",
              "       '81k', '939k', '169k', '45k', '475k', '965k', '90M', '545k', '61k',\n",
              "       '283k', '655k', '714k', '93k', '872k', '121k', '322k', '1.0M',\n",
              "       '976k', '172k', '238k', '549k', '206k', '954k', '444k', '717k',\n",
              "       '210k', '609k', '308k', '705k', '306k', '904k', '473k', '175k',\n",
              "       '350k', '383k', '454k', '421k', '70k', '812k', '442k', '842k',\n",
              "       '417k', '412k', '459k', '478k', '335k', '782k', '721k', '430k',\n",
              "       '429k', '192k', '200k', '460k', '728k', '496k', '816k', '414k',\n",
              "       '506k', '887k', '613k', '243k', '569k', '778k', '683k', '592k',\n",
              "       '319k', '186k', '840k', '647k', '191k', '373k', '437k', '598k',\n",
              "       '716k', '585k', '982k', '222k', '219k', '55k', '948k', '323k',\n",
              "       '691k', '511k', '951k', '963k', '25k', '554k', '351k', '27k',\n",
              "       '82k', '208k', '913k', '514k', '551k', '29k', '103k', '898k',\n",
              "       '743k', '116k', '153k', '209k', '353k', '499k', '173k', '597k',\n",
              "       '809k', '122k', '411k', '400k', '801k', '787k', '237k', '50k',\n",
              "       '643k', '986k', '97k', '516k', '837k', '780k', '961k', '269k',\n",
              "       '20k', '498k', '600k', '749k', '642k', '881k', '72k', '656k',\n",
              "       '601k', '221k', '228k', '108k', '940k', '176k', '33k', '663k',\n",
              "       '34k', '942k', '259k', '164k', '458k', '245k', '629k', '28k',\n",
              "       '288k', '775k', '785k', '636k', '916k', '994k', '309k', '485k',\n",
              "       '914k', '903k', '608k', '500k', '54k', '562k', '847k', '957k',\n",
              "       '688k', '811k', '270k', '48k', '329k', '523k', '921k', '874k',\n",
              "       '981k', '784k', '280k', '24k', '518k', '754k', '892k', '154k',\n",
              "       '860k', '364k', '387k', '626k', '161k', '879k', '39k', '970k',\n",
              "       '170k', '141k', '160k', '144k', '143k', '190k', '376k', '193k',\n",
              "       '246k', '73k', '658k', '992k', '253k', '420k', '404k', '470k',\n",
              "       '226k', '240k', '89k', '234k', '257k', '861k', '467k', '157k',\n",
              "       '44k', '676k', '67k', '552k', '885k', '1020k', '582k', '619k'],\n",
              "      dtype=object)"
            ]
          },
          "metadata": {
            "tags": []
          },
          "execution_count": 187
        }
      ]
    },
    {
      "cell_type": "markdown",
      "metadata": {
        "id": "HMYad5nQQVVn"
      },
      "source": [
        "Выведите таблицу, в которой будет количество, а также минимум, максимум, и среднее оценок игр по типу и возрастному рейтингу"
      ]
    },
    {
      "cell_type": "code",
      "metadata": {
        "id": "jqgMsp7VOgv9",
        "outputId": "5ea014f4-db7e-482a-bbcf-60d4b167b5a9",
        "colab": {
          "base_uri": "https://localhost:8080/",
          "height": 318
        }
      },
      "source": [
        "games = dg[dg['Category']=='GAME']\n",
        "games_rating = games.groupby(['Type', 'Content Rating'])['Rating']\n",
        "games_rating.agg(['count','min','max','mean'])"
      ],
      "execution_count": null,
      "outputs": [
        {
          "output_type": "execute_result",
          "data": {
            "text/html": [
              "<div>\n",
              "<style scoped>\n",
              "    .dataframe tbody tr th:only-of-type {\n",
              "        vertical-align: middle;\n",
              "    }\n",
              "\n",
              "    .dataframe tbody tr th {\n",
              "        vertical-align: top;\n",
              "    }\n",
              "\n",
              "    .dataframe thead th {\n",
              "        text-align: right;\n",
              "    }\n",
              "</style>\n",
              "<table border=\"1\" class=\"dataframe\">\n",
              "  <thead>\n",
              "    <tr style=\"text-align: right;\">\n",
              "      <th></th>\n",
              "      <th></th>\n",
              "      <th>count</th>\n",
              "      <th>min</th>\n",
              "      <th>max</th>\n",
              "      <th>mean</th>\n",
              "    </tr>\n",
              "    <tr>\n",
              "      <th>Type</th>\n",
              "      <th>Content Rating</th>\n",
              "      <th></th>\n",
              "      <th></th>\n",
              "      <th></th>\n",
              "      <th></th>\n",
              "    </tr>\n",
              "  </thead>\n",
              "  <tbody>\n",
              "    <tr>\n",
              "      <th rowspan=\"4\" valign=\"top\">Free</th>\n",
              "      <th>Everyone</th>\n",
              "      <td>528</td>\n",
              "      <td>1.0</td>\n",
              "      <td>5.0</td>\n",
              "      <td>4.279356</td>\n",
              "    </tr>\n",
              "    <tr>\n",
              "      <th>Everyone 10+</th>\n",
              "      <td>121</td>\n",
              "      <td>3.4</td>\n",
              "      <td>4.8</td>\n",
              "      <td>4.347107</td>\n",
              "    </tr>\n",
              "    <tr>\n",
              "      <th>Mature 17+</th>\n",
              "      <td>70</td>\n",
              "      <td>3.7</td>\n",
              "      <td>4.6</td>\n",
              "      <td>4.251429</td>\n",
              "    </tr>\n",
              "    <tr>\n",
              "      <th>Teen</th>\n",
              "      <td>301</td>\n",
              "      <td>2.3</td>\n",
              "      <td>4.8</td>\n",
              "      <td>4.260133</td>\n",
              "    </tr>\n",
              "    <tr>\n",
              "      <th rowspan=\"4\" valign=\"top\">Paid</th>\n",
              "      <th>Everyone</th>\n",
              "      <td>41</td>\n",
              "      <td>3.3</td>\n",
              "      <td>5.0</td>\n",
              "      <td>4.336585</td>\n",
              "    </tr>\n",
              "    <tr>\n",
              "      <th>Everyone 10+</th>\n",
              "      <td>9</td>\n",
              "      <td>3.4</td>\n",
              "      <td>4.7</td>\n",
              "      <td>4.344444</td>\n",
              "    </tr>\n",
              "    <tr>\n",
              "      <th>Mature 17+</th>\n",
              "      <td>4</td>\n",
              "      <td>4.2</td>\n",
              "      <td>4.6</td>\n",
              "      <td>4.450000</td>\n",
              "    </tr>\n",
              "    <tr>\n",
              "      <th>Teen</th>\n",
              "      <td>23</td>\n",
              "      <td>3.7</td>\n",
              "      <td>5.0</td>\n",
              "      <td>4.434783</td>\n",
              "    </tr>\n",
              "  </tbody>\n",
              "</table>\n",
              "</div>"
            ],
            "text/plain": [
              "                     count  min  max      mean\n",
              "Type Content Rating                           \n",
              "Free Everyone          528  1.0  5.0  4.279356\n",
              "     Everyone 10+      121  3.4  4.8  4.347107\n",
              "     Mature 17+         70  3.7  4.6  4.251429\n",
              "     Teen              301  2.3  4.8  4.260133\n",
              "Paid Everyone           41  3.3  5.0  4.336585\n",
              "     Everyone 10+        9  3.4  4.7  4.344444\n",
              "     Mature 17+          4  4.2  4.6  4.450000\n",
              "     Teen               23  3.7  5.0  4.434783"
            ]
          },
          "metadata": {
            "tags": []
          },
          "execution_count": 188
        }
      ]
    },
    {
      "cell_type": "markdown",
      "metadata": {
        "id": "Uh136FaYRYzL"
      },
      "source": [
        "Кажется, нам не нужны столбцы `'Last Updated', 'Current Ver', 'Android Ver'`, выбросите их"
      ]
    },
    {
      "cell_type": "code",
      "metadata": {
        "id": "-gqss_dVPPfa"
      },
      "source": [
        "columns = ['Last Updated','Current Ver','Android Ver']\n",
        "dg.drop(columns, inplace=True, axis=1)"
      ],
      "execution_count": null,
      "outputs": []
    },
    {
      "cell_type": "markdown",
      "metadata": {
        "id": "z8OaSHEdVich"
      },
      "source": [
        "Так как дальше мы будем работать с ценами, колонку `Price` необходимо перевести в численный тип данных, сделайте это"
      ]
    },
    {
      "cell_type": "code",
      "metadata": {
        "id": "Bmw_6SXFSkfE"
      },
      "source": [
        "dg['Price'] = pd.to_numeric(dg['Price'].map(lambda x: x.lstrip('$'))) \n",
        "# dg['Price'] = dg['Price'].map(lambda x: x.lstrip('$')).astype(int)"
      ],
      "execution_count": null,
      "outputs": []
    },
    {
      "cell_type": "markdown",
      "metadata": {
        "id": "dKwNlD-BVzz_"
      },
      "source": [
        "Проверьте, получилось ли"
      ]
    },
    {
      "cell_type": "code",
      "metadata": {
        "id": "xymVQv4uV3b3",
        "outputId": "94e63139-78f5-4624-b100-2f09f2b6841b",
        "colab": {
          "base_uri": "https://localhost:8080/",
          "height": 217
        }
      },
      "source": [
        "dg.dtypes"
      ],
      "execution_count": null,
      "outputs": [
        {
          "output_type": "execute_result",
          "data": {
            "text/plain": [
              "App                object\n",
              "Category           object\n",
              "Rating            float64\n",
              "Reviews             int64\n",
              "Size               object\n",
              "Installs           object\n",
              "Type               object\n",
              "Price             float64\n",
              "Content Rating     object\n",
              "Genres             object\n",
              "dtype: object"
            ]
          },
          "metadata": {
            "tags": []
          },
          "execution_count": 193
        }
      ]
    },
    {
      "cell_type": "markdown",
      "metadata": {
        "id": "bnXAluZFWVv1"
      },
      "source": [
        "Почему-то колонка `Reviews` здесь не `int`, приведите её к нему "
      ]
    },
    {
      "cell_type": "code",
      "metadata": {
        "id": "A_arZjplV4tM"
      },
      "source": [
        "dg['Reviews'] = dg['Reviews'].astype(int)"
      ],
      "execution_count": null,
      "outputs": []
    },
    {
      "cell_type": "markdown",
      "metadata": {
        "id": "dYgKXP6baNZi"
      },
      "source": [
        "Снова проверьте типы данных в предыдущей ячейке"
      ]
    },
    {
      "cell_type": "markdown",
      "metadata": {
        "id": "PKFsC7LKaVPn"
      },
      "source": [
        "Сделайте выборку приложений, в названии которых встречается photo (регист не важен) или рейтинг которых не меньше 4.5, при этом, цена должна быть меньше 1 доллара, а ограничений по возрастной группе не было бы, далее положите её в переменную `df_selected`, обнулите индексацию и выведите. Далее работа будет вестись в `df_selected`"
      ]
    },
    {
      "cell_type": "code",
      "metadata": {
        "id": "bxp-ImXCWEM9",
        "outputId": "752a207a-01b5-485a-eeca-0418f1e7a848",
        "colab": {
          "base_uri": "https://localhost:8080/",
          "height": 407
        }
      },
      "source": [
        "df_selected = dg[(dg['App'].str.contains('Photo') | (dg['Rating']>=4.5)) & (dg['Price']<1) & (dg['Content Rating']=='Everyone')]\n",
        "df_selected = df_selected.reset_index(drop = True)\n",
        "df_selected"
      ],
      "execution_count": null,
      "outputs": [
        {
          "output_type": "execute_result",
          "data": {
            "text/html": [
              "<div>\n",
              "<style scoped>\n",
              "    .dataframe tbody tr th:only-of-type {\n",
              "        vertical-align: middle;\n",
              "    }\n",
              "\n",
              "    .dataframe tbody tr th {\n",
              "        vertical-align: top;\n",
              "    }\n",
              "\n",
              "    .dataframe thead th {\n",
              "        text-align: right;\n",
              "    }\n",
              "</style>\n",
              "<table border=\"1\" class=\"dataframe\">\n",
              "  <thead>\n",
              "    <tr style=\"text-align: right;\">\n",
              "      <th></th>\n",
              "      <th>App</th>\n",
              "      <th>Category</th>\n",
              "      <th>Rating</th>\n",
              "      <th>Reviews</th>\n",
              "      <th>Size</th>\n",
              "      <th>Installs</th>\n",
              "      <th>Type</th>\n",
              "      <th>Price</th>\n",
              "      <th>Content Rating</th>\n",
              "      <th>Genres</th>\n",
              "    </tr>\n",
              "  </thead>\n",
              "  <tbody>\n",
              "    <tr>\n",
              "      <th>0</th>\n",
              "      <td>Photo Editor &amp; Candy Camera &amp; Grid &amp; ScrapBook</td>\n",
              "      <td>ART_AND_DESIGN</td>\n",
              "      <td>4.1</td>\n",
              "      <td>159</td>\n",
              "      <td>19M</td>\n",
              "      <td>10,000+</td>\n",
              "      <td>Free</td>\n",
              "      <td>0.0</td>\n",
              "      <td>Everyone</td>\n",
              "      <td>Art &amp; Design</td>\n",
              "    </tr>\n",
              "    <tr>\n",
              "      <th>1</th>\n",
              "      <td>U Launcher Lite – FREE Live Cool Themes, Hide ...</td>\n",
              "      <td>ART_AND_DESIGN</td>\n",
              "      <td>4.7</td>\n",
              "      <td>87510</td>\n",
              "      <td>8.7M</td>\n",
              "      <td>5,000,000+</td>\n",
              "      <td>Free</td>\n",
              "      <td>0.0</td>\n",
              "      <td>Everyone</td>\n",
              "      <td>Art &amp; Design</td>\n",
              "    </tr>\n",
              "    <tr>\n",
              "      <th>2</th>\n",
              "      <td>Smoke Effect Photo Maker - Smoke Editor</td>\n",
              "      <td>ART_AND_DESIGN</td>\n",
              "      <td>3.8</td>\n",
              "      <td>178</td>\n",
              "      <td>19M</td>\n",
              "      <td>50,000+</td>\n",
              "      <td>Free</td>\n",
              "      <td>0.0</td>\n",
              "      <td>Everyone</td>\n",
              "      <td>Art &amp; Design</td>\n",
              "    </tr>\n",
              "    <tr>\n",
              "      <th>3</th>\n",
              "      <td>Kids Paint Free - Drawing Fun</td>\n",
              "      <td>ART_AND_DESIGN</td>\n",
              "      <td>4.7</td>\n",
              "      <td>121</td>\n",
              "      <td>3.1M</td>\n",
              "      <td>10,000+</td>\n",
              "      <td>Free</td>\n",
              "      <td>0.0</td>\n",
              "      <td>Everyone</td>\n",
              "      <td>Art &amp; Design;Creativity</td>\n",
              "    </tr>\n",
              "    <tr>\n",
              "      <th>4</th>\n",
              "      <td>Text on Photo - Fonteee</td>\n",
              "      <td>ART_AND_DESIGN</td>\n",
              "      <td>4.4</td>\n",
              "      <td>13880</td>\n",
              "      <td>28M</td>\n",
              "      <td>1,000,000+</td>\n",
              "      <td>Free</td>\n",
              "      <td>0.0</td>\n",
              "      <td>Everyone</td>\n",
              "      <td>Art &amp; Design</td>\n",
              "    </tr>\n",
              "    <tr>\n",
              "      <th>...</th>\n",
              "      <td>...</td>\n",
              "      <td>...</td>\n",
              "      <td>...</td>\n",
              "      <td>...</td>\n",
              "      <td>...</td>\n",
              "      <td>...</td>\n",
              "      <td>...</td>\n",
              "      <td>...</td>\n",
              "      <td>...</td>\n",
              "      <td>...</td>\n",
              "    </tr>\n",
              "    <tr>\n",
              "      <th>2288</th>\n",
              "      <td>Bulgarian French Dictionary Fr</td>\n",
              "      <td>BOOKS_AND_REFERENCE</td>\n",
              "      <td>4.6</td>\n",
              "      <td>603</td>\n",
              "      <td>7.4M</td>\n",
              "      <td>10,000+</td>\n",
              "      <td>Free</td>\n",
              "      <td>0.0</td>\n",
              "      <td>Everyone</td>\n",
              "      <td>Books &amp; Reference</td>\n",
              "    </tr>\n",
              "    <tr>\n",
              "      <th>2289</th>\n",
              "      <td>Chemin (fr)</td>\n",
              "      <td>BOOKS_AND_REFERENCE</td>\n",
              "      <td>4.8</td>\n",
              "      <td>44</td>\n",
              "      <td>619k</td>\n",
              "      <td>1,000+</td>\n",
              "      <td>Free</td>\n",
              "      <td>0.0</td>\n",
              "      <td>Everyone</td>\n",
              "      <td>Books &amp; Reference</td>\n",
              "    </tr>\n",
              "    <tr>\n",
              "      <th>2290</th>\n",
              "      <td>Sya9a Maroc - FR</td>\n",
              "      <td>FAMILY</td>\n",
              "      <td>4.5</td>\n",
              "      <td>38</td>\n",
              "      <td>53M</td>\n",
              "      <td>5,000+</td>\n",
              "      <td>Free</td>\n",
              "      <td>0.0</td>\n",
              "      <td>Everyone</td>\n",
              "      <td>Education</td>\n",
              "    </tr>\n",
              "    <tr>\n",
              "      <th>2291</th>\n",
              "      <td>Fr. Mike Schmitz Audio Teachings</td>\n",
              "      <td>FAMILY</td>\n",
              "      <td>5.0</td>\n",
              "      <td>4</td>\n",
              "      <td>3.6M</td>\n",
              "      <td>100+</td>\n",
              "      <td>Free</td>\n",
              "      <td>0.0</td>\n",
              "      <td>Everyone</td>\n",
              "      <td>Education</td>\n",
              "    </tr>\n",
              "    <tr>\n",
              "      <th>2292</th>\n",
              "      <td>iHoroscope - 2018 Daily Horoscope &amp; Astrology</td>\n",
              "      <td>LIFESTYLE</td>\n",
              "      <td>4.5</td>\n",
              "      <td>398307</td>\n",
              "      <td>19M</td>\n",
              "      <td>10,000,000+</td>\n",
              "      <td>Free</td>\n",
              "      <td>0.0</td>\n",
              "      <td>Everyone</td>\n",
              "      <td>Lifestyle</td>\n",
              "    </tr>\n",
              "  </tbody>\n",
              "</table>\n",
              "<p>2293 rows × 10 columns</p>\n",
              "</div>"
            ],
            "text/plain": [
              "                                                    App  ...                   Genres\n",
              "0        Photo Editor & Candy Camera & Grid & ScrapBook  ...             Art & Design\n",
              "1     U Launcher Lite – FREE Live Cool Themes, Hide ...  ...             Art & Design\n",
              "2               Smoke Effect Photo Maker - Smoke Editor  ...             Art & Design\n",
              "3                         Kids Paint Free - Drawing Fun  ...  Art & Design;Creativity\n",
              "4                               Text on Photo - Fonteee  ...             Art & Design\n",
              "...                                                 ...  ...                      ...\n",
              "2288                     Bulgarian French Dictionary Fr  ...        Books & Reference\n",
              "2289                                        Chemin (fr)  ...        Books & Reference\n",
              "2290                                   Sya9a Maroc - FR  ...                Education\n",
              "2291                   Fr. Mike Schmitz Audio Teachings  ...                Education\n",
              "2292      iHoroscope - 2018 Daily Horoscope & Astrology  ...                Lifestyle\n",
              "\n",
              "[2293 rows x 10 columns]"
            ]
          },
          "metadata": {
            "tags": []
          },
          "execution_count": 194
        }
      ]
    },
    {
      "cell_type": "markdown",
      "metadata": {
        "id": "SKF4sJyuyaVk"
      },
      "source": [
        "Замените все количество отзывов в приложении на  `np.nan`, если его рейтинг  больше, чем `4.8`. Далее замените все NaN'ы на среднее количество отзывов по `df` (не по `df_selected`)."
      ]
    },
    {
      "cell_type": "code",
      "metadata": {
        "id": "70BOpsO8y5hs"
      },
      "source": [
        "df_selected.loc[df_selected.Rating > 4.8, 'Reviews'] = np.nan\n",
        "mean_rew = dg['Reviews'].mean()\n",
        "df_selected['Reviews'] = df_selected['Reviews'].replace(np.nan, mean_rew)"
      ],
      "execution_count": null,
      "outputs": []
    },
    {
      "cell_type": "markdown",
      "metadata": {
        "id": "73WoejQY1JCj"
      },
      "source": [
        "\n",
        "Какие-то левые предупреждения... Они могут быть и полезными, но, зачастую просто не нужны. Убираются они просто:"
      ]
    },
    {
      "cell_type": "code",
      "metadata": {
        "id": "XIpb_qLW1Tqv"
      },
      "source": [
        "import warnings\n",
        "warnings.filterwarnings('ignore')"
      ],
      "execution_count": null,
      "outputs": []
    },
    {
      "cell_type": "markdown",
      "metadata": {
        "id": "y46y0e6Wwdmp"
      },
      "source": [
        "Теперь в полученном дата фрейме выберите все строки с 100-й по 400-ю и 4 любые колонки, расположите их не в том порядке, в котором они стояли изначально и отсортируйте датафрейм по любым двум колонкам: по первой по убыванию, а по второй по возрастанию. Полученный датафрейм выведите"
      ]
    },
    {
      "cell_type": "code",
      "metadata": {
        "id": "sk416iiZu3IP",
        "outputId": "32c8d0e2-1f92-425f-a765-d043e08f3450",
        "colab": {
          "base_uri": "https://localhost:8080/",
          "height": 407
        }
      },
      "source": [
        "data = df_selected.loc[100:400, ['Rating','Reviews','Price','App']]\n",
        "data.sort_values(['Rating','Reviews'], ascending = [False,True])\n"
      ],
      "execution_count": null,
      "outputs": [
        {
          "output_type": "execute_result",
          "data": {
            "text/html": [
              "<div>\n",
              "<style scoped>\n",
              "    .dataframe tbody tr th:only-of-type {\n",
              "        vertical-align: middle;\n",
              "    }\n",
              "\n",
              "    .dataframe tbody tr th {\n",
              "        vertical-align: top;\n",
              "    }\n",
              "\n",
              "    .dataframe thead th {\n",
              "        text-align: right;\n",
              "    }\n",
              "</style>\n",
              "<table border=\"1\" class=\"dataframe\">\n",
              "  <thead>\n",
              "    <tr style=\"text-align: right;\">\n",
              "      <th></th>\n",
              "      <th>Rating</th>\n",
              "      <th>Reviews</th>\n",
              "      <th>Price</th>\n",
              "      <th>App</th>\n",
              "    </tr>\n",
              "  </thead>\n",
              "  <tbody>\n",
              "    <tr>\n",
              "      <th>100</th>\n",
              "      <td>5.0</td>\n",
              "      <td>4.441529e+05</td>\n",
              "      <td>0.0</td>\n",
              "      <td>Hojiboy Tojiboyev Life Hacks</td>\n",
              "    </tr>\n",
              "    <tr>\n",
              "      <th>197</th>\n",
              "      <td>5.0</td>\n",
              "      <td>4.441529e+05</td>\n",
              "      <td>0.0</td>\n",
              "      <td>SUMMER SONIC app</td>\n",
              "    </tr>\n",
              "    <tr>\n",
              "      <th>198</th>\n",
              "      <td>5.0</td>\n",
              "      <td>4.441529e+05</td>\n",
              "      <td>0.0</td>\n",
              "      <td>Prosperity</td>\n",
              "    </tr>\n",
              "    <tr>\n",
              "      <th>200</th>\n",
              "      <td>5.0</td>\n",
              "      <td>4.441529e+05</td>\n",
              "      <td>0.0</td>\n",
              "      <td>Mindvalley U Tallinn 2018</td>\n",
              "    </tr>\n",
              "    <tr>\n",
              "      <th>394</th>\n",
              "      <td>5.0</td>\n",
              "      <td>4.441529e+05</td>\n",
              "      <td>0.0</td>\n",
              "      <td>Eternal life</td>\n",
              "    </tr>\n",
              "    <tr>\n",
              "      <th>...</th>\n",
              "      <td>...</td>\n",
              "      <td>...</td>\n",
              "      <td>...</td>\n",
              "      <td>...</td>\n",
              "    </tr>\n",
              "    <tr>\n",
              "      <th>209</th>\n",
              "      <td>4.5</td>\n",
              "      <td>1.336246e+06</td>\n",
              "      <td>0.0</td>\n",
              "      <td>Bank of Brazil</td>\n",
              "    </tr>\n",
              "    <tr>\n",
              "      <th>109</th>\n",
              "      <td>4.5</td>\n",
              "      <td>2.511130e+06</td>\n",
              "      <td>0.0</td>\n",
              "      <td>Dolphin Browser - Fast, Private &amp; Adblock🐬</td>\n",
              "    </tr>\n",
              "    <tr>\n",
              "      <th>102</th>\n",
              "      <td>4.5</td>\n",
              "      <td>5.149854e+06</td>\n",
              "      <td>0.0</td>\n",
              "      <td>Opera Mini - fast web browser</td>\n",
              "    </tr>\n",
              "    <tr>\n",
              "      <th>108</th>\n",
              "      <td>4.5</td>\n",
              "      <td>5.150471e+06</td>\n",
              "      <td>0.0</td>\n",
              "      <td>Opera Mini - fast web browser</td>\n",
              "    </tr>\n",
              "    <tr>\n",
              "      <th>113</th>\n",
              "      <td>4.5</td>\n",
              "      <td>7.820209e+06</td>\n",
              "      <td>0.0</td>\n",
              "      <td>Truecaller: Caller ID, SMS spam blocking &amp; Dialer</td>\n",
              "    </tr>\n",
              "  </tbody>\n",
              "</table>\n",
              "<p>301 rows × 4 columns</p>\n",
              "</div>"
            ],
            "text/plain": [
              "     Rating  ...                                                App\n",
              "100     5.0  ...                       Hojiboy Tojiboyev Life Hacks\n",
              "197     5.0  ...                                   SUMMER SONIC app\n",
              "198     5.0  ...                                         Prosperity\n",
              "200     5.0  ...                          Mindvalley U Tallinn 2018\n",
              "394     5.0  ...                                       Eternal life\n",
              "..      ...  ...                                                ...\n",
              "209     4.5  ...                                     Bank of Brazil\n",
              "109     4.5  ...         Dolphin Browser - Fast, Private & Adblock🐬\n",
              "102     4.5  ...                      Opera Mini - fast web browser\n",
              "108     4.5  ...                      Opera Mini - fast web browser\n",
              "113     4.5  ...  Truecaller: Caller ID, SMS spam blocking & Dialer\n",
              "\n",
              "[301 rows x 4 columns]"
            ]
          },
          "metadata": {
            "tags": []
          },
          "execution_count": 197
        }
      ]
    },
    {
      "cell_type": "markdown",
      "metadata": {
        "id": "25DGtuW2yJGk"
      },
      "source": [
        "Спасибо за решение!"
      ]
    },
    {
      "cell_type": "markdown",
      "metadata": {
        "id": "h2Ndql4eyLwh"
      },
      "source": [
        "Не затронутые темы:\n",
        "* merge - [склеивание таблиц по колонкам](https://pandas.pydata.org/docs/reference/api/pandas.DataFrame.merge.html#pandas.DataFrame.merge)\n",
        "* shift - [сдвиги значений по колонкам (или индексам)](https://pandas.pydata.org/docs/reference/api/pandas.DataFrame.shift.html#pandas.DataFrame.shift)\n",
        "* rolling - [скользящие окна (скользящее среднее и тп)](https://pandas.pydata.org/docs/reference/api/pandas.DataFrame.rolling.html#pandas.DataFrame.rolling)\n",
        "* clip - [обрезание значений сверху и снизу](https://pandas.pydata.org/docs/reference/api/pandas.DataFrame.clip.html#pandas.DataFrame.clip)\n",
        "* drop_duplicates - [отбрасыванеи дубликатов](https://pandas.pydata.org/docs/reference/api/pandas.DataFrame.drop_duplicates.html#pandas.DataFrame.drop_duplicates)\n",
        "* pivot - [специальный решейпинг по колонкам и индексам](https://pandas.pydata.org/pandas-docs/stable/user_guide/reshaping.html)  \n",
        "(сам не особо понимаю => пользуюсь в крайнем случае)\n",
        "* stack - [специальный решейпинг по индексам](https://pandas.pydata.org/pandas-docs/stable/user_guide/reshaping.html#reshaping-by-stacking-and-unstacking)  \n",
        "(сам не особо понимаю => пользуюсь в крайнем случае)\n",
        "* melt - [обратный pivot](https://pandas.pydata.org/docs/reference/api/pandas.DataFrame.melt.html#pandas.DataFrame.melt)  \n",
        "(сам не особо понимаю => пользуюсь в крайнем случае)\n",
        "\n",
        "А также куча агрегирующих функций, способов выбора под-датафрейма, бинарых операций, работа с другими типами файлов (типа .xlsx), переименование колонок и другой функционал, которым почти наверняка не будешь пользоваться"
      ]
    },
    {
      "cell_type": "code",
      "metadata": {
        "id": "H5zPkIl982jI"
      },
      "source": [
        ""
      ],
      "execution_count": null,
      "outputs": []
    }
  ]
}