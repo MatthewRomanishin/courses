{
  "nbformat": 4,
  "nbformat_minor": 0,
  "metadata": {
    "colab": {
      "name": "Base_line_4_4.ipynb",
      "provenance": [],
      "collapsed_sections": [],
      "authorship_tag": "ABX9TyPo9uCR4WE/Uqu0iMVdPVEh",
      "include_colab_link": true
    },
    "kernelspec": {
      "name": "python3",
      "display_name": "Python 3"
    },
    "accelerator": "GPU"
  },
  "cells": [
    {
      "cell_type": "markdown",
      "metadata": {
        "id": "view-in-github",
        "colab_type": "text"
      },
      "source": [
        "<a href=\"https://colab.research.google.com/github/MatthewRomanishin/courses/blob/main/PYDNN/CNN_4_4.ipynb\" target=\"_parent\"><img src=\"https://colab.research.google.com/assets/colab-badge.svg\" alt=\"Open In Colab\"/></a>"
      ]
    },
    {
      "cell_type": "code",
      "metadata": {
        "id": "KPHj67RMI2_r"
      },
      "source": [
        "from google.colab import drive\n",
        "drive.mount('/content/gdrive')"
      ],
      "execution_count": null,
      "outputs": []
    },
    {
      "cell_type": "code",
      "metadata": {
        "id": "_722lN-nJCbw"
      },
      "source": [
        "\"\"\"Импортируем вспомогательные библиотеки\"\"\"\n",
        "import numpy as np\n",
        "import pandas as pd\n",
        "import tensorflow as tf\n",
        "import keras\n",
        "\n",
        "\"\"\"Импортируем все для работы с предварительно обученной сетью VGG16\"\"\"\n",
        "from tensorflow.keras.applications.vgg16 import VGG16\n",
        "from tensorflow.keras.applications.vgg16 import preprocess_input, decode_predictions\n",
        "\n",
        "from tensorflow.keras.layers.experimental.preprocessing import Normalization\n",
        "from tensorflow.keras.applications import ResNet50, InceptionV3, DenseNet201, Xception\n",
        "from tensorflow.keras.models import Sequential\n",
        "from tensorflow.keras.layers import Dense, Flatten\n",
        "from tensorflow.keras.layers import Dropout\n",
        "from tensorflow.keras.optimizers import Adam\n",
        "from tensorflow import image\n",
        "from tensorflow.keras import utils\n",
        "import matplotlib.pyplot as plt\n",
        "%matplotlib inline \n",
        "\n",
        "from numpy.random import seed\n",
        "seed(2020)\n",
        "from tensorflow.random import set_seed\n",
        "set_seed(2020)\n",
        "\n",
        "import os\n",
        "for dirname, _, filenames in os.walk('/content/gdrive/My Drive/kaggle/Base_line_4_4'):\n",
        "    for filename in filenames:\n",
        "        print(os.path.join(dirname, filename))"
      ],
      "execution_count": null,
      "outputs": []
    },
    {
      "cell_type": "code",
      "metadata": {
        "id": "x7uOhNaCJSSA"
      },
      "source": [
        "classes=['самолет', 'автомобиль', 'птица', 'кот', 'олень', 'собака', 'лягушка', 'лошадь', 'корабль', 'грузовик']"
      ],
      "execution_count": 4,
      "outputs": []
    },
    {
      "cell_type": "code",
      "metadata": {
        "id": "bBxuP9YeJyIc"
      },
      "source": [
        "X_train = np.load('/content/gdrive/My Drive/kaggle/Base_line_4_4/train.npy')\n",
        "Y_train = np.load('/content/gdrive/My Drive/kaggle/Base_line_4_4/train_label.npy')\n",
        "X_test = np.load('/content/gdrive/My Drive/kaggle/Base_line_4_4/test.npy')\n",
        "X_train.shape, Y_train.shape, X_test.shape"
      ],
      "execution_count": null,
      "outputs": []
    },
    {
      "cell_type": "code",
      "metadata": {
        "id": "LBadeQPSKFjB"
      },
      "source": [
        "X_train = image.resize(X_train, [64,64])\n",
        "X_test = image.resize(X_test, [64,64])\n",
        "x_train = preprocess_input(X_train)\n",
        "x_test = preprocess_input(X_test)"
      ],
      "execution_count": 7,
      "outputs": []
    },
    {
      "cell_type": "code",
      "metadata": {
        "id": "XblhOKMaKKMH"
      },
      "source": [
        "y_train = utils.to_categorical(Y_train, 10)"
      ],
      "execution_count": 8,
      "outputs": []
    },
    {
      "cell_type": "code",
      "metadata": {
        "id": "QZUmwvM0KPwp"
      },
      "source": [
        "Resnet50 = ResNet50(weights='imagenet', \n",
        "                  include_top=False, \n",
        "                  input_shape=(64, 64, 3))\n",
        "ResNet50.trainable = False"
      ],
      "execution_count": null,
      "outputs": []
    },
    {
      "cell_type": "code",
      "metadata": {
        "id": "ovjflqucKUDP"
      },
      "source": [
        "seed(2020)\n",
        "set_seed(2020)\n",
        "model = Sequential()\n",
        "model.add(Resnet50)\n",
        "model.add(Flatten())\n",
        "model.add(Dense(256, activation='relu'))\n",
        "model.add(Dropout(0.5))\n",
        "model.add(Dense(10, activation='softmax'))"
      ],
      "execution_count": 10,
      "outputs": []
    },
    {
      "cell_type": "code",
      "metadata": {
        "id": "gVQNbCLBKXgW",
        "outputId": "02f36833-137b-4849-974a-9e3988d57d12",
        "colab": {
          "base_uri": "https://localhost:8080/",
          "height": 323
        }
      },
      "source": [
        "model.summary()"
      ],
      "execution_count": 11,
      "outputs": [
        {
          "output_type": "stream",
          "text": [
            "Model: \"sequential\"\n",
            "_________________________________________________________________\n",
            "Layer (type)                 Output Shape              Param #   \n",
            "=================================================================\n",
            "resnet50 (Functional)        (None, 2, 2, 2048)        23587712  \n",
            "_________________________________________________________________\n",
            "flatten (Flatten)            (None, 8192)              0         \n",
            "_________________________________________________________________\n",
            "dense (Dense)                (None, 256)               2097408   \n",
            "_________________________________________________________________\n",
            "dropout (Dropout)            (None, 256)               0         \n",
            "_________________________________________________________________\n",
            "dense_1 (Dense)              (None, 10)                2570      \n",
            "=================================================================\n",
            "Total params: 25,687,690\n",
            "Trainable params: 25,634,570\n",
            "Non-trainable params: 53,120\n",
            "_________________________________________________________________\n"
          ],
          "name": "stdout"
        }
      ]
    },
    {
      "cell_type": "code",
      "metadata": {
        "id": "aECghBppKZHw"
      },
      "source": [
        "model.compile(loss='categorical_crossentropy',\n",
        "              optimizer=\"adam\",\n",
        "              metrics=['accuracy'])"
      ],
      "execution_count": 12,
      "outputs": []
    },
    {
      "cell_type": "code",
      "metadata": {
        "id": "TJ9UNOQtKcr4"
      },
      "source": [
        "with tf.device('gpu:0'):\n",
        "    history = model.fit(x_train, y_train,\n",
        "              batch_size=512,\n",
        "              epochs=100,\n",
        "              validation_split=0.2,\n",
        "              verbose=1,\n",
        "              callbacks=[#tf.keras.callbacks.EarlyStopping(patience=3), \n",
        "                         tf.keras.callbacks.ModelCheckpoint(filepath='model.{epoch:02d}-{val_loss:.2f}.h5'), \n",
        "                         tf.keras.callbacks.ReduceLROnPlateau(factor=0.2,patience=5, min_lr=0.0001)]\n",
        "                    )"
      ],
      "execution_count": null,
      "outputs": []
    },
    {
      "cell_type": "code",
      "metadata": {
        "id": "Wl-LfyBfx9Sz"
      },
      "source": [
        "model = keras.models.load_model('/content/model.14-0.70.h5')\n"
      ],
      "execution_count": 17,
      "outputs": []
    },
    {
      "cell_type": "code",
      "metadata": {
        "id": "_CjnYAQLKeKR",
        "outputId": "edf3411d-0d7c-4654-e2de-04755e5a0de7",
        "colab": {
          "base_uri": "https://localhost:8080/",
          "height": 281
        }
      },
      "source": [
        "plt.plot(history.history['accuracy'], \n",
        "         label='Доля верных ответов на обучающем наборе')\n",
        "plt.plot(history.history['val_accuracy'], \n",
        "         label='Доля верных ответов на проверочном наборе')\n",
        "plt.xlabel('Эпоха обучения')\n",
        "plt.ylabel('Доля верных ответов')\n",
        "plt.legend()\n",
        "plt.show()"
      ],
      "execution_count": 18,
      "outputs": [
        {
          "output_type": "display_data",
          "data": {
            "image/png": "[encoded data removed]",
            "text/plain": [
              "<Figure size 432x288 with 1 Axes>"
            ]
          },
          "metadata": {
            "tags": [],
            "needs_background": "light"
          }
        }
      ]
    },
    {
      "cell_type": "code",
      "metadata": {
        "id": "6VUQZ0pIKmmv",
        "outputId": "08e7e15e-b149-4146-8936-4b9146efc032",
        "colab": {
          "base_uri": "https://localhost:8080/",
          "height": 34
        }
      },
      "source": [
        "predictions = model.predict(x_test)\n",
        "predictions = np.argmax(predictions, axis=1)\n",
        "predictions"
      ],
      "execution_count": 19,
      "outputs": [
        {
          "output_type": "execute_result",
          "data": {
            "text/plain": [
              "array([8, 6, 4, ..., 5, 1, 3])"
            ]
          },
          "metadata": {
            "tags": []
          },
          "execution_count": 19
        }
      ]
    },
    {
      "cell_type": "code",
      "metadata": {
        "id": "xBZ3YTcVKpNm"
      },
      "source": [
        "sample_submission = pd.read_csv('/content/gdrive/My Drive/kaggle/Base_line_4_4/sample_submission.csv')\n",
        "sample_submission['label'] = predictions"
      ],
      "execution_count": 20,
      "outputs": []
    },
    {
      "cell_type": "code",
      "metadata": {
        "id": "m0Fcgms4Kquq"
      },
      "source": [
        "sample_submission.to_csv('sample_submission.csv', index=False)"
      ],
      "execution_count": 21,
      "outputs": []
    }
  ]
}