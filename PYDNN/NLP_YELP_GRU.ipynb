{
  "nbformat": 4,
  "nbformat_minor": 0,
  "metadata": {
    "colab": {
      "name": "NLP_YELP_GRU.ipynb",
      "provenance": [],
      "collapsed_sections": [],
      "authorship_tag": "ABX9TyOFQgg/0E6atyEzXVxvLHON",
      "include_colab_link": true
    },
    "kernelspec": {
      "name": "python3",
      "display_name": "Python 3"
    },
    "accelerator": "GPU"
  },
  "cells": [
    {
      "cell_type": "markdown",
      "metadata": {
        "id": "view-in-github",
        "colab_type": "text"
      },
      "source": [
        "<a href=\"https://colab.research.google.com/github/MatthewRomanishin/courses/blob/main/PYDNN/NLP_YELP_GRU.ipynb\" target=\"_parent\"><img src=\"https://colab.research.google.com/assets/colab-badge.svg\" alt=\"Open In Colab\"/></a>"
      ]
    },
    {
      "cell_type": "code",
      "metadata": {
        "id": "cdZ9GtDm9mfD",
        "colab": {
          "base_uri": "https://localhost:8080/"
        },
        "outputId": "f97a3cac-15aa-4346-dc8d-a298452de0b5"
      },
      "source": [
        "from google.colab import drive\n",
        "drive.mount('/content/gdrive')"
      ],
      "execution_count": null,
      "outputs": [
        {
          "output_type": "stream",
          "text": [
            "Drive already mounted at /content/gdrive; to attempt to forcibly remount, call drive.mount(\"/content/gdrive\", force_remount=True).\n"
          ],
          "name": "stdout"
        }
      ]
    },
    {
      "cell_type": "code",
      "metadata": {
        "id": "S-8HSNKg9dB0"
      },
      "source": [
        "from tensorflow.keras.models import Sequential\n",
        "from tensorflow.keras.layers import Dense, Embedding, MaxPooling1D, Conv1D, GlobalMaxPooling1D, Dropout\n",
        "from tensorflow.keras import utils\n",
        "from tensorflow.keras.layers import GRU\n",
        "from tensorflow.keras.layers import LSTM\n",
        "from tensorflow.keras.preprocessing.sequence import pad_sequences\n",
        "from tensorflow.keras.preprocessing.text import Tokenizer\n",
        "from tensorflow.keras.callbacks import ModelCheckpoint\n",
        "import pandas as pd\n",
        "import numpy as np"
      ],
      "execution_count": null,
      "outputs": []
    },
    {
      "cell_type": "code",
      "metadata": {
        "colab": {
          "base_uri": "https://localhost:8080/"
        },
        "id": "YOTVtSAf-mWP",
        "outputId": "7119516b-7029-4b24-af77-acf05fbe5d63"
      },
      "source": [
        "KAGGLE_PATH = '/content/gdrive/MyDrive/kaggle/YELP/'\n",
        "x_train = pd.read_csv(KAGGLE_PATH + 'train.csv')\n",
        "y_train = pd.read_csv(KAGGLE_PATH + 'train_label.csv', index_col=0)\n",
        "x_test = pd.read_csv(KAGGLE_PATH + 'test.csv')\n",
        "x_train.shape, y_train.shape, x_test.shape, "
      ],
      "execution_count": null,
      "outputs": [
        {
          "output_type": "execute_result",
          "data": {
            "text/plain": [
              "((560000, 1), (560000, 1), (4000, 1))"
            ]
          },
          "metadata": {
            "tags": []
          },
          "execution_count": 49
        }
      ]
    },
    {
      "cell_type": "code",
      "metadata": {
        "id": "Z357YLIg-_9T"
      },
      "source": [
        "# извлекаем столбец с текстом\n",
        "x_train = x_train.Review\n",
        "x_test = x_test.Review\n"
      ],
      "execution_count": null,
      "outputs": []
    },
    {
      "cell_type": "code",
      "metadata": {
        "colab": {
          "base_uri": "https://localhost:8080/"
        },
        "id": "8hD1bo2BMxNG",
        "outputId": "34d09612-6556-4c34-80d9-919642b74d9c"
      },
      "source": [
        "x_train.nunique()"
      ],
      "execution_count": null,
      "outputs": [
        {
          "output_type": "execute_result",
          "data": {
            "text/plain": [
              "560000"
            ]
          },
          "metadata": {
            "tags": []
          },
          "execution_count": 51
        }
      ]
    },
    {
      "cell_type": "code",
      "metadata": {
        "id": "Zm_uyWKt_RLo"
      },
      "source": [
        "# указываем длину словаря, который мы будем использовать\n",
        "num_words = 100000\n",
        "# указываем длину последовательности, к которой приведем все тексты\n",
        "max_review_len = 100\n",
        "# создаем и обучаем токенизатор на тернировочных данных\n",
        "tokenizer = Tokenizer(num_words=num_words)\n",
        "tokenizer.fit_on_texts(x_train)\n",
        "# применяем токенизатор к тренировочным и тестовым данным\n",
        "x_train = tokenizer.texts_to_sequences(x_train)\n",
        "x_test = tokenizer.texts_to_sequences(x_test)\n",
        "# приводим все вектора текстов к общей длине\n",
        "x_train = pad_sequences(x_train, maxlen=max_review_len, padding='post')\n",
        "x_test = pad_sequences(x_test, maxlen=max_review_len, padding='post')"
      ],
      "execution_count": null,
      "outputs": []
    },
    {
      "cell_type": "code",
      "metadata": {
        "id": "EqJbOUFk_V3s"
      },
      "source": [
        "model = Sequential()\n",
        "model.add(Embedding(num_words, 128, input_length=max_review_len))\n",
        "model.add(GRU(64, return_sequences=True))\n",
        "model.add(GRU(32,return_sequences=True))\n",
        "model.add(GRU(64, return_sequences=True))\n",
        "model.add(GRU(16,return_sequences=True))\n",
        "model.add(GRU(64))\n",
        "model.add(Dense(64, activation='relu'))\n",
        "model.add(Dropout(0.25))\n",
        "model.add(Dense(32, activation='tanh'))\n",
        "model.add(Dropout(0.25))\n",
        "model.add(Dense(1, activation='sigmoid'))"
      ],
      "execution_count": null,
      "outputs": []
    },
    {
      "cell_type": "code",
      "metadata": {
        "id": "AyFHFXmf_dx1"
      },
      "source": [
        "model.compile(optimizer='adam', \n",
        "              loss='binary_crossentropy', \n",
        "              metrics=['accuracy'])"
      ],
      "execution_count": null,
      "outputs": []
    },
    {
      "cell_type": "code",
      "metadata": {
        "colab": {
          "base_uri": "https://localhost:8080/"
        },
        "id": "DR9DS9wZ_6ly",
        "outputId": "95ee7290-b958-48a2-f278-d80eac3245be"
      },
      "source": [
        "history = model.fit(x_train,\n",
        "                    y_train, \n",
        "                    epochs=3,\n",
        "                    batch_size=1024,\n",
        "                    validation_split=0.1)"
      ],
      "execution_count": null,
      "outputs": [
        {
          "output_type": "stream",
          "text": [
            "Epoch 1/3\n",
            "493/493 [==============================] - 105s 213ms/step - loss: 0.3043 - accuracy: 0.8640 - val_loss: 0.1701 - val_accuracy: 0.9363\n",
            "Epoch 2/3\n",
            "493/493 [==============================] - 103s 209ms/step - loss: 0.1666 - accuracy: 0.9368 - val_loss: 0.1379 - val_accuracy: 0.9479\n",
            "Epoch 3/3\n",
            "493/493 [==============================] - 104s 211ms/step - loss: 0.1279 - accuracy: 0.9533 - val_loss: 0.1396 - val_accuracy: 0.9485\n"
          ],
          "name": "stdout"
        }
      ]
    },
    {
      "cell_type": "code",
      "metadata": {
        "colab": {
          "base_uri": "https://localhost:8080/"
        },
        "id": "ogTG6cKcQtms",
        "outputId": "e9747b99-41b9-4b7f-d1cc-38488b8b2473"
      },
      "source": [
        "best_score = max(history.history['accuracy'])\n",
        "best_score"
      ],
      "execution_count": null,
      "outputs": [
        {
          "output_type": "execute_result",
          "data": {
            "text/plain": [
              "0.9767618775367737"
            ]
          },
          "metadata": {
            "tags": []
          },
          "execution_count": 94
        }
      ]
    },
    {
      "cell_type": "code",
      "metadata": {
        "id": "QhpcQXMn_xAQ",
        "colab": {
          "base_uri": "https://localhost:8080/"
        },
        "outputId": "dabd15fb-b2e0-4727-e9ac-79a6d97b6e06"
      },
      "source": [
        "sample_submission = pd.read_csv(KAGGLE_PATH + 'sample_submission.csv', index_col='id')\n",
        "sample_submission.label = model.predict_classes(x_test)\n",
        "sample_submission.to_csv(\"sample_submission.csv\")"
      ],
      "execution_count": null,
      "outputs": [
        {
          "output_type": "stream",
          "text": [
            "WARNING:tensorflow:From <ipython-input-41-76e601d15248>:2: Sequential.predict_classes (from tensorflow.python.keras.engine.sequential) is deprecated and will be removed after 2021-01-01.\n",
            "Instructions for updating:\n",
            "Please use instead:* `np.argmax(model.predict(x), axis=-1)`,   if your model does multi-class classification   (e.g. if it uses a `softmax` last-layer activation).* `(model.predict(x) > 0.5).astype(\"int32\")`,   if your model does binary classification   (e.g. if it uses a `sigmoid` last-layer activation).\n"
          ],
          "name": "stdout"
        }
      ]
    },
    {
      "cell_type": "code",
      "metadata": {
        "id": "Z2D7TQNdatMG"
      },
      "source": [
        ""
      ],
      "execution_count": null,
      "outputs": []
    }
  ]
}