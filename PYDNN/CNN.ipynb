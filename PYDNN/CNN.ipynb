{
  "nbformat": 4,
  "nbformat_minor": 0,
  "metadata": {
    "colab": {
      "name": "CNN.ipynb",
      "provenance": [],
      "collapsed_sections": [],
      "include_colab_link": true
    },
    "kernelspec": {
      "name": "python3",
      "display_name": "Python 3"
    },
    "accelerator": "GPU"
  },
  "cells": [
    {
      "cell_type": "markdown",
      "metadata": {
        "id": "view-in-github",
        "colab_type": "text"
      },
      "source": [
        "<a href=\"https://colab.research.google.com/github/MatthewRomanishin/courses/blob/main/PYDNN/CNN.ipynb\" target=\"_parent\"><img src=\"https://colab.research.google.com/assets/colab-badge.svg\" alt=\"Open In Colab\"/></a>"
      ]
    },
    {
      "cell_type": "code",
      "metadata": {
        "id": "6OhpYgY0bPje",
        "outputId": "1eca8ffd-e972-4f56-abb6-e52629500895",
        "colab": {
          "base_uri": "https://localhost:8080/",
          "height": 35
        }
      },
      "source": [
        "from google.colab import drive\n",
        "drive.mount('/content/gdrive')"
      ],
      "execution_count": null,
      "outputs": [
        {
          "output_type": "stream",
          "text": [
            "Mounted at /content/gdrive\n"
          ],
          "name": "stdout"
        }
      ]
    },
    {
      "cell_type": "code",
      "metadata": {
        "id": "7KeCVQCbEktE"
      },
      "source": [
        "!git clone https://github.com/keras-team/keras-tuner/\n",
        "!pip install -U keras-tuner"
      ],
      "execution_count": null,
      "outputs": []
    },
    {
      "cell_type": "code",
      "metadata": {
        "id": "r5u2RzrQbVfS",
        "outputId": "1861b585-79be-4b68-f1cd-4136f567370e",
        "colab": {
          "base_uri": "https://localhost:8080/",
          "height": 90
        }
      },
      "source": [
        "import numpy as np\n",
        "import pandas as pd\n",
        "from kerastuner import RandomSearch, Hyperband, BayesianOptimization\n",
        "from tensorflow.keras.models import Sequential\n",
        "from tensorflow.keras.layers import Dense, Flatten\n",
        "from tensorflow.keras.layers import Dropout\n",
        "from tensorflow.keras.layers import Conv2D, MaxPooling2D, AveragePooling2D\n",
        "from tensorflow.keras import utils\n",
        "from tensorflow.keras.preprocessing import image\n",
        "import matplotlib.pyplot as plt\n",
        "%matplotlib inline \n",
        "import os\n",
        "\"\"\" посмотрим, какие файлы храняться в директории \"\"\"\n",
        "for dirname, _, filenames in os.walk('/content/gdrive/My Drive/kaggle/CNN'):\n",
        "    for filename in filenames:\n",
        "        print(os.path.join(dirname, filename))"
      ],
      "execution_count": null,
      "outputs": [
        {
          "output_type": "stream",
          "text": [
            "/content/gdrive/My Drive/kaggle/CNN/test.npy\n",
            "/content/gdrive/My Drive/kaggle/CNN/sample_submission.csv\n",
            "/content/gdrive/My Drive/kaggle/CNN/train.npy\n",
            "/content/gdrive/My Drive/kaggle/CNN/train_label.npy\n"
          ],
          "name": "stdout"
        }
      ]
    },
    {
      "cell_type": "code",
      "metadata": {
        "id": "a1Bx5lmebt2R"
      },
      "source": [
        "# Названия классов из набора данных CIFAR-10\n",
        "classes=['самолет', 'автомобиль', 'птица', 'кот', 'олень', 'собака', 'лягушка', 'лошадь', 'корабль', 'грузовик']"
      ],
      "execution_count": null,
      "outputs": []
    },
    {
      "cell_type": "code",
      "metadata": {
        "id": "9I2YqNT2bzsI"
      },
      "source": [
        "\"\"\"Так как данные храняться не в формате таблиц, а в формате многомерных тензоров numpy,\n",
        "то применим для загрузки данных функцию numpy load()\"\"\"\n",
        "X_train = np.load('/content/gdrive/My Drive/kaggle/CNN/train.npy')\n",
        "Y_train = np.load('/content/gdrive/My Drive/kaggle/CNN/train_label.npy')\n",
        "X_test = np.load('/content/gdrive/My Drive/kaggle/CNN/test.npy')\n",
        "X_train.shape, Y_train.shape, X_test.shape\n",
        "x_train = X_train / 255\n",
        "x_test = X_test / 255"
      ],
      "execution_count": null,
      "outputs": []
    },
    {
      "cell_type": "code",
      "metadata": {
        "id": "AhguuAIscDQC"
      },
      "source": [
        "y_train = utils.to_categorical(Y_train, 10)"
      ],
      "execution_count": null,
      "outputs": []
    },
    {
      "cell_type": "code",
      "metadata": {
        "id": "U2VNRp26Fqd5"
      },
      "source": [
        "def build_model(hp):\n",
        "    activation_choice = hp.Choice('activation', values=['relu', 'sigmoid', 'tanh', 'elu', 'selu'])\n",
        "    activation_choice2 = hp.Choice('activation1', values=['relu','swish'])    \n",
        "\n",
        "    model = Sequential()\n",
        "    model.add(Conv2D(filters=hp.Int('filters',\n",
        "                                    min_value=32,\n",
        "                                    max_value=64,\n",
        "                                    step=16),\n",
        "              activation= activation_choice2,\n",
        "              padding='valid',\n",
        "              kernel_size=(3,3)\n",
        "              ))\n",
        "    \n",
        "    model.add(Conv2D(filters=hp.Int('filters',\n",
        "                                min_value=32,\n",
        "                                max_value=64,\n",
        "                                step=16),\n",
        "            activation= activation_choice2,\n",
        "            padding='valid',\n",
        "            kernel_size=(3,3)\n",
        "            ))\n",
        "    \n",
        "    model.add(MaxPooling2D(pool_size=(2,2)))\n",
        "\n",
        "    model.add(Dropout(hp.Float('dropout',\n",
        "                             min_value=0.1,\n",
        "                             max_value=0.5,\n",
        "                             step=0.2)))\n",
        "    \n",
        "    model.add(Conv2D(filters=hp.Int('filters',\n",
        "                                min_value=32,\n",
        "                                max_value=64,\n",
        "                                step=16),\n",
        "            activation= activation_choice2,\n",
        "            padding='same',\n",
        "            kernel_size= (3,3)\n",
        "            ))\n",
        "\n",
        "    model.add(MaxPooling2D(pool_size=(2,2)))\n",
        "\n",
        "    model.add(Dropout(hp.Float('dropout',\n",
        "                             min_value=0.1,\n",
        "                             max_value=0.5,\n",
        "                             step=0.2)))\n",
        "    \n",
        "    model.add(Flatten())\n",
        "    \n",
        "    model.add(Dense(1024,activation= activation_choice2))\n",
        "\n",
        "    model.add(Dense(10, activation='softmax'))\n",
        "\n",
        "    model.compile(\n",
        "        optimizer=hp.Choice('optimizer', values=['adam','nadam','SGD']),\n",
        "        loss='categorical_crossentropy',\n",
        "        metrics=['accuracy'])\n",
        "    return model"
      ],
      "execution_count": null,
      "outputs": []
    },
    {
      "cell_type": "code",
      "metadata": {
        "id": "e_Vo7aUgcMRe",
        "outputId": "5abf51f5-e6ad-484b-c1ba-2b2753e85ccb",
        "colab": {
          "base_uri": "https://localhost:8080/",
          "height": 54
        }
      },
      "source": [
        "tuner = RandomSearch(\n",
        "    build_model,                 # функция создания модели\n",
        "    objective='val_accuracy',    # метрика, которую нужно оптимизировать - \n",
        "                                 # доля правильных ответов на проверочном наборе данных\n",
        "    max_trials=1000,               # максимальное количество запусков обучения \n",
        "    directory='test_directory'   # каталог, куда сохраняются обученные сети  \n",
        "    )"
      ],
      "execution_count": null,
      "outputs": [
        {
          "output_type": "stream",
          "text": [
            "INFO:tensorflow:Reloading Oracle from existing project test_directory/untitled_project/oracle.json\n",
            "INFO:tensorflow:Reloading Tuner from test_directory/untitled_project/tuner0.json\n"
          ],
          "name": "stdout"
        }
      ]
    },
    {
      "cell_type": "code",
      "metadata": {
        "id": "wHA5bi1acSn6",
        "outputId": "0c09ae85-e4d6-4e5d-d796-a8b511f72a8d",
        "colab": {
          "base_uri": "https://localhost:8080/",
          "height": 582
        }
      },
      "source": [
        "tuner.search_space_summary()"
      ],
      "execution_count": null,
      "outputs": [
        {
          "output_type": "display_data",
          "data": {
            "text/html": [
              "<span style=\"color:#4527A0\"><h1 style=\"font-size:18px\">Search space summary</h1></span>"
            ],
            "text/plain": [
              "<IPython.core.display.HTML object>"
            ]
          },
          "metadata": {
            "tags": []
          }
        },
        {
          "output_type": "display_data",
          "data": {
            "text/html": [
              "<span style=\"color:cyan\"> |-Default search space size: 5</span>"
            ],
            "text/plain": [
              "<IPython.core.display.HTML object>"
            ]
          },
          "metadata": {
            "tags": []
          }
        },
        {
          "output_type": "display_data",
          "data": {
            "text/html": [
              "<span style=\"color:#7E57C2\"><h2 style=\"font-size:16px\">activation (Choice)</h2></span>"
            ],
            "text/plain": [
              "<IPython.core.display.HTML object>"
            ]
          },
          "metadata": {
            "tags": []
          }
        },
        {
          "output_type": "display_data",
          "data": {
            "text/html": [
              "<span style=\"color:cyan\"> |-default: relu</span>"
            ],
            "text/plain": [
              "<IPython.core.display.HTML object>"
            ]
          },
          "metadata": {
            "tags": []
          }
        },
        {
          "output_type": "display_data",
          "data": {
            "text/html": [
              "<span style=\"color:blue\"> |-ordered: False</span>"
            ],
            "text/plain": [
              "<IPython.core.display.HTML object>"
            ]
          },
          "metadata": {
            "tags": []
          }
        },
        {
          "output_type": "display_data",
          "data": {
            "text/html": [
              "<span style=\"color:cyan\"> |-values: ['relu', 'sigmoid', 'tanh', 'elu', 'selu']</span>"
            ],
            "text/plain": [
              "<IPython.core.display.HTML object>"
            ]
          },
          "metadata": {
            "tags": []
          }
        },
        {
          "output_type": "display_data",
          "data": {
            "text/html": [
              "<span style=\"color:#7E57C2\"><h2 style=\"font-size:16px\">activation1 (Choice)</h2></span>"
            ],
            "text/plain": [
              "<IPython.core.display.HTML object>"
            ]
          },
          "metadata": {
            "tags": []
          }
        },
        {
          "output_type": "display_data",
          "data": {
            "text/html": [
              "<span style=\"color:cyan\"> |-default: relu</span>"
            ],
            "text/plain": [
              "<IPython.core.display.HTML object>"
            ]
          },
          "metadata": {
            "tags": []
          }
        },
        {
          "output_type": "display_data",
          "data": {
            "text/html": [
              "<span style=\"color:blue\"> |-ordered: False</span>"
            ],
            "text/plain": [
              "<IPython.core.display.HTML object>"
            ]
          },
          "metadata": {
            "tags": []
          }
        },
        {
          "output_type": "display_data",
          "data": {
            "text/html": [
              "<span style=\"color:cyan\"> |-values: ['relu', 'elu', 'swish']</span>"
            ],
            "text/plain": [
              "<IPython.core.display.HTML object>"
            ]
          },
          "metadata": {
            "tags": []
          }
        },
        {
          "output_type": "display_data",
          "data": {
            "text/html": [
              "<span style=\"color:#7E57C2\"><h2 style=\"font-size:16px\">filters (Int)</h2></span>"
            ],
            "text/plain": [
              "<IPython.core.display.HTML object>"
            ]
          },
          "metadata": {
            "tags": []
          }
        },
        {
          "output_type": "display_data",
          "data": {
            "text/html": [
              "<span style=\"color:cyan\"> |-default: None</span>"
            ],
            "text/plain": [
              "<IPython.core.display.HTML object>"
            ]
          },
          "metadata": {
            "tags": []
          }
        },
        {
          "output_type": "display_data",
          "data": {
            "text/html": [
              "<span style=\"color:blue\"> |-max_value: 64</span>"
            ],
            "text/plain": [
              "<IPython.core.display.HTML object>"
            ]
          },
          "metadata": {
            "tags": []
          }
        },
        {
          "output_type": "display_data",
          "data": {
            "text/html": [
              "<span style=\"color:cyan\"> |-min_value: 32</span>"
            ],
            "text/plain": [
              "<IPython.core.display.HTML object>"
            ]
          },
          "metadata": {
            "tags": []
          }
        },
        {
          "output_type": "display_data",
          "data": {
            "text/html": [
              "<span style=\"color:blue\"> |-sampling: None</span>"
            ],
            "text/plain": [
              "<IPython.core.display.HTML object>"
            ]
          },
          "metadata": {
            "tags": []
          }
        },
        {
          "output_type": "display_data",
          "data": {
            "text/html": [
              "<span style=\"color:cyan\"> |-step: 16</span>"
            ],
            "text/plain": [
              "<IPython.core.display.HTML object>"
            ]
          },
          "metadata": {
            "tags": []
          }
        },
        {
          "output_type": "display_data",
          "data": {
            "text/html": [
              "<span style=\"color:#7E57C2\"><h2 style=\"font-size:16px\">dropout (Float)</h2></span>"
            ],
            "text/plain": [
              "<IPython.core.display.HTML object>"
            ]
          },
          "metadata": {
            "tags": []
          }
        },
        {
          "output_type": "display_data",
          "data": {
            "text/html": [
              "<span style=\"color:cyan\"> |-default: 0.1</span>"
            ],
            "text/plain": [
              "<IPython.core.display.HTML object>"
            ]
          },
          "metadata": {
            "tags": []
          }
        },
        {
          "output_type": "display_data",
          "data": {
            "text/html": [
              "<span style=\"color:blue\"> |-max_value: 0.5</span>"
            ],
            "text/plain": [
              "<IPython.core.display.HTML object>"
            ]
          },
          "metadata": {
            "tags": []
          }
        },
        {
          "output_type": "display_data",
          "data": {
            "text/html": [
              "<span style=\"color:cyan\"> |-min_value: 0.1</span>"
            ],
            "text/plain": [
              "<IPython.core.display.HTML object>"
            ]
          },
          "metadata": {
            "tags": []
          }
        },
        {
          "output_type": "display_data",
          "data": {
            "text/html": [
              "<span style=\"color:blue\"> |-sampling: None</span>"
            ],
            "text/plain": [
              "<IPython.core.display.HTML object>"
            ]
          },
          "metadata": {
            "tags": []
          }
        },
        {
          "output_type": "display_data",
          "data": {
            "text/html": [
              "<span style=\"color:cyan\"> |-step: 0.2</span>"
            ],
            "text/plain": [
              "<IPython.core.display.HTML object>"
            ]
          },
          "metadata": {
            "tags": []
          }
        },
        {
          "output_type": "display_data",
          "data": {
            "text/html": [
              "<span style=\"color:#7E57C2\"><h2 style=\"font-size:16px\">optimizer (Choice)</h2></span>"
            ],
            "text/plain": [
              "<IPython.core.display.HTML object>"
            ]
          },
          "metadata": {
            "tags": []
          }
        },
        {
          "output_type": "display_data",
          "data": {
            "text/html": [
              "<span style=\"color:cyan\"> |-default: adam</span>"
            ],
            "text/plain": [
              "<IPython.core.display.HTML object>"
            ]
          },
          "metadata": {
            "tags": []
          }
        },
        {
          "output_type": "display_data",
          "data": {
            "text/html": [
              "<span style=\"color:blue\"> |-ordered: False</span>"
            ],
            "text/plain": [
              "<IPython.core.display.HTML object>"
            ]
          },
          "metadata": {
            "tags": []
          }
        },
        {
          "output_type": "display_data",
          "data": {
            "text/html": [
              "<span style=\"color:cyan\"> |-values: ['adam', 'rmsprop', 'SGD']</span>"
            ],
            "text/plain": [
              "<IPython.core.display.HTML object>"
            ]
          },
          "metadata": {
            "tags": []
          }
        }
      ]
    },
    {
      "cell_type": "code",
      "metadata": {
        "id": "8SaQ7dt6cXXE",
        "outputId": "96c0c8e2-c37a-45bb-b102-d06f12ea0b5a",
        "colab": {
          "base_uri": "https://localhost:8080/",
          "height": 1000
        }
      },
      "source": [
        "tuner.search(x_train,                  # Данные для обучения\n",
        "             y_train,                  # Правильные ответы\n",
        "             batch_size=256,           # Размер мини-выборки\n",
        "             epochs=20,                # Количество эпох обучения \n",
        "             validation_split=0.2,     # Часть данных, которая будет использоваться для проверки\n",
        "             )"
      ],
      "execution_count": null,
      "outputs": [
        {
          "output_type": "stream",
          "text": [
            "Epoch 1/20\n",
            "  1/175 [..............................] - ETA: 0s - loss: 2.3167 - accuracy: 0.1094WARNING:tensorflow:Callbacks method `on_train_batch_end` is slow compared to the batch time (batch time: 0.0068s vs `on_train_batch_end` time: 0.0195s). Check your callbacks.\n",
            "175/175 [==============================] - 4s 22ms/step - loss: 2.2931 - accuracy: 0.1106 - val_loss: 2.2791 - val_accuracy: 0.1258\n",
            "Epoch 2/20\n",
            "175/175 [==============================] - 4s 21ms/step - loss: 2.2413 - accuracy: 0.1562 - val_loss: 2.1800 - val_accuracy: 0.2362\n",
            "Epoch 3/20\n",
            "175/175 [==============================] - 4s 21ms/step - loss: 2.0846 - accuracy: 0.2460 - val_loss: 2.0282 - val_accuracy: 0.2641\n",
            "Epoch 4/20\n",
            "175/175 [==============================] - 4s 21ms/step - loss: 1.9985 - accuracy: 0.2732 - val_loss: 1.9697 - val_accuracy: 0.2862\n",
            "Epoch 5/20\n",
            "175/175 [==============================] - 4s 21ms/step - loss: 1.9537 - accuracy: 0.2934 - val_loss: 1.9136 - val_accuracy: 0.3152\n",
            "Epoch 6/20\n",
            "175/175 [==============================] - 4s 21ms/step - loss: 1.9177 - accuracy: 0.3127 - val_loss: 1.9027 - val_accuracy: 0.3260\n",
            "Epoch 7/20\n",
            "175/175 [==============================] - 4s 21ms/step - loss: 1.8749 - accuracy: 0.3315 - val_loss: 1.8235 - val_accuracy: 0.3576\n",
            "Epoch 8/20\n",
            "175/175 [==============================] - 4s 21ms/step - loss: 1.8338 - accuracy: 0.3511 - val_loss: 1.7925 - val_accuracy: 0.3692\n",
            "Epoch 9/20\n",
            "175/175 [==============================] - 4s 21ms/step - loss: 1.7951 - accuracy: 0.3633 - val_loss: 1.7493 - val_accuracy: 0.3837\n",
            "Epoch 10/20\n",
            "175/175 [==============================] - 4s 21ms/step - loss: 1.7603 - accuracy: 0.3771 - val_loss: 1.7256 - val_accuracy: 0.3930\n",
            "Epoch 11/20\n",
            "175/175 [==============================] - 4s 22ms/step - loss: 1.7340 - accuracy: 0.3853 - val_loss: 1.6967 - val_accuracy: 0.3957\n",
            "Epoch 12/20\n",
            "175/175 [==============================] - 4s 21ms/step - loss: 1.7011 - accuracy: 0.3952 - val_loss: 1.6655 - val_accuracy: 0.4070\n",
            "Epoch 13/20\n",
            "175/175 [==============================] - 4s 21ms/step - loss: 1.6739 - accuracy: 0.4046 - val_loss: 1.6214 - val_accuracy: 0.4194\n",
            "Epoch 14/20\n",
            "175/175 [==============================] - 4s 21ms/step - loss: 1.6440 - accuracy: 0.4137 - val_loss: 1.5980 - val_accuracy: 0.4252\n",
            "Epoch 15/20\n",
            "175/175 [==============================] - 4s 21ms/step - loss: 1.6219 - accuracy: 0.4218 - val_loss: 1.5843 - val_accuracy: 0.4313\n",
            "Epoch 16/20\n",
            "175/175 [==============================] - 4s 21ms/step - loss: 1.5853 - accuracy: 0.4346 - val_loss: 1.5403 - val_accuracy: 0.4469\n",
            "Epoch 17/20\n",
            "175/175 [==============================] - 4s 21ms/step - loss: 1.5632 - accuracy: 0.4391 - val_loss: 1.5254 - val_accuracy: 0.4549\n",
            "Epoch 18/20\n",
            "175/175 [==============================] - 4s 21ms/step - loss: 1.5405 - accuracy: 0.4472 - val_loss: 1.4978 - val_accuracy: 0.4627\n",
            "Epoch 19/20\n",
            "175/175 [==============================] - 4s 21ms/step - loss: 1.5169 - accuracy: 0.4564 - val_loss: 1.5017 - val_accuracy: 0.4620\n",
            "Epoch 20/20\n",
            "175/175 [==============================] - 4s 21ms/step - loss: 1.4954 - accuracy: 0.4608 - val_loss: 1.4689 - val_accuracy: 0.4708\n"
          ],
          "name": "stdout"
        },
        {
          "output_type": "display_data",
          "data": {
            "text/html": [
              "<span style=\"color:#4527A0\"><h1 style=\"font-size:18px\">Trial complete</h1></span>"
            ],
            "text/plain": [
              "<IPython.core.display.HTML object>"
            ]
          },
          "metadata": {
            "tags": []
          }
        },
        {
          "output_type": "display_data",
          "data": {
            "text/html": [
              "<span style=\"color:#4527A0\"><h1 style=\"font-size:18px\">Trial summary</h1></span>"
            ],
            "text/plain": [
              "<IPython.core.display.HTML object>"
            ]
          },
          "metadata": {
            "tags": []
          }
        },
        {
          "output_type": "display_data",
          "data": {
            "text/html": [
              "<span style=\"color:cyan\"> |-Trial ID: 6bf1d934064ff54cbe1751ab51851566</span>"
            ],
            "text/plain": [
              "<IPython.core.display.HTML object>"
            ]
          },
          "metadata": {
            "tags": []
          }
        },
        {
          "output_type": "display_data",
          "data": {
            "text/html": [
              "<span style=\"color:cyan\"> |-Score: 0.47080355882644653</span>"
            ],
            "text/plain": [
              "<IPython.core.display.HTML object>"
            ]
          },
          "metadata": {
            "tags": []
          }
        },
        {
          "output_type": "display_data",
          "data": {
            "text/html": [
              "<span style=\"color:cyan\"> |-Best step: 0</span>"
            ],
            "text/plain": [
              "<IPython.core.display.HTML object>"
            ]
          },
          "metadata": {
            "tags": []
          }
        },
        {
          "output_type": "display_data",
          "data": {
            "text/html": [
              "<span style=\"color:#7E57C2\"><h2 style=\"font-size:16px\">Hyperparameters:</h2></span>"
            ],
            "text/plain": [
              "<IPython.core.display.HTML object>"
            ]
          },
          "metadata": {
            "tags": []
          }
        },
        {
          "output_type": "display_data",
          "data": {
            "text/html": [
              "<span style=\"color:cyan\"> |-activation: sigmoid</span>"
            ],
            "text/plain": [
              "<IPython.core.display.HTML object>"
            ]
          },
          "metadata": {
            "tags": []
          }
        },
        {
          "output_type": "display_data",
          "data": {
            "text/html": [
              "<span style=\"color:blue\"> |-activation1: relu</span>"
            ],
            "text/plain": [
              "<IPython.core.display.HTML object>"
            ]
          },
          "metadata": {
            "tags": []
          }
        },
        {
          "output_type": "display_data",
          "data": {
            "text/html": [
              "<span style=\"color:cyan\"> |-dropout: 0.30000000000000004</span>"
            ],
            "text/plain": [
              "<IPython.core.display.HTML object>"
            ]
          },
          "metadata": {
            "tags": []
          }
        },
        {
          "output_type": "display_data",
          "data": {
            "text/html": [
              "<span style=\"color:blue\"> |-filters: 48</span>"
            ],
            "text/plain": [
              "<IPython.core.display.HTML object>"
            ]
          },
          "metadata": {
            "tags": []
          }
        },
        {
          "output_type": "display_data",
          "data": {
            "text/html": [
              "<span style=\"color:cyan\"> |-optimizer: SGD</span>"
            ],
            "text/plain": [
              "<IPython.core.display.HTML object>"
            ]
          },
          "metadata": {
            "tags": []
          }
        },
        {
          "output_type": "stream",
          "text": [
            "Epoch 1/20\n",
            "175/175 [==============================] - 5s 26ms/step - loss: 1.6380 - accuracy: 0.4055 - val_loss: 1.2956 - val_accuracy: 0.5448\n",
            "Epoch 2/20\n",
            "175/175 [==============================] - 4s 25ms/step - loss: 1.1928 - accuracy: 0.5752 - val_loss: 1.0462 - val_accuracy: 0.6302\n",
            "Epoch 3/20\n",
            "175/175 [==============================] - 4s 25ms/step - loss: 0.9848 - accuracy: 0.6526 - val_loss: 0.9013 - val_accuracy: 0.6881\n",
            "Epoch 4/20\n",
            "175/175 [==============================] - 4s 25ms/step - loss: 0.8672 - accuracy: 0.6966 - val_loss: 0.8424 - val_accuracy: 0.7070\n",
            "Epoch 5/20\n",
            "175/175 [==============================] - 4s 25ms/step - loss: 0.7627 - accuracy: 0.7309 - val_loss: 0.7730 - val_accuracy: 0.7362\n",
            "Epoch 6/20\n",
            "175/175 [==============================] - 4s 26ms/step - loss: 0.6808 - accuracy: 0.7603 - val_loss: 0.7170 - val_accuracy: 0.7561\n",
            "Epoch 7/20\n",
            "175/175 [==============================] - 4s 26ms/step - loss: 0.6002 - accuracy: 0.7898 - val_loss: 0.6998 - val_accuracy: 0.7588\n",
            "Epoch 8/20\n",
            "175/175 [==============================] - 5s 26ms/step - loss: 0.5273 - accuracy: 0.8135 - val_loss: 0.6687 - val_accuracy: 0.7696\n",
            "Epoch 9/20\n",
            "175/175 [==============================] - 4s 25ms/step - loss: 0.4604 - accuracy: 0.8378 - val_loss: 0.6933 - val_accuracy: 0.7646\n",
            "Epoch 10/20\n",
            "175/175 [==============================] - 5s 26ms/step - loss: 0.3921 - accuracy: 0.8633 - val_loss: 0.6681 - val_accuracy: 0.7796\n",
            "Epoch 11/20\n",
            "175/175 [==============================] - 4s 25ms/step - loss: 0.3343 - accuracy: 0.8817 - val_loss: 0.6977 - val_accuracy: 0.7734\n",
            "Epoch 12/20\n",
            "175/175 [==============================] - 4s 25ms/step - loss: 0.2832 - accuracy: 0.9009 - val_loss: 0.7488 - val_accuracy: 0.7727\n",
            "Epoch 13/20\n",
            "175/175 [==============================] - 4s 25ms/step - loss: 0.2407 - accuracy: 0.9143 - val_loss: 0.7553 - val_accuracy: 0.7750\n",
            "Epoch 14/20\n",
            "175/175 [==============================] - 4s 25ms/step - loss: 0.2055 - accuracy: 0.9280 - val_loss: 0.7803 - val_accuracy: 0.7754\n",
            "Epoch 15/20\n",
            "175/175 [==============================] - 4s 25ms/step - loss: 0.1780 - accuracy: 0.9375 - val_loss: 0.8406 - val_accuracy: 0.7691\n",
            "Epoch 16/20\n",
            "175/175 [==============================] - 4s 26ms/step - loss: 0.1558 - accuracy: 0.9459 - val_loss: 0.8532 - val_accuracy: 0.7797\n",
            "Epoch 17/20\n",
            "175/175 [==============================] - 4s 25ms/step - loss: 0.1404 - accuracy: 0.9514 - val_loss: 0.8924 - val_accuracy: 0.7716\n",
            "Epoch 18/20\n",
            "175/175 [==============================] - 4s 25ms/step - loss: 0.1227 - accuracy: 0.9573 - val_loss: 0.9383 - val_accuracy: 0.7768\n",
            "Epoch 19/20\n",
            "175/175 [==============================] - 4s 25ms/step - loss: 0.1124 - accuracy: 0.9616 - val_loss: 0.9204 - val_accuracy: 0.7756\n",
            "Epoch 20/20\n",
            "175/175 [==============================] - 4s 25ms/step - loss: 0.1089 - accuracy: 0.9615 - val_loss: 0.9435 - val_accuracy: 0.7776\n"
          ],
          "name": "stdout"
        },
        {
          "output_type": "display_data",
          "data": {
            "text/html": [
              "<span style=\"color:#4527A0\"><h1 style=\"font-size:18px\">Trial complete</h1></span>"
            ],
            "text/plain": [
              "<IPython.core.display.HTML object>"
            ]
          },
          "metadata": {
            "tags": []
          }
        },
        {
          "output_type": "display_data",
          "data": {
            "text/html": [
              "<span style=\"color:#4527A0\"><h1 style=\"font-size:18px\">Trial summary</h1></span>"
            ],
            "text/plain": [
              "<IPython.core.display.HTML object>"
            ]
          },
          "metadata": {
            "tags": []
          }
        },
        {
          "output_type": "display_data",
          "data": {
            "text/html": [
              "<span style=\"color:cyan\"> |-Trial ID: 538ce06cca5cc56993ccd7822a2eef2b</span>"
            ],
            "text/plain": [
              "<IPython.core.display.HTML object>"
            ]
          },
          "metadata": {
            "tags": []
          }
        },
        {
          "output_type": "display_data",
          "data": {
            "text/html": [
              "<span style=\"color:cyan\"> |-Score: 0.7797321677207947</span>"
            ],
            "text/plain": [
              "<IPython.core.display.HTML object>"
            ]
          },
          "metadata": {
            "tags": []
          }
        },
        {
          "output_type": "display_data",
          "data": {
            "text/html": [
              "<span style=\"color:cyan\"> |-Best step: 0</span>"
            ],
            "text/plain": [
              "<IPython.core.display.HTML object>"
            ]
          },
          "metadata": {
            "tags": []
          }
        },
        {
          "output_type": "display_data",
          "data": {
            "text/html": [
              "<span style=\"color:#7E57C2\"><h2 style=\"font-size:16px\">Hyperparameters:</h2></span>"
            ],
            "text/plain": [
              "<IPython.core.display.HTML object>"
            ]
          },
          "metadata": {
            "tags": []
          }
        },
        {
          "output_type": "display_data",
          "data": {
            "text/html": [
              "<span style=\"color:cyan\"> |-activation: elu</span>"
            ],
            "text/plain": [
              "<IPython.core.display.HTML object>"
            ]
          },
          "metadata": {
            "tags": []
          }
        },
        {
          "output_type": "display_data",
          "data": {
            "text/html": [
              "<span style=\"color:blue\"> |-activation1: relu</span>"
            ],
            "text/plain": [
              "<IPython.core.display.HTML object>"
            ]
          },
          "metadata": {
            "tags": []
          }
        },
        {
          "output_type": "display_data",
          "data": {
            "text/html": [
              "<span style=\"color:cyan\"> |-dropout: 0.30000000000000004</span>"
            ],
            "text/plain": [
              "<IPython.core.display.HTML object>"
            ]
          },
          "metadata": {
            "tags": []
          }
        },
        {
          "output_type": "display_data",
          "data": {
            "text/html": [
              "<span style=\"color:blue\"> |-filters: 64</span>"
            ],
            "text/plain": [
              "<IPython.core.display.HTML object>"
            ]
          },
          "metadata": {
            "tags": []
          }
        },
        {
          "output_type": "display_data",
          "data": {
            "text/html": [
              "<span style=\"color:cyan\"> |-optimizer: adam</span>"
            ],
            "text/plain": [
              "<IPython.core.display.HTML object>"
            ]
          },
          "metadata": {
            "tags": []
          }
        },
        {
          "output_type": "stream",
          "text": [
            "Epoch 1/20\n",
            "175/175 [==============================] - 4s 25ms/step - loss: 1.9694 - accuracy: 0.3642 - val_loss: 1.4001 - val_accuracy: 0.5044\n",
            "Epoch 2/20\n",
            "175/175 [==============================] - 4s 24ms/step - loss: 1.3188 - accuracy: 0.5421 - val_loss: 1.3122 - val_accuracy: 0.5475\n",
            "Epoch 3/20\n",
            "175/175 [==============================] - 4s 24ms/step - loss: 1.1964 - accuracy: 0.5860 - val_loss: 1.1355 - val_accuracy: 0.5953\n",
            "Epoch 4/20\n",
            "175/175 [==============================] - 4s 24ms/step - loss: 1.1196 - accuracy: 0.6117 - val_loss: 1.0867 - val_accuracy: 0.6243\n",
            "Epoch 5/20\n",
            "175/175 [==============================] - 4s 24ms/step - loss: 1.0601 - accuracy: 0.6312 - val_loss: 0.9680 - val_accuracy: 0.6683\n",
            "Epoch 6/20\n",
            "175/175 [==============================] - 4s 24ms/step - loss: 0.9946 - accuracy: 0.6534 - val_loss: 0.9471 - val_accuracy: 0.6727\n",
            "Epoch 7/20\n",
            "175/175 [==============================] - 4s 24ms/step - loss: 0.9184 - accuracy: 0.6794 - val_loss: 0.9500 - val_accuracy: 0.6758\n",
            "Epoch 8/20\n",
            "175/175 [==============================] - 4s 24ms/step - loss: 0.8409 - accuracy: 0.7042 - val_loss: 0.8797 - val_accuracy: 0.6973\n",
            "Epoch 9/20\n",
            "175/175 [==============================] - 4s 24ms/step - loss: 0.7706 - accuracy: 0.7299 - val_loss: 0.8346 - val_accuracy: 0.7161\n",
            "Epoch 10/20\n",
            "166/175 [===========================>..] - ETA: 0s - loss: 0.6982 - accuracy: 0.7558"
          ],
          "name": "stdout"
        }
      ]
    },
    {
      "cell_type": "code",
      "metadata": {
        "id": "ISe604KFcZWb"
      },
      "source": [
        ""
      ],
      "execution_count": null,
      "outputs": []
    }
  ]
}