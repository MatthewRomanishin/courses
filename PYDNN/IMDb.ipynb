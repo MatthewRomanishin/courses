{
  "nbformat": 4,
  "nbformat_minor": 0,
  "metadata": {
    "colab": {
      "name": "IMDb.ipynb",
      "provenance": [],
      "authorship_tag": "ABX9TyMkyLNGPtxC83Q3K/QNcUq1",
      "include_colab_link": true
    },
    "kernelspec": {
      "name": "python3",
      "display_name": "Python 3"
    }
  },
  "cells": [
    {
      "cell_type": "markdown",
      "metadata": {
        "id": "view-in-github",
        "colab_type": "text"
      },
      "source": [
        "<a href=\"https://colab.research.google.com/github/MatthewRomanishin/courses/blob/main/PYDNN/IMDb.ipynb\" target=\"_parent\"><img src=\"https://colab.research.google.com/assets/colab-badge.svg\" alt=\"Open In Colab\"/></a>"
      ]
    },
    {
      "cell_type": "code",
      "metadata": {
        "colab": {
          "base_uri": "https://localhost:8080/"
        },
        "id": "eeUGc3MHlbGB",
        "outputId": "c30b5793-96cf-44dd-837e-0d74abe81bc7"
      },
      "source": [
        "from google.colab import drive\n",
        "drive.mount('/content/gdrive')"
      ],
      "execution_count": null,
      "outputs": [
        {
          "output_type": "stream",
          "text": [
            "Mounted at /content/gdrive\n"
          ],
          "name": "stdout"
        }
      ]
    },
    {
      "cell_type": "code",
      "metadata": {
        "id": "2FG1K7CGlhgC"
      },
      "source": [
        "from tensorflow.keras.datasets import imdb\n",
        "from tensorflow.keras.models import Sequential\n",
        "from tensorflow.keras.layers import Dense, Embedding, Flatten, Dropout\n",
        "from tensorflow.keras import utils\n",
        "from tensorflow.keras.preprocessing.sequence import pad_sequences\n",
        "from tensorflow.keras.callbacks import EarlyStopping, ModelCheckpoint, ReduceLROnPlateau\n",
        "import numpy as np\n",
        "import pandas as pd\n"
      ],
      "execution_count": null,
      "outputs": []
    },
    {
      "cell_type": "code",
      "metadata": {
        "colab": {
          "base_uri": "https://localhost:8080/"
        },
        "id": "wmyKea2imeRs",
        "outputId": "d4ffa06c-e9f2-4d3a-8fb6-4244b9d8a74a"
      },
      "source": [
        "KAGGLE_PATH = \"/content/gdrive/MyDrive/kaggle/IMDb/\"\n",
        "x_train = np.load(KAGGLE_PATH + 'train.npy', allow_pickle=True)\n",
        "y_train = np.load(KAGGLE_PATH + 'train_label.npy', allow_pickle=True)\n",
        "x_test = np.load(KAGGLE_PATH + 'test.npy', allow_pickle=True)\n",
        "x_train.shape, y_train.shape, x_test.shape, "
      ],
      "execution_count": null,
      "outputs": [
        {
          "output_type": "execute_result",
          "data": {
            "text/plain": [
              "((46000,), (46000,), (4000,))"
            ]
          },
          "metadata": {
            "tags": []
          },
          "execution_count": 3
        }
      ]
    },
    {
      "cell_type": "code",
      "metadata": {
        "id": "SP3V6sfvokUm"
      },
      "source": [
        "max_words = 18_000\n",
        "maxlen = 250\n",
        "x_train = pad_sequences(x_train, maxlen=maxlen, padding='post')\n",
        "x_test = pad_sequences(x_test, maxlen=maxlen, padding='post')"
      ],
      "execution_count": null,
      "outputs": []
    },
    {
      "cell_type": "code",
      "metadata": {
        "id": "GnqPxMV0pFIL"
      },
      "source": [
        "model = Sequential()\n",
        "model.add(Embedding(max_words, 1, input_length=maxlen))\n",
        "model.add(Dropout(0.25))\n",
        "model.add(Flatten())\n",
        "model.add(Dense(128, activation='softmax'))\n",
        "model.add(Dropout(0.25))\n",
        "model.add(Dense(64, activation='relu'))\n",
        "model.add(Dropout(0.25))\n",
        "model.add(Dense(1, activation='sigmoid'))\n"
      ],
      "execution_count": null,
      "outputs": []
    },
    {
      "cell_type": "code",
      "metadata": {
        "id": "wc4dIELhpHxv"
      },
      "source": [
        "model.compile(optimizer='adam', \n",
        "              loss='binary_crossentropy', \n",
        "              metrics=['accuracy'])"
      ],
      "execution_count": null,
      "outputs": []
    },
    {
      "cell_type": "code",
      "metadata": {
        "colab": {
          "base_uri": "https://localhost:8080/"
        },
        "id": "r__rO3GHpLx-",
        "outputId": "8f57eb87-4af4-457b-be9b-438b9918cbb1"
      },
      "source": [
        "history = model.fit(x_train, \n",
        "                    y_train, \n",
        "                    epochs=5,\n",
        "                    batch_size=256,\n",
        "                    validation_split=0.1)"
      ],
      "execution_count": null,
      "outputs": [
        {
          "output_type": "stream",
          "text": [
            "Epoch 1/5\n",
            "162/162 [==============================] - 1s 8ms/step - loss: 0.6927 - accuracy: 0.5160 - val_loss: 0.6874 - val_accuracy: 0.6843\n",
            "Epoch 2/5\n",
            "162/162 [==============================] - 1s 9ms/step - loss: 0.5105 - accuracy: 0.7806 - val_loss: 0.3185 - val_accuracy: 0.8733\n",
            "Epoch 3/5\n",
            "162/162 [==============================] - 2s 13ms/step - loss: 0.3181 - accuracy: 0.8684 - val_loss: 0.2690 - val_accuracy: 0.8907\n",
            "Epoch 4/5\n",
            "162/162 [==============================] - 2s 14ms/step - loss: 0.2797 - accuracy: 0.8873 - val_loss: 0.2547 - val_accuracy: 0.8948\n",
            "Epoch 5/5\n",
            "162/162 [==============================] - 2s 14ms/step - loss: 0.2598 - accuracy: 0.8966 - val_loss: 0.2500 - val_accuracy: 0.8967\n"
          ],
          "name": "stdout"
        }
      ]
    },
    {
      "cell_type": "code",
      "metadata": {
        "id": "mltt3GpVpPbm"
      },
      "source": [
        "sample_submission = pd.read_csv(KAGGLE_PATH + 'sample_supmission.csv', index_col='id')\n",
        "sample_submission.label = model.predict_classes(x_test)\n",
        "sample_submission.to_csv(\"sample_submission.csv\")"
      ],
      "execution_count": null,
      "outputs": []
    },
    {
      "cell_type": "code",
      "metadata": {
        "id": "_TIDL0EVrkRo"
      },
      "source": [
        ""
      ],
      "execution_count": null,
      "outputs": []
    }
  ]
}